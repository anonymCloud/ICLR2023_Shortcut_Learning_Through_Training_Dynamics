{
 "cells": [
  {
   "cell_type": "markdown",
   "metadata": {},
   "source": [
    "# Import Libraries"
   ]
  },
  {
   "cell_type": "code",
   "execution_count": 1,
   "metadata": {},
   "outputs": [
    {
     "data": {
      "application/javascript": "IPython.notebook.set_autosave_interval(10000)"
     },
     "metadata": {},
     "output_type": "display_data"
    },
    {
     "name": "stdout",
     "output_type": "stream",
     "text": [
      "Autosaving every 10 seconds\n"
     ]
    }
   ],
   "source": [
    "%load_ext autoreload\n",
    "%autoreload 2  \n",
    "%autosave 10"
   ]
  },
  {
   "cell_type": "code",
   "execution_count": 2,
   "metadata": {},
   "outputs": [],
   "source": [
    "import torch, torchvision\n",
    "import torchvision.transforms as transforms\n",
    "import torch.nn as nn\n",
    "import torch.optim as optim\n",
    "import torch.nn.functional as F\n",
    "import torch.backends.cudnn as cudnn\n",
    "\n",
    "import matplotlib.pyplot as plt\n",
    "from matplotlib import cm\n",
    "import numpy as np\n",
    "import pandas as pd\n",
    "from PIL import Image\n",
    "import random, os, sys, argparse\n",
    "from pathlib import Path\n",
    "from tqdm import tqdm\n",
    "import pickle\n",
    "\n",
    "from pytorch_grad_cam import GradCAM, ScoreCAM, GradCAMPlusPlus, AblationCAM, XGradCAM, EigenCAM, FullGrad\n",
    "from pytorch_grad_cam.utils.model_targets import ClassifierOutputTarget\n",
    "from pytorch_grad_cam.utils.image import show_cam_on_image\n",
    "import shap"
   ]
  },
  {
   "cell_type": "code",
   "execution_count": 3,
   "metadata": {},
   "outputs": [],
   "source": [
    "\n",
    "from models import *"
   ]
  },
  {
   "cell_type": "markdown",
   "metadata": {},
   "source": [
    "# User Hyperparams"
   ]
  },
  {
   "cell_type": "code",
   "execution_count": null,
   "metadata": {},
   "outputs": [],
   "source": []
  },
  {
   "cell_type": "code",
   "execution_count": 4,
   "metadata": {},
   "outputs": [],
   "source": [
    "model = 'resnet18' \n",
    "dataset = 'cow_vs_birds_balanced'\n",
    "num_classes = 2  \n",
    "expt_name = f'{model}_{dataset}_{int(random.random()*100000)}'\n",
    "save_dir = 'xxx'\n",
    "\n",
    "num_epochs = 500\n",
    "lr = 0.01\n",
    "seed = 0\n",
    "num_ch = 3 # num of channels in image\n",
    "num_embs = 2000 # 1500 for mnist, 10k for cifar10\n",
    "K = 29 # K neighbours\n",
    "num_test_imgs = 100 # num of test images for plotting PD\n",
    "lp_norm = 1 # for computing KNN\n",
    "knn_pos_thresh = 0.5\n",
    "knn_neg_thresh = 0.5"
   ]
  },
  {
   "cell_type": "markdown",
   "metadata": {},
   "source": [
    "# Util Functions"
   ]
  },
  {
   "cell_type": "code",
   "execution_count": 5,
   "metadata": {},
   "outputs": [],
   "source": [
    "# takes in a list of img paths and plots grid of images\n",
    "def plot_images(img_list, rows, cols, titles=None):\n",
    "    plt.figure(figsize=(7.5*cols,7.5*rows))\n",
    "    for i in range(rows*cols):\n",
    "        plt.subplot(rows,cols,i+1)\n",
    "        if type(img_list[0])==str:\n",
    "            img = plt.imread(img_list[i])\n",
    "        else:\n",
    "            img = img_list[i]\n",
    "        plt.imshow(img)\n",
    "        if titles is not None:\n",
    "            plt.title(titles[i])\n",
    "    plt.show()\n",
    "    \n",
    "class center_crop(object):\n",
    "    def crop_center(self, img):\n",
    "        _, y, x = img.shape\n",
    "        crop_size = np.min([y,x])\n",
    "        startx = x // 2 - (crop_size // 2)\n",
    "        starty = y // 2 - (crop_size // 2)\n",
    "        return img[:, starty:starty + crop_size, startx:startx + crop_size]\n",
    "    \n",
    "    def __call__(self, img):\n",
    "        return self.crop_center(img)"
   ]
  },
  {
   "cell_type": "markdown",
   "metadata": {},
   "source": [
    "# Load Dataset"
   ]
  },
  {
   "cell_type": "code",
   "execution_count": 6,
   "metadata": {},
   "outputs": [],
   "source": [
    "# Setting the seed\n",
    "np.random.seed(seed)\n",
    "random.seed(seed)\n",
    "torch.manual_seed(seed)\n",
    "torch.cuda.manual_seed_all(seed)\n",
    "torch.backends.cudnn.deterministic = True\n",
    "torch.backends.cudnn.benchmark = False"
   ]
  },
  {
   "cell_type": "code",
   "execution_count": null,
   "metadata": {},
   "outputs": [],
   "source": []
  },
  {
   "cell_type": "code",
   "execution_count": 7,
   "metadata": {},
   "outputs": [
    {
     "name": "stdout",
     "output_type": "stream",
     "text": [
      "==> Preparing data..\n"
     ]
    }
   ],
   "source": [
    "# datasets\n",
    "print('==> Preparing data..')\n",
    "if dataset=='cow_vs_birds_spurious':\n",
    "    # transformations\n",
    "    trans = torchvision.transforms.Compose([\n",
    "                torchvision.transforms.Resize((224,224)),\n",
    "                torchvision.transforms.ToTensor(),\n",
    "                torchvision.transforms.Lambda(center_crop()),\n",
    "            ])  \n",
    "\n",
    "    \n",
    "    trainset = torchvision.datasets.ImageFolder(root=f'{root_dir}/train/',transform=trans)\n",
    "    testset = torchvision.datasets.ImageFolder(root=f'{root_dir}/test/',transform=trans)\n",
    "    test_pd_set = torchvision.datasets.ImageFolder(root=f'{root_dir}/test_pd/',transform=trans)\n",
    "    \n",
    "    trainloader = torch.utils.data.DataLoader(trainset, batch_size=128, shuffle=True, num_workers=4)\n",
    "    testloader = torch.utils.data.DataLoader(testset, batch_size=128, shuffle=False, num_workers=4)\n",
    "elif dataset=='cow_vs_birds_balanced':\n",
    "    # transformations\n",
    "    trans = torchvision.transforms.Compose([\n",
    "                torchvision.transforms.Resize((224,224)),\n",
    "                torchvision.transforms.ToTensor(),\n",
    "                torchvision.transforms.Lambda(center_crop()),\n",
    "            ])  \n",
    "\n",
    "    root_dir = 'xxx'\n",
    "    trainset = torchvision.datasets.ImageFolder(root=f'{root_dir}/train/',transform=trans)\n",
    "    testset = torchvision.datasets.ImageFolder(root=f'xxx',transform=trans)\n",
    "    \n",
    "    trainloader = torch.utils.data.DataLoader(trainset, batch_size=128, shuffle=True, num_workers=4)\n",
    "    testloader = torch.utils.data.DataLoader(testset, batch_size=128, shuffle=False, num_workers=4)"
   ]
  },
  {
   "cell_type": "code",
   "execution_count": 8,
   "metadata": {},
   "outputs": [],
   "source": [
    "# for batch_idx, (inputs, targets) in enumerate(tqdm(trainloader)):\n",
    "#     break\n",
    "    "
   ]
  },
  {
   "cell_type": "markdown",
   "metadata": {},
   "source": [
    "# Train Model"
   ]
  },
  {
   "cell_type": "code",
   "execution_count": null,
   "metadata": {},
   "outputs": [],
   "source": []
  },
  {
   "cell_type": "code",
   "execution_count": 9,
   "metadata": {
    "scrolled": true
   },
   "outputs": [
    {
     "name": "stdout",
     "output_type": "stream",
     "text": [
      "==> Building model..\n",
      "\n",
      "Epoch: 0\n"
     ]
    },
    {
     "name": "stderr",
     "output_type": "stream",
     "text": [
      "100%|██████████| 8/8 [00:30<00:00,  3.85s/it]\n"
     ]
    },
    {
     "name": "stdout",
     "output_type": "stream",
     "text": [
      "7 8 Loss: 22.120 | Acc: 53.539% (537/1003)\n"
     ]
    },
    {
     "name": "stderr",
     "output_type": "stream",
     "text": [
      "100%|██████████| 3/3 [00:03<00:00,  1.24s/it]\n"
     ]
    },
    {
     "name": "stdout",
     "output_type": "stream",
     "text": [
      "2 3 Loss: 48501.778 | Acc: 46.386% (154/332)\n",
      "Saving..\n",
      "\n",
      "Epoch: 1\n"
     ]
    },
    {
     "name": "stderr",
     "output_type": "stream",
     "text": [
      "100%|██████████| 8/8 [00:12<00:00,  1.58s/it]\n"
     ]
    },
    {
     "name": "stdout",
     "output_type": "stream",
     "text": [
      "7 8 Loss: 10.264 | Acc: 46.959% (471/1003)\n"
     ]
    },
    {
     "name": "stderr",
     "output_type": "stream",
     "text": [
      "100%|██████████| 3/3 [00:02<00:00,  1.24it/s]\n"
     ]
    },
    {
     "name": "stdout",
     "output_type": "stream",
     "text": [
      "2 3 Loss: 2291.314 | Acc: 49.699% (165/332)\n",
      "Saving..\n",
      "\n",
      "Epoch: 2\n"
     ]
    },
    {
     "name": "stderr",
     "output_type": "stream",
     "text": [
      "100%|██████████| 8/8 [00:12<00:00,  1.58s/it]\n"
     ]
    },
    {
     "name": "stdout",
     "output_type": "stream",
     "text": [
      "7 8 Loss: 3.894 | Acc: 51.944% (521/1003)\n"
     ]
    },
    {
     "name": "stderr",
     "output_type": "stream",
     "text": [
      "100%|██████████| 3/3 [00:02<00:00,  1.25it/s]\n"
     ]
    },
    {
     "name": "stdout",
     "output_type": "stream",
     "text": [
      "2 3 Loss: 954.518 | Acc: 52.108% (173/332)\n",
      "Saving..\n",
      "\n",
      "Epoch: 3\n"
     ]
    },
    {
     "name": "stderr",
     "output_type": "stream",
     "text": [
      "100%|██████████| 8/8 [00:12<00:00,  1.59s/it]\n"
     ]
    },
    {
     "name": "stdout",
     "output_type": "stream",
     "text": [
      "7 8 Loss: 2.501 | Acc: 55.633% (558/1003)\n"
     ]
    },
    {
     "name": "stderr",
     "output_type": "stream",
     "text": [
      "100%|██████████| 3/3 [00:02<00:00,  1.24it/s]\n"
     ]
    },
    {
     "name": "stdout",
     "output_type": "stream",
     "text": [
      "2 3 Loss: 23.427 | Acc: 50.904% (169/332)\n",
      "\n",
      "Epoch: 4\n"
     ]
    },
    {
     "name": "stderr",
     "output_type": "stream",
     "text": [
      "100%|██████████| 8/8 [00:12<00:00,  1.61s/it]\n"
     ]
    },
    {
     "name": "stdout",
     "output_type": "stream",
     "text": [
      "7 8 Loss: 2.091 | Acc: 54.636% (548/1003)\n"
     ]
    },
    {
     "name": "stderr",
     "output_type": "stream",
     "text": [
      "100%|██████████| 3/3 [00:02<00:00,  1.30it/s]\n"
     ]
    },
    {
     "name": "stdout",
     "output_type": "stream",
     "text": [
      "2 3 Loss: 9.328 | Acc: 56.024% (186/332)\n",
      "Saving..\n",
      "\n",
      "Epoch: 5\n"
     ]
    },
    {
     "name": "stderr",
     "output_type": "stream",
     "text": [
      "100%|██████████| 8/8 [00:12<00:00,  1.60s/it]\n"
     ]
    },
    {
     "name": "stdout",
     "output_type": "stream",
     "text": [
      "7 8 Loss: 1.660 | Acc: 57.129% (573/1003)\n"
     ]
    },
    {
     "name": "stderr",
     "output_type": "stream",
     "text": [
      "100%|██████████| 3/3 [00:02<00:00,  1.26it/s]\n"
     ]
    },
    {
     "name": "stdout",
     "output_type": "stream",
     "text": [
      "2 3 Loss: 2.402 | Acc: 57.229% (190/332)\n",
      "Saving..\n",
      "\n",
      "Epoch: 6\n"
     ]
    },
    {
     "name": "stderr",
     "output_type": "stream",
     "text": [
      "100%|██████████| 8/8 [00:12<00:00,  1.59s/it]\n"
     ]
    },
    {
     "name": "stdout",
     "output_type": "stream",
     "text": [
      "7 8 Loss: 1.734 | Acc: 56.530% (567/1003)\n"
     ]
    },
    {
     "name": "stderr",
     "output_type": "stream",
     "text": [
      "100%|██████████| 3/3 [00:02<00:00,  1.27it/s]\n"
     ]
    },
    {
     "name": "stdout",
     "output_type": "stream",
     "text": [
      "2 3 Loss: 47.583 | Acc: 57.530% (191/332)\n",
      "Saving..\n",
      "\n",
      "Epoch: 7\n"
     ]
    },
    {
     "name": "stderr",
     "output_type": "stream",
     "text": [
      "100%|██████████| 8/8 [00:12<00:00,  1.59s/it]\n"
     ]
    },
    {
     "name": "stdout",
     "output_type": "stream",
     "text": [
      "7 8 Loss: 1.353 | Acc: 63.509% (637/1003)\n"
     ]
    },
    {
     "name": "stderr",
     "output_type": "stream",
     "text": [
      "100%|██████████| 3/3 [00:02<00:00,  1.25it/s]\n"
     ]
    },
    {
     "name": "stdout",
     "output_type": "stream",
     "text": [
      "2 3 Loss: 9.855 | Acc: 54.819% (182/332)\n",
      "\n",
      "Epoch: 8\n"
     ]
    },
    {
     "name": "stderr",
     "output_type": "stream",
     "text": [
      "100%|██████████| 8/8 [00:12<00:00,  1.59s/it]\n"
     ]
    },
    {
     "name": "stdout",
     "output_type": "stream",
     "text": [
      "7 8 Loss: 1.415 | Acc: 60.718% (609/1003)\n"
     ]
    },
    {
     "name": "stderr",
     "output_type": "stream",
     "text": [
      "100%|██████████| 3/3 [00:02<00:00,  1.24it/s]\n"
     ]
    },
    {
     "name": "stdout",
     "output_type": "stream",
     "text": [
      "2 3 Loss: 0.956 | Acc: 60.241% (200/332)\n",
      "Saving..\n",
      "\n",
      "Epoch: 9\n"
     ]
    },
    {
     "name": "stderr",
     "output_type": "stream",
     "text": [
      "100%|██████████| 8/8 [00:12<00:00,  1.59s/it]\n"
     ]
    },
    {
     "name": "stdout",
     "output_type": "stream",
     "text": [
      "7 8 Loss: 1.600 | Acc: 64.108% (643/1003)\n"
     ]
    },
    {
     "name": "stderr",
     "output_type": "stream",
     "text": [
      "100%|██████████| 3/3 [00:02<00:00,  1.25it/s]\n"
     ]
    },
    {
     "name": "stdout",
     "output_type": "stream",
     "text": [
      "2 3 Loss: 0.681 | Acc: 54.518% (181/332)\n",
      "\n",
      "Epoch: 10\n"
     ]
    },
    {
     "name": "stderr",
     "output_type": "stream",
     "text": [
      "100%|██████████| 8/8 [00:12<00:00,  1.60s/it]\n"
     ]
    },
    {
     "name": "stdout",
     "output_type": "stream",
     "text": [
      "7 8 Loss: 1.186 | Acc: 54.437% (546/1003)\n"
     ]
    },
    {
     "name": "stderr",
     "output_type": "stream",
     "text": [
      "100%|██████████| 3/3 [00:02<00:00,  1.23it/s]\n"
     ]
    },
    {
     "name": "stdout",
     "output_type": "stream",
     "text": [
      "2 3 Loss: 46.372 | Acc: 57.229% (190/332)\n",
      "\n",
      "Epoch: 11\n"
     ]
    },
    {
     "name": "stderr",
     "output_type": "stream",
     "text": [
      "100%|██████████| 8/8 [00:12<00:00,  1.59s/it]\n"
     ]
    },
    {
     "name": "stdout",
     "output_type": "stream",
     "text": [
      "7 8 Loss: 1.789 | Acc: 60.718% (609/1003)\n"
     ]
    },
    {
     "name": "stderr",
     "output_type": "stream",
     "text": [
      "100%|██████████| 3/3 [00:02<00:00,  1.24it/s]\n"
     ]
    },
    {
     "name": "stdout",
     "output_type": "stream",
     "text": [
      "2 3 Loss: 13.036 | Acc: 57.831% (192/332)\n",
      "\n",
      "Epoch: 12\n"
     ]
    },
    {
     "name": "stderr",
     "output_type": "stream",
     "text": [
      "100%|██████████| 8/8 [00:12<00:00,  1.59s/it]\n"
     ]
    },
    {
     "name": "stdout",
     "output_type": "stream",
     "text": [
      "7 8 Loss: 1.649 | Acc: 59.123% (593/1003)\n"
     ]
    },
    {
     "name": "stderr",
     "output_type": "stream",
     "text": [
      "100%|██████████| 3/3 [00:02<00:00,  1.25it/s]\n"
     ]
    },
    {
     "name": "stdout",
     "output_type": "stream",
     "text": [
      "2 3 Loss: 1.557 | Acc: 52.108% (173/332)\n",
      "\n",
      "Epoch: 13\n"
     ]
    },
    {
     "name": "stderr",
     "output_type": "stream",
     "text": [
      "100%|██████████| 8/8 [00:12<00:00,  1.58s/it]\n"
     ]
    },
    {
     "name": "stdout",
     "output_type": "stream",
     "text": [
      "7 8 Loss: 1.100 | Acc: 62.512% (627/1003)\n"
     ]
    },
    {
     "name": "stderr",
     "output_type": "stream",
     "text": [
      "100%|██████████| 3/3 [00:02<00:00,  1.29it/s]\n"
     ]
    },
    {
     "name": "stdout",
     "output_type": "stream",
     "text": [
      "2 3 Loss: 0.970 | Acc: 49.699% (165/332)\n",
      "\n",
      "Epoch: 14\n"
     ]
    },
    {
     "name": "stderr",
     "output_type": "stream",
     "text": [
      "100%|██████████| 8/8 [00:12<00:00,  1.59s/it]\n"
     ]
    },
    {
     "name": "stdout",
     "output_type": "stream",
     "text": [
      "7 8 Loss: 1.706 | Acc: 61.216% (614/1003)\n"
     ]
    },
    {
     "name": "stderr",
     "output_type": "stream",
     "text": [
      "100%|██████████| 3/3 [00:02<00:00,  1.26it/s]\n"
     ]
    },
    {
     "name": "stdout",
     "output_type": "stream",
     "text": [
      "2 3 Loss: 1.009 | Acc: 59.940% (199/332)\n",
      "\n",
      "Epoch: 15\n"
     ]
    },
    {
     "name": "stderr",
     "output_type": "stream",
     "text": [
      "100%|██████████| 8/8 [00:12<00:00,  1.58s/it]\n"
     ]
    },
    {
     "name": "stdout",
     "output_type": "stream",
     "text": [
      "7 8 Loss: 1.024 | Acc: 61.416% (616/1003)\n"
     ]
    },
    {
     "name": "stderr",
     "output_type": "stream",
     "text": [
      "100%|██████████| 3/3 [00:02<00:00,  1.24it/s]\n"
     ]
    },
    {
     "name": "stdout",
     "output_type": "stream",
     "text": [
      "2 3 Loss: 0.884 | Acc: 55.120% (183/332)\n",
      "\n",
      "Epoch: 16\n"
     ]
    },
    {
     "name": "stderr",
     "output_type": "stream",
     "text": [
      "100%|██████████| 8/8 [00:12<00:00,  1.60s/it]\n"
     ]
    },
    {
     "name": "stdout",
     "output_type": "stream",
     "text": [
      "7 8 Loss: 0.824 | Acc: 57.428% (576/1003)\n"
     ]
    },
    {
     "name": "stderr",
     "output_type": "stream",
     "text": [
      "100%|██████████| 3/3 [00:02<00:00,  1.26it/s]\n"
     ]
    },
    {
     "name": "stdout",
     "output_type": "stream",
     "text": [
      "2 3 Loss: 0.917 | Acc: 53.916% (179/332)\n",
      "\n",
      "Epoch: 17\n"
     ]
    },
    {
     "name": "stderr",
     "output_type": "stream",
     "text": [
      "100%|██████████| 8/8 [00:12<00:00,  1.58s/it]\n"
     ]
    },
    {
     "name": "stdout",
     "output_type": "stream",
     "text": [
      "7 8 Loss: 1.048 | Acc: 64.307% (645/1003)\n"
     ]
    },
    {
     "name": "stderr",
     "output_type": "stream",
     "text": [
      "100%|██████████| 3/3 [00:02<00:00,  1.27it/s]\n"
     ]
    },
    {
     "name": "stdout",
     "output_type": "stream",
     "text": [
      "2 3 Loss: 0.807 | Acc: 56.024% (186/332)\n",
      "\n",
      "Epoch: 18\n"
     ]
    },
    {
     "name": "stderr",
     "output_type": "stream",
     "text": [
      "100%|██████████| 8/8 [00:12<00:00,  1.59s/it]\n"
     ]
    },
    {
     "name": "stdout",
     "output_type": "stream",
     "text": [
      "7 8 Loss: 0.645 | Acc: 67.697% (679/1003)\n"
     ]
    },
    {
     "name": "stderr",
     "output_type": "stream",
     "text": [
      "100%|██████████| 3/3 [00:02<00:00,  1.27it/s]\n"
     ]
    },
    {
     "name": "stdout",
     "output_type": "stream",
     "text": [
      "2 3 Loss: 0.695 | Acc: 58.735% (195/332)\n",
      "\n",
      "Epoch: 19\n"
     ]
    },
    {
     "name": "stderr",
     "output_type": "stream",
     "text": [
      "100%|██████████| 8/8 [00:12<00:00,  1.58s/it]\n"
     ]
    },
    {
     "name": "stdout",
     "output_type": "stream",
     "text": [
      "7 8 Loss: 1.174 | Acc: 65.803% (660/1003)\n"
     ]
    },
    {
     "name": "stderr",
     "output_type": "stream",
     "text": [
      "100%|██████████| 3/3 [00:02<00:00,  1.26it/s]\n"
     ]
    },
    {
     "name": "stdout",
     "output_type": "stream",
     "text": [
      "2 3 Loss: 0.704 | Acc: 61.446% (204/332)\n",
      "Saving..\n",
      "\n",
      "Epoch: 20\n"
     ]
    },
    {
     "name": "stderr",
     "output_type": "stream",
     "text": [
      "100%|██████████| 8/8 [00:12<00:00,  1.58s/it]\n"
     ]
    },
    {
     "name": "stdout",
     "output_type": "stream",
     "text": [
      "7 8 Loss: 0.911 | Acc: 67.896% (681/1003)\n"
     ]
    },
    {
     "name": "stderr",
     "output_type": "stream",
     "text": [
      "100%|██████████| 3/3 [00:02<00:00,  1.26it/s]\n"
     ]
    },
    {
     "name": "stdout",
     "output_type": "stream",
     "text": [
      "2 3 Loss: 0.705 | Acc: 59.639% (198/332)\n",
      "\n",
      "Epoch: 21\n"
     ]
    },
    {
     "name": "stderr",
     "output_type": "stream",
     "text": [
      "100%|██████████| 8/8 [00:12<00:00,  1.60s/it]\n"
     ]
    },
    {
     "name": "stdout",
     "output_type": "stream",
     "text": [
      "7 8 Loss: 0.701 | Acc: 70.788% (710/1003)\n"
     ]
    },
    {
     "name": "stderr",
     "output_type": "stream",
     "text": [
      "100%|██████████| 3/3 [00:02<00:00,  1.24it/s]\n"
     ]
    },
    {
     "name": "stdout",
     "output_type": "stream",
     "text": [
      "2 3 Loss: 1.041 | Acc: 60.843% (202/332)\n",
      "\n",
      "Epoch: 22\n"
     ]
    },
    {
     "name": "stderr",
     "output_type": "stream",
     "text": [
      "100%|██████████| 8/8 [00:12<00:00,  1.59s/it]\n"
     ]
    },
    {
     "name": "stdout",
     "output_type": "stream",
     "text": [
      "7 8 Loss: 0.680 | Acc: 73.081% (733/1003)\n"
     ]
    },
    {
     "name": "stderr",
     "output_type": "stream",
     "text": [
      "100%|██████████| 3/3 [00:02<00:00,  1.27it/s]\n"
     ]
    },
    {
     "name": "stdout",
     "output_type": "stream",
     "text": [
      "2 3 Loss: 1.067 | Acc: 60.843% (202/332)\n",
      "\n",
      "Epoch: 23\n"
     ]
    },
    {
     "name": "stderr",
     "output_type": "stream",
     "text": [
      "100%|██████████| 8/8 [00:12<00:00,  1.60s/it]\n"
     ]
    },
    {
     "name": "stdout",
     "output_type": "stream",
     "text": [
      "7 8 Loss: 0.860 | Acc: 70.289% (705/1003)\n"
     ]
    },
    {
     "name": "stderr",
     "output_type": "stream",
     "text": [
      "100%|██████████| 3/3 [00:02<00:00,  1.23it/s]\n"
     ]
    },
    {
     "name": "stdout",
     "output_type": "stream",
     "text": [
      "2 3 Loss: 0.872 | Acc: 61.446% (204/332)\n",
      "\n",
      "Epoch: 24\n"
     ]
    },
    {
     "name": "stderr",
     "output_type": "stream",
     "text": [
      "100%|██████████| 8/8 [00:12<00:00,  1.59s/it]\n"
     ]
    },
    {
     "name": "stdout",
     "output_type": "stream",
     "text": [
      "7 8 Loss: 0.578 | Acc: 72.682% (729/1003)\n"
     ]
    },
    {
     "name": "stderr",
     "output_type": "stream",
     "text": [
      "100%|██████████| 3/3 [00:02<00:00,  1.27it/s]\n"
     ]
    },
    {
     "name": "stdout",
     "output_type": "stream",
     "text": [
      "2 3 Loss: 0.860 | Acc: 61.145% (203/332)\n",
      "\n",
      "Epoch: 25\n"
     ]
    },
    {
     "name": "stderr",
     "output_type": "stream",
     "text": [
      "100%|██████████| 8/8 [00:12<00:00,  1.61s/it]\n"
     ]
    },
    {
     "name": "stdout",
     "output_type": "stream",
     "text": [
      "7 8 Loss: 0.651 | Acc: 70.389% (706/1003)\n"
     ]
    },
    {
     "name": "stderr",
     "output_type": "stream",
     "text": [
      "100%|██████████| 3/3 [00:02<00:00,  1.29it/s]\n"
     ]
    },
    {
     "name": "stdout",
     "output_type": "stream",
     "text": [
      "2 3 Loss: 0.720 | Acc: 62.048% (206/332)\n",
      "Saving..\n",
      "\n",
      "Epoch: 26\n"
     ]
    },
    {
     "name": "stderr",
     "output_type": "stream",
     "text": [
      "100%|██████████| 8/8 [00:12<00:00,  1.60s/it]\n"
     ]
    },
    {
     "name": "stdout",
     "output_type": "stream",
     "text": [
      "7 8 Loss: 0.659 | Acc: 72.283% (725/1003)\n"
     ]
    },
    {
     "name": "stderr",
     "output_type": "stream",
     "text": [
      "100%|██████████| 3/3 [00:02<00:00,  1.28it/s]\n"
     ]
    },
    {
     "name": "stdout",
     "output_type": "stream",
     "text": [
      "2 3 Loss: 1.981 | Acc: 57.229% (190/332)\n",
      "\n",
      "Epoch: 27\n"
     ]
    },
    {
     "name": "stderr",
     "output_type": "stream",
     "text": [
      "100%|██████████| 8/8 [00:12<00:00,  1.59s/it]\n"
     ]
    },
    {
     "name": "stdout",
     "output_type": "stream",
     "text": [
      "7 8 Loss: 0.701 | Acc: 70.688% (709/1003)\n"
     ]
    },
    {
     "name": "stderr",
     "output_type": "stream",
     "text": [
      "100%|██████████| 3/3 [00:02<00:00,  1.26it/s]\n"
     ]
    },
    {
     "name": "stdout",
     "output_type": "stream",
     "text": [
      "2 3 Loss: 2.476 | Acc: 62.048% (206/332)\n",
      "\n",
      "Epoch: 28\n"
     ]
    },
    {
     "name": "stderr",
     "output_type": "stream",
     "text": [
      "100%|██████████| 8/8 [00:12<00:00,  1.58s/it]\n"
     ]
    },
    {
     "name": "stdout",
     "output_type": "stream",
     "text": [
      "7 8 Loss: 1.449 | Acc: 72.682% (729/1003)\n"
     ]
    },
    {
     "name": "stderr",
     "output_type": "stream",
     "text": [
      "100%|██████████| 3/3 [00:02<00:00,  1.17it/s]\n"
     ]
    },
    {
     "name": "stdout",
     "output_type": "stream",
     "text": [
      "2 3 Loss: 0.841 | Acc: 63.253% (210/332)\n",
      "Saving..\n",
      "\n",
      "Epoch: 29\n"
     ]
    },
    {
     "name": "stderr",
     "output_type": "stream",
     "text": [
      "100%|██████████| 8/8 [00:12<00:00,  1.58s/it]\n"
     ]
    },
    {
     "name": "stdout",
     "output_type": "stream",
     "text": [
      "7 8 Loss: 1.072 | Acc: 67.398% (676/1003)\n"
     ]
    },
    {
     "name": "stderr",
     "output_type": "stream",
     "text": [
      "100%|██████████| 3/3 [00:02<00:00,  1.27it/s]\n"
     ]
    },
    {
     "name": "stdout",
     "output_type": "stream",
     "text": [
      "2 3 Loss: 28.735 | Acc: 59.940% (199/332)\n",
      "\n",
      "Epoch: 30\n"
     ]
    },
    {
     "name": "stderr",
     "output_type": "stream",
     "text": [
      "100%|██████████| 8/8 [00:12<00:00,  1.58s/it]\n"
     ]
    },
    {
     "name": "stdout",
     "output_type": "stream",
     "text": [
      "7 8 Loss: 1.288 | Acc: 67.597% (678/1003)\n"
     ]
    },
    {
     "name": "stderr",
     "output_type": "stream",
     "text": [
      "100%|██████████| 3/3 [00:02<00:00,  1.28it/s]\n"
     ]
    },
    {
     "name": "stdout",
     "output_type": "stream",
     "text": [
      "2 3 Loss: 5.012 | Acc: 62.952% (209/332)\n",
      "\n",
      "Epoch: 31\n"
     ]
    },
    {
     "name": "stderr",
     "output_type": "stream",
     "text": [
      "100%|██████████| 8/8 [00:12<00:00,  1.59s/it]\n"
     ]
    },
    {
     "name": "stdout",
     "output_type": "stream",
     "text": [
      "7 8 Loss: 0.851 | Acc: 71.884% (721/1003)\n"
     ]
    },
    {
     "name": "stderr",
     "output_type": "stream",
     "text": [
      "100%|██████████| 3/3 [00:02<00:00,  1.27it/s]\n"
     ]
    },
    {
     "name": "stdout",
     "output_type": "stream",
     "text": [
      "2 3 Loss: 1.717 | Acc: 56.627% (188/332)\n",
      "\n",
      "Epoch: 32\n"
     ]
    },
    {
     "name": "stderr",
     "output_type": "stream",
     "text": [
      "100%|██████████| 8/8 [00:12<00:00,  1.59s/it]\n"
     ]
    },
    {
     "name": "stdout",
     "output_type": "stream",
     "text": [
      "7 8 Loss: 1.736 | Acc: 68.594% (688/1003)\n"
     ]
    },
    {
     "name": "stderr",
     "output_type": "stream",
     "text": [
      "100%|██████████| 3/3 [00:02<00:00,  1.31it/s]\n"
     ]
    },
    {
     "name": "stdout",
     "output_type": "stream",
     "text": [
      "2 3 Loss: 1.857 | Acc: 60.843% (202/332)\n",
      "\n",
      "Epoch: 33\n"
     ]
    },
    {
     "name": "stderr",
     "output_type": "stream",
     "text": [
      "100%|██████████| 8/8 [00:12<00:00,  1.60s/it]\n"
     ]
    },
    {
     "name": "stdout",
     "output_type": "stream",
     "text": [
      "7 8 Loss: 1.389 | Acc: 65.703% (659/1003)\n"
     ]
    },
    {
     "name": "stderr",
     "output_type": "stream",
     "text": [
      "100%|██████████| 3/3 [00:02<00:00,  1.25it/s]\n"
     ]
    },
    {
     "name": "stdout",
     "output_type": "stream",
     "text": [
      "2 3 Loss: 0.757 | Acc: 63.855% (212/332)\n",
      "Saving..\n",
      "\n",
      "Epoch: 34\n"
     ]
    },
    {
     "name": "stderr",
     "output_type": "stream",
     "text": [
      "100%|██████████| 8/8 [00:12<00:00,  1.60s/it]\n"
     ]
    },
    {
     "name": "stdout",
     "output_type": "stream",
     "text": [
      "7 8 Loss: 1.371 | Acc: 63.609% (638/1003)\n"
     ]
    },
    {
     "name": "stderr",
     "output_type": "stream",
     "text": [
      "100%|██████████| 3/3 [00:02<00:00,  1.25it/s]\n"
     ]
    },
    {
     "name": "stdout",
     "output_type": "stream",
     "text": [
      "2 3 Loss: 1.068 | Acc: 56.325% (187/332)\n",
      "\n",
      "Epoch: 35\n"
     ]
    },
    {
     "name": "stderr",
     "output_type": "stream",
     "text": [
      "100%|██████████| 8/8 [00:12<00:00,  1.62s/it]\n"
     ]
    },
    {
     "name": "stdout",
     "output_type": "stream",
     "text": [
      "7 8 Loss: 1.017 | Acc: 69.492% (697/1003)\n"
     ]
    },
    {
     "name": "stderr",
     "output_type": "stream",
     "text": [
      "100%|██████████| 3/3 [00:02<00:00,  1.20it/s]\n"
     ]
    },
    {
     "name": "stdout",
     "output_type": "stream",
     "text": [
      "2 3 Loss: 0.930 | Acc: 59.639% (198/332)\n",
      "\n",
      "Epoch: 36\n"
     ]
    },
    {
     "name": "stderr",
     "output_type": "stream",
     "text": [
      "100%|██████████| 8/8 [00:12<00:00,  1.59s/it]\n"
     ]
    },
    {
     "name": "stdout",
     "output_type": "stream",
     "text": [
      "7 8 Loss: 0.869 | Acc: 72.084% (723/1003)\n"
     ]
    },
    {
     "name": "stderr",
     "output_type": "stream",
     "text": [
      "100%|██████████| 3/3 [00:02<00:00,  1.24it/s]\n"
     ]
    },
    {
     "name": "stdout",
     "output_type": "stream",
     "text": [
      "2 3 Loss: 0.794 | Acc: 54.819% (182/332)\n",
      "\n",
      "Epoch: 37\n"
     ]
    },
    {
     "name": "stderr",
     "output_type": "stream",
     "text": [
      "100%|██████████| 8/8 [00:12<00:00,  1.59s/it]\n"
     ]
    },
    {
     "name": "stdout",
     "output_type": "stream",
     "text": [
      "7 8 Loss: 0.606 | Acc: 71.984% (722/1003)\n"
     ]
    },
    {
     "name": "stderr",
     "output_type": "stream",
     "text": [
      "100%|██████████| 3/3 [00:02<00:00,  1.29it/s]\n"
     ]
    },
    {
     "name": "stdout",
     "output_type": "stream",
     "text": [
      "2 3 Loss: 0.665 | Acc: 60.241% (200/332)\n",
      "\n",
      "Epoch: 38\n"
     ]
    },
    {
     "name": "stderr",
     "output_type": "stream",
     "text": [
      "100%|██████████| 8/8 [00:12<00:00,  1.58s/it]\n"
     ]
    },
    {
     "name": "stdout",
     "output_type": "stream",
     "text": [
      "7 8 Loss: 0.791 | Acc: 75.274% (755/1003)\n"
     ]
    },
    {
     "name": "stderr",
     "output_type": "stream",
     "text": [
      "100%|██████████| 3/3 [00:02<00:00,  1.26it/s]\n"
     ]
    },
    {
     "name": "stdout",
     "output_type": "stream",
     "text": [
      "2 3 Loss: 0.669 | Acc: 62.651% (208/332)\n",
      "\n",
      "Epoch: 39\n"
     ]
    },
    {
     "name": "stderr",
     "output_type": "stream",
     "text": [
      "100%|██████████| 8/8 [00:12<00:00,  1.58s/it]\n"
     ]
    },
    {
     "name": "stdout",
     "output_type": "stream",
     "text": [
      "7 8 Loss: 0.821 | Acc: 75.274% (755/1003)\n"
     ]
    },
    {
     "name": "stderr",
     "output_type": "stream",
     "text": [
      "100%|██████████| 3/3 [00:02<00:00,  1.27it/s]\n"
     ]
    },
    {
     "name": "stdout",
     "output_type": "stream",
     "text": [
      "2 3 Loss: 0.669 | Acc: 61.145% (203/332)\n",
      "\n",
      "Epoch: 40\n"
     ]
    },
    {
     "name": "stderr",
     "output_type": "stream",
     "text": [
      "100%|██████████| 8/8 [00:12<00:00,  1.59s/it]\n"
     ]
    },
    {
     "name": "stdout",
     "output_type": "stream",
     "text": [
      "7 8 Loss: 0.562 | Acc: 75.872% (761/1003)\n"
     ]
    },
    {
     "name": "stderr",
     "output_type": "stream",
     "text": [
      "100%|██████████| 3/3 [00:02<00:00,  1.27it/s]\n"
     ]
    },
    {
     "name": "stdout",
     "output_type": "stream",
     "text": [
      "2 3 Loss: 0.670 | Acc: 63.554% (211/332)\n",
      "\n",
      "Epoch: 41\n"
     ]
    },
    {
     "name": "stderr",
     "output_type": "stream",
     "text": [
      "100%|██████████| 8/8 [00:12<00:00,  1.59s/it]\n"
     ]
    },
    {
     "name": "stdout",
     "output_type": "stream",
     "text": [
      "7 8 Loss: 0.561 | Acc: 76.471% (767/1003)\n"
     ]
    },
    {
     "name": "stderr",
     "output_type": "stream",
     "text": [
      "100%|██████████| 3/3 [00:02<00:00,  1.28it/s]\n"
     ]
    },
    {
     "name": "stdout",
     "output_type": "stream",
     "text": [
      "2 3 Loss: 0.654 | Acc: 65.663% (218/332)\n",
      "Saving..\n",
      "\n",
      "Epoch: 42\n"
     ]
    },
    {
     "name": "stderr",
     "output_type": "stream",
     "text": [
      "100%|██████████| 8/8 [00:12<00:00,  1.58s/it]\n"
     ]
    },
    {
     "name": "stdout",
     "output_type": "stream",
     "text": [
      "7 8 Loss: 0.482 | Acc: 78.066% (783/1003)\n"
     ]
    },
    {
     "name": "stderr",
     "output_type": "stream",
     "text": [
      "100%|██████████| 3/3 [00:02<00:00,  1.30it/s]\n"
     ]
    },
    {
     "name": "stdout",
     "output_type": "stream",
     "text": [
      "2 3 Loss: 0.664 | Acc: 65.361% (217/332)\n",
      "\n",
      "Epoch: 43\n"
     ]
    },
    {
     "name": "stderr",
     "output_type": "stream",
     "text": [
      "100%|██████████| 8/8 [00:12<00:00,  1.59s/it]\n"
     ]
    },
    {
     "name": "stdout",
     "output_type": "stream",
     "text": [
      "7 8 Loss: 0.483 | Acc: 78.066% (783/1003)\n"
     ]
    },
    {
     "name": "stderr",
     "output_type": "stream",
     "text": [
      "100%|██████████| 3/3 [00:02<00:00,  1.32it/s]\n"
     ]
    },
    {
     "name": "stdout",
     "output_type": "stream",
     "text": [
      "2 3 Loss: 0.666 | Acc: 66.566% (221/332)\n",
      "Saving..\n",
      "\n",
      "Epoch: 44\n"
     ]
    },
    {
     "name": "stderr",
     "output_type": "stream",
     "text": [
      "100%|██████████| 8/8 [00:12<00:00,  1.59s/it]\n"
     ]
    },
    {
     "name": "stdout",
     "output_type": "stream",
     "text": [
      "7 8 Loss: 0.601 | Acc: 77.667% (779/1003)\n"
     ]
    },
    {
     "name": "stderr",
     "output_type": "stream",
     "text": [
      "100%|██████████| 3/3 [00:02<00:00,  1.27it/s]\n"
     ]
    },
    {
     "name": "stdout",
     "output_type": "stream",
     "text": [
      "2 3 Loss: 0.615 | Acc: 65.060% (216/332)\n",
      "\n",
      "Epoch: 45\n"
     ]
    },
    {
     "name": "stderr",
     "output_type": "stream",
     "text": [
      "100%|██████████| 8/8 [00:12<00:00,  1.58s/it]\n"
     ]
    },
    {
     "name": "stdout",
     "output_type": "stream",
     "text": [
      "7 8 Loss: 0.473 | Acc: 79.960% (802/1003)\n"
     ]
    },
    {
     "name": "stderr",
     "output_type": "stream",
     "text": [
      "100%|██████████| 3/3 [00:02<00:00,  1.26it/s]\n"
     ]
    },
    {
     "name": "stdout",
     "output_type": "stream",
     "text": [
      "2 3 Loss: 0.605 | Acc: 67.470% (224/332)\n",
      "Saving..\n",
      "\n",
      "Epoch: 46\n"
     ]
    },
    {
     "name": "stderr",
     "output_type": "stream",
     "text": [
      "100%|██████████| 8/8 [00:12<00:00,  1.58s/it]\n"
     ]
    },
    {
     "name": "stdout",
     "output_type": "stream",
     "text": [
      "7 8 Loss: 0.466 | Acc: 81.157% (814/1003)\n"
     ]
    },
    {
     "name": "stderr",
     "output_type": "stream",
     "text": [
      "100%|██████████| 3/3 [00:02<00:00,  1.29it/s]\n"
     ]
    },
    {
     "name": "stdout",
     "output_type": "stream",
     "text": [
      "2 3 Loss: 0.629 | Acc: 67.771% (225/332)\n",
      "Saving..\n",
      "\n",
      "Epoch: 47\n"
     ]
    },
    {
     "name": "stderr",
     "output_type": "stream",
     "text": [
      "100%|██████████| 8/8 [00:12<00:00,  1.59s/it]\n"
     ]
    },
    {
     "name": "stdout",
     "output_type": "stream",
     "text": [
      "7 8 Loss: 0.459 | Acc: 79.960% (802/1003)\n"
     ]
    },
    {
     "name": "stderr",
     "output_type": "stream",
     "text": [
      "100%|██████████| 3/3 [00:02<00:00,  1.25it/s]\n"
     ]
    },
    {
     "name": "stdout",
     "output_type": "stream",
     "text": [
      "2 3 Loss: 0.604 | Acc: 68.373% (227/332)\n",
      "Saving..\n",
      "\n",
      "Epoch: 48\n"
     ]
    },
    {
     "name": "stderr",
     "output_type": "stream",
     "text": [
      "100%|██████████| 8/8 [00:12<00:00,  1.58s/it]\n"
     ]
    },
    {
     "name": "stdout",
     "output_type": "stream",
     "text": [
      "7 8 Loss: 0.413 | Acc: 80.259% (805/1003)\n"
     ]
    },
    {
     "name": "stderr",
     "output_type": "stream",
     "text": [
      "100%|██████████| 3/3 [00:02<00:00,  1.31it/s]\n"
     ]
    },
    {
     "name": "stdout",
     "output_type": "stream",
     "text": [
      "2 3 Loss: 0.595 | Acc: 66.867% (222/332)\n",
      "\n",
      "Epoch: 49\n"
     ]
    },
    {
     "name": "stderr",
     "output_type": "stream",
     "text": [
      "100%|██████████| 8/8 [00:12<00:00,  1.59s/it]\n"
     ]
    },
    {
     "name": "stdout",
     "output_type": "stream",
     "text": [
      "7 8 Loss: 0.406 | Acc: 82.054% (823/1003)\n"
     ]
    },
    {
     "name": "stderr",
     "output_type": "stream",
     "text": [
      "100%|██████████| 3/3 [00:02<00:00,  1.28it/s]\n"
     ]
    },
    {
     "name": "stdout",
     "output_type": "stream",
     "text": [
      "2 3 Loss: 0.567 | Acc: 67.771% (225/332)\n",
      "\n",
      "Epoch: 50\n"
     ]
    },
    {
     "name": "stderr",
     "output_type": "stream",
     "text": [
      "100%|██████████| 8/8 [00:12<00:00,  1.59s/it]\n"
     ]
    },
    {
     "name": "stdout",
     "output_type": "stream",
     "text": [
      "7 8 Loss: 0.434 | Acc: 80.160% (804/1003)\n"
     ]
    },
    {
     "name": "stderr",
     "output_type": "stream",
     "text": [
      "100%|██████████| 3/3 [00:02<00:00,  1.28it/s]\n"
     ]
    },
    {
     "name": "stdout",
     "output_type": "stream",
     "text": [
      "2 3 Loss: 0.593 | Acc: 68.072% (226/332)\n",
      "\n",
      "Epoch: 51\n"
     ]
    },
    {
     "name": "stderr",
     "output_type": "stream",
     "text": [
      "100%|██████████| 8/8 [00:12<00:00,  1.58s/it]\n"
     ]
    },
    {
     "name": "stdout",
     "output_type": "stream",
     "text": [
      "7 8 Loss: 0.407 | Acc: 81.157% (814/1003)\n"
     ]
    },
    {
     "name": "stderr",
     "output_type": "stream",
     "text": [
      "100%|██████████| 3/3 [00:02<00:00,  1.27it/s]\n"
     ]
    },
    {
     "name": "stdout",
     "output_type": "stream",
     "text": [
      "2 3 Loss: 0.579 | Acc: 68.072% (226/332)\n",
      "\n",
      "Epoch: 52\n"
     ]
    },
    {
     "name": "stderr",
     "output_type": "stream",
     "text": [
      "100%|██████████| 8/8 [00:12<00:00,  1.58s/it]\n"
     ]
    },
    {
     "name": "stdout",
     "output_type": "stream",
     "text": [
      "7 8 Loss: 0.545 | Acc: 81.755% (820/1003)\n"
     ]
    },
    {
     "name": "stderr",
     "output_type": "stream",
     "text": [
      "100%|██████████| 3/3 [00:02<00:00,  1.25it/s]\n"
     ]
    },
    {
     "name": "stdout",
     "output_type": "stream",
     "text": [
      "2 3 Loss: 0.632 | Acc: 70.482% (234/332)\n",
      "Saving..\n",
      "\n",
      "Epoch: 53\n"
     ]
    },
    {
     "name": "stderr",
     "output_type": "stream",
     "text": [
      "100%|██████████| 8/8 [00:12<00:00,  1.60s/it]\n"
     ]
    },
    {
     "name": "stdout",
     "output_type": "stream",
     "text": [
      "7 8 Loss: 0.511 | Acc: 81.954% (822/1003)\n"
     ]
    },
    {
     "name": "stderr",
     "output_type": "stream",
     "text": [
      "100%|██████████| 3/3 [00:02<00:00,  1.31it/s]\n"
     ]
    },
    {
     "name": "stdout",
     "output_type": "stream",
     "text": [
      "2 3 Loss: 0.748 | Acc: 67.771% (225/332)\n",
      "\n",
      "Epoch: 54\n"
     ]
    },
    {
     "name": "stderr",
     "output_type": "stream",
     "text": [
      "100%|██████████| 8/8 [00:12<00:00,  1.59s/it]\n"
     ]
    },
    {
     "name": "stdout",
     "output_type": "stream",
     "text": [
      "7 8 Loss: 0.393 | Acc: 81.954% (822/1003)\n"
     ]
    },
    {
     "name": "stderr",
     "output_type": "stream",
     "text": [
      "100%|██████████| 3/3 [00:02<00:00,  1.28it/s]\n"
     ]
    },
    {
     "name": "stdout",
     "output_type": "stream",
     "text": [
      "2 3 Loss: 0.667 | Acc: 66.265% (220/332)\n",
      "\n",
      "Epoch: 55\n"
     ]
    },
    {
     "name": "stderr",
     "output_type": "stream",
     "text": [
      "100%|██████████| 8/8 [00:12<00:00,  1.59s/it]\n"
     ]
    },
    {
     "name": "stdout",
     "output_type": "stream",
     "text": [
      "7 8 Loss: 0.463 | Acc: 80.359% (806/1003)\n"
     ]
    },
    {
     "name": "stderr",
     "output_type": "stream",
     "text": [
      "100%|██████████| 3/3 [00:02<00:00,  1.27it/s]\n"
     ]
    },
    {
     "name": "stdout",
     "output_type": "stream",
     "text": [
      "2 3 Loss: 0.639 | Acc: 68.072% (226/332)\n",
      "\n",
      "Epoch: 56\n"
     ]
    },
    {
     "name": "stderr",
     "output_type": "stream",
     "text": [
      "100%|██████████| 8/8 [00:12<00:00,  1.59s/it]\n"
     ]
    },
    {
     "name": "stdout",
     "output_type": "stream",
     "text": [
      "7 8 Loss: 0.581 | Acc: 81.057% (813/1003)\n"
     ]
    },
    {
     "name": "stderr",
     "output_type": "stream",
     "text": [
      "100%|██████████| 3/3 [00:02<00:00,  1.31it/s]\n"
     ]
    },
    {
     "name": "stdout",
     "output_type": "stream",
     "text": [
      "2 3 Loss: 0.646 | Acc: 67.771% (225/332)\n",
      "\n",
      "Epoch: 57\n"
     ]
    },
    {
     "name": "stderr",
     "output_type": "stream",
     "text": [
      "100%|██████████| 8/8 [00:12<00:00,  1.60s/it]\n"
     ]
    },
    {
     "name": "stdout",
     "output_type": "stream",
     "text": [
      "7 8 Loss: 0.504 | Acc: 80.658% (809/1003)\n"
     ]
    },
    {
     "name": "stderr",
     "output_type": "stream",
     "text": [
      "100%|██████████| 3/3 [00:02<00:00,  1.26it/s]\n"
     ]
    },
    {
     "name": "stdout",
     "output_type": "stream",
     "text": [
      "2 3 Loss: 0.658 | Acc: 67.169% (223/332)\n",
      "\n",
      "Epoch: 58\n"
     ]
    },
    {
     "name": "stderr",
     "output_type": "stream",
     "text": [
      "100%|██████████| 8/8 [00:12<00:00,  1.58s/it]\n"
     ]
    },
    {
     "name": "stdout",
     "output_type": "stream",
     "text": [
      "7 8 Loss: 0.433 | Acc: 82.453% (827/1003)\n"
     ]
    },
    {
     "name": "stderr",
     "output_type": "stream",
     "text": [
      "100%|██████████| 3/3 [00:02<00:00,  1.26it/s]\n"
     ]
    },
    {
     "name": "stdout",
     "output_type": "stream",
     "text": [
      "2 3 Loss: 0.630 | Acc: 69.880% (232/332)\n",
      "\n",
      "Epoch: 59\n"
     ]
    },
    {
     "name": "stderr",
     "output_type": "stream",
     "text": [
      "100%|██████████| 8/8 [00:12<00:00,  1.58s/it]\n"
     ]
    },
    {
     "name": "stdout",
     "output_type": "stream",
     "text": [
      "7 8 Loss: 0.498 | Acc: 83.450% (837/1003)\n"
     ]
    },
    {
     "name": "stderr",
     "output_type": "stream",
     "text": [
      "100%|██████████| 3/3 [00:02<00:00,  1.27it/s]\n"
     ]
    },
    {
     "name": "stdout",
     "output_type": "stream",
     "text": [
      "2 3 Loss: 0.619 | Acc: 68.675% (228/332)\n",
      "\n",
      "Epoch: 60\n"
     ]
    },
    {
     "name": "stderr",
     "output_type": "stream",
     "text": [
      "100%|██████████| 8/8 [00:12<00:00,  1.59s/it]\n"
     ]
    },
    {
     "name": "stdout",
     "output_type": "stream",
     "text": [
      "7 8 Loss: 0.350 | Acc: 84.347% (846/1003)\n"
     ]
    },
    {
     "name": "stderr",
     "output_type": "stream",
     "text": [
      "100%|██████████| 3/3 [00:02<00:00,  1.33it/s]\n"
     ]
    },
    {
     "name": "stdout",
     "output_type": "stream",
     "text": [
      "2 3 Loss: 0.647 | Acc: 69.578% (231/332)\n",
      "\n",
      "Epoch: 61\n"
     ]
    },
    {
     "name": "stderr",
     "output_type": "stream",
     "text": [
      "100%|██████████| 8/8 [00:12<00:00,  1.59s/it]\n"
     ]
    },
    {
     "name": "stdout",
     "output_type": "stream",
     "text": [
      "7 8 Loss: 0.338 | Acc: 85.444% (857/1003)\n"
     ]
    },
    {
     "name": "stderr",
     "output_type": "stream",
     "text": [
      "100%|██████████| 3/3 [00:02<00:00,  1.28it/s]\n"
     ]
    },
    {
     "name": "stdout",
     "output_type": "stream",
     "text": [
      "2 3 Loss: 0.604 | Acc: 69.277% (230/332)\n",
      "\n",
      "Epoch: 62\n"
     ]
    },
    {
     "name": "stderr",
     "output_type": "stream",
     "text": [
      "100%|██████████| 8/8 [00:12<00:00,  1.59s/it]\n"
     ]
    },
    {
     "name": "stdout",
     "output_type": "stream",
     "text": [
      "7 8 Loss: 0.357 | Acc: 84.447% (847/1003)\n"
     ]
    },
    {
     "name": "stderr",
     "output_type": "stream",
     "text": [
      "100%|██████████| 3/3 [00:02<00:00,  1.27it/s]\n"
     ]
    },
    {
     "name": "stdout",
     "output_type": "stream",
     "text": [
      "2 3 Loss: 0.571 | Acc: 70.482% (234/332)\n",
      "\n",
      "Epoch: 63\n"
     ]
    },
    {
     "name": "stderr",
     "output_type": "stream",
     "text": [
      "100%|██████████| 8/8 [00:12<00:00,  1.59s/it]\n"
     ]
    },
    {
     "name": "stdout",
     "output_type": "stream",
     "text": [
      "7 8 Loss: 0.337 | Acc: 84.746% (850/1003)\n"
     ]
    },
    {
     "name": "stderr",
     "output_type": "stream",
     "text": [
      "100%|██████████| 3/3 [00:02<00:00,  1.26it/s]\n"
     ]
    },
    {
     "name": "stdout",
     "output_type": "stream",
     "text": [
      "2 3 Loss: 0.625 | Acc: 69.277% (230/332)\n",
      "\n",
      "Epoch: 64\n"
     ]
    },
    {
     "name": "stderr",
     "output_type": "stream",
     "text": [
      "100%|██████████| 8/8 [00:12<00:00,  1.60s/it]\n"
     ]
    },
    {
     "name": "stdout",
     "output_type": "stream",
     "text": [
      "7 8 Loss: 0.314 | Acc: 86.441% (867/1003)\n"
     ]
    },
    {
     "name": "stderr",
     "output_type": "stream",
     "text": [
      "100%|██████████| 3/3 [00:02<00:00,  1.27it/s]\n"
     ]
    },
    {
     "name": "stdout",
     "output_type": "stream",
     "text": [
      "2 3 Loss: 0.598 | Acc: 70.482% (234/332)\n",
      "\n",
      "Epoch: 65\n"
     ]
    },
    {
     "name": "stderr",
     "output_type": "stream",
     "text": [
      "100%|██████████| 8/8 [00:12<00:00,  1.59s/it]\n"
     ]
    },
    {
     "name": "stdout",
     "output_type": "stream",
     "text": [
      "7 8 Loss: 0.319 | Acc: 85.643% (859/1003)\n"
     ]
    },
    {
     "name": "stderr",
     "output_type": "stream",
     "text": [
      "100%|██████████| 3/3 [00:02<00:00,  1.27it/s]\n"
     ]
    },
    {
     "name": "stdout",
     "output_type": "stream",
     "text": [
      "2 3 Loss: 0.565 | Acc: 72.289% (240/332)\n",
      "Saving..\n",
      "\n",
      "Epoch: 66\n"
     ]
    },
    {
     "name": "stderr",
     "output_type": "stream",
     "text": [
      "100%|██████████| 8/8 [00:12<00:00,  1.58s/it]\n"
     ]
    },
    {
     "name": "stdout",
     "output_type": "stream",
     "text": [
      "7 8 Loss: 0.441 | Acc: 83.948% (842/1003)\n"
     ]
    },
    {
     "name": "stderr",
     "output_type": "stream",
     "text": [
      "100%|██████████| 3/3 [00:02<00:00,  1.27it/s]\n"
     ]
    },
    {
     "name": "stdout",
     "output_type": "stream",
     "text": [
      "2 3 Loss: 0.743 | Acc: 69.880% (232/332)\n",
      "\n",
      "Epoch: 67\n"
     ]
    },
    {
     "name": "stderr",
     "output_type": "stream",
     "text": [
      "100%|██████████| 8/8 [00:12<00:00,  1.59s/it]\n"
     ]
    },
    {
     "name": "stdout",
     "output_type": "stream",
     "text": [
      "7 8 Loss: 0.324 | Acc: 85.543% (858/1003)\n"
     ]
    },
    {
     "name": "stderr",
     "output_type": "stream",
     "text": [
      "100%|██████████| 3/3 [00:02<00:00,  1.28it/s]\n"
     ]
    },
    {
     "name": "stdout",
     "output_type": "stream",
     "text": [
      "2 3 Loss: 0.681 | Acc: 68.072% (226/332)\n",
      "\n",
      "Epoch: 68\n"
     ]
    },
    {
     "name": "stderr",
     "output_type": "stream",
     "text": [
      "100%|██████████| 8/8 [00:12<00:00,  1.60s/it]\n"
     ]
    },
    {
     "name": "stdout",
     "output_type": "stream",
     "text": [
      "7 8 Loss: 0.332 | Acc: 86.241% (865/1003)\n"
     ]
    },
    {
     "name": "stderr",
     "output_type": "stream",
     "text": [
      "100%|██████████| 3/3 [00:02<00:00,  1.27it/s]\n"
     ]
    },
    {
     "name": "stdout",
     "output_type": "stream",
     "text": [
      "2 3 Loss: 0.560 | Acc: 72.892% (242/332)\n",
      "Saving..\n",
      "\n",
      "Epoch: 69\n"
     ]
    },
    {
     "name": "stderr",
     "output_type": "stream",
     "text": [
      "100%|██████████| 8/8 [00:12<00:00,  1.59s/it]\n"
     ]
    },
    {
     "name": "stdout",
     "output_type": "stream",
     "text": [
      "7 8 Loss: 0.404 | Acc: 83.051% (833/1003)\n"
     ]
    },
    {
     "name": "stderr",
     "output_type": "stream",
     "text": [
      "100%|██████████| 3/3 [00:02<00:00,  1.31it/s]\n"
     ]
    },
    {
     "name": "stdout",
     "output_type": "stream",
     "text": [
      "2 3 Loss: 0.653 | Acc: 70.482% (234/332)\n",
      "\n",
      "Epoch: 70\n"
     ]
    },
    {
     "name": "stderr",
     "output_type": "stream",
     "text": [
      "100%|██████████| 8/8 [00:12<00:00,  1.59s/it]\n"
     ]
    },
    {
     "name": "stdout",
     "output_type": "stream",
     "text": [
      "7 8 Loss: 0.298 | Acc: 87.238% (875/1003)\n"
     ]
    },
    {
     "name": "stderr",
     "output_type": "stream",
     "text": [
      "100%|██████████| 3/3 [00:02<00:00,  1.29it/s]\n"
     ]
    },
    {
     "name": "stdout",
     "output_type": "stream",
     "text": [
      "2 3 Loss: 0.578 | Acc: 74.398% (247/332)\n",
      "Saving..\n",
      "\n",
      "Epoch: 71\n"
     ]
    },
    {
     "name": "stderr",
     "output_type": "stream",
     "text": [
      "100%|██████████| 8/8 [00:12<00:00,  1.59s/it]\n"
     ]
    },
    {
     "name": "stdout",
     "output_type": "stream",
     "text": [
      "7 8 Loss: 0.281 | Acc: 88.235% (885/1003)\n"
     ]
    },
    {
     "name": "stderr",
     "output_type": "stream",
     "text": [
      "100%|██████████| 3/3 [00:02<00:00,  1.28it/s]\n"
     ]
    },
    {
     "name": "stdout",
     "output_type": "stream",
     "text": [
      "2 3 Loss: 0.648 | Acc: 71.084% (236/332)\n",
      "\n",
      "Epoch: 72\n"
     ]
    },
    {
     "name": "stderr",
     "output_type": "stream",
     "text": [
      "100%|██████████| 8/8 [00:12<00:00,  1.59s/it]\n"
     ]
    },
    {
     "name": "stdout",
     "output_type": "stream",
     "text": [
      "7 8 Loss: 0.324 | Acc: 87.039% (873/1003)\n"
     ]
    },
    {
     "name": "stderr",
     "output_type": "stream",
     "text": [
      "100%|██████████| 3/3 [00:02<00:00,  1.28it/s]\n"
     ]
    },
    {
     "name": "stdout",
     "output_type": "stream",
     "text": [
      "2 3 Loss: 0.612 | Acc: 71.988% (239/332)\n",
      "\n",
      "Epoch: 73\n"
     ]
    },
    {
     "name": "stderr",
     "output_type": "stream",
     "text": [
      "100%|██████████| 8/8 [00:12<00:00,  1.59s/it]\n"
     ]
    },
    {
     "name": "stdout",
     "output_type": "stream",
     "text": [
      "7 8 Loss: 0.321 | Acc: 85.444% (857/1003)\n"
     ]
    },
    {
     "name": "stderr",
     "output_type": "stream",
     "text": [
      "100%|██████████| 3/3 [00:02<00:00,  1.27it/s]\n"
     ]
    },
    {
     "name": "stdout",
     "output_type": "stream",
     "text": [
      "2 3 Loss: 0.576 | Acc: 73.193% (243/332)\n",
      "\n",
      "Epoch: 74\n"
     ]
    },
    {
     "name": "stderr",
     "output_type": "stream",
     "text": [
      "100%|██████████| 8/8 [00:12<00:00,  1.59s/it]\n"
     ]
    },
    {
     "name": "stdout",
     "output_type": "stream",
     "text": [
      "7 8 Loss: 0.301 | Acc: 87.836% (881/1003)\n"
     ]
    },
    {
     "name": "stderr",
     "output_type": "stream",
     "text": [
      "100%|██████████| 3/3 [00:02<00:00,  1.29it/s]\n"
     ]
    },
    {
     "name": "stdout",
     "output_type": "stream",
     "text": [
      "2 3 Loss: 0.584 | Acc: 73.494% (244/332)\n",
      "\n",
      "Epoch: 75\n"
     ]
    },
    {
     "name": "stderr",
     "output_type": "stream",
     "text": [
      "100%|██████████| 8/8 [00:12<00:00,  1.58s/it]\n"
     ]
    },
    {
     "name": "stdout",
     "output_type": "stream",
     "text": [
      "7 8 Loss: 0.291 | Acc: 86.441% (867/1003)\n"
     ]
    },
    {
     "name": "stderr",
     "output_type": "stream",
     "text": [
      "100%|██████████| 3/3 [00:02<00:00,  1.30it/s]\n"
     ]
    },
    {
     "name": "stdout",
     "output_type": "stream",
     "text": [
      "2 3 Loss: 0.594 | Acc: 73.494% (244/332)\n",
      "\n",
      "Epoch: 76\n"
     ]
    },
    {
     "name": "stderr",
     "output_type": "stream",
     "text": [
      "100%|██████████| 8/8 [00:12<00:00,  1.59s/it]\n"
     ]
    },
    {
     "name": "stdout",
     "output_type": "stream",
     "text": [
      "7 8 Loss: 0.258 | Acc: 89.033% (893/1003)\n"
     ]
    },
    {
     "name": "stderr",
     "output_type": "stream",
     "text": [
      "100%|██████████| 3/3 [00:02<00:00,  1.28it/s]\n"
     ]
    },
    {
     "name": "stdout",
     "output_type": "stream",
     "text": [
      "2 3 Loss: 0.631 | Acc: 73.795% (245/332)\n",
      "\n",
      "Epoch: 77\n"
     ]
    },
    {
     "name": "stderr",
     "output_type": "stream",
     "text": [
      "100%|██████████| 8/8 [00:12<00:00,  1.59s/it]\n"
     ]
    },
    {
     "name": "stdout",
     "output_type": "stream",
     "text": [
      "7 8 Loss: 0.260 | Acc: 89.133% (894/1003)\n"
     ]
    },
    {
     "name": "stderr",
     "output_type": "stream",
     "text": [
      "100%|██████████| 3/3 [00:02<00:00,  1.28it/s]\n"
     ]
    },
    {
     "name": "stdout",
     "output_type": "stream",
     "text": [
      "2 3 Loss: 0.583 | Acc: 73.795% (245/332)\n",
      "\n",
      "Epoch: 78\n"
     ]
    },
    {
     "name": "stderr",
     "output_type": "stream",
     "text": [
      "100%|██████████| 8/8 [00:12<00:00,  1.58s/it]\n"
     ]
    },
    {
     "name": "stdout",
     "output_type": "stream",
     "text": [
      "7 8 Loss: 0.298 | Acc: 90.030% (903/1003)\n"
     ]
    },
    {
     "name": "stderr",
     "output_type": "stream",
     "text": [
      "100%|██████████| 3/3 [00:02<00:00,  1.27it/s]\n"
     ]
    },
    {
     "name": "stdout",
     "output_type": "stream",
     "text": [
      "2 3 Loss: 0.583 | Acc: 75.602% (251/332)\n",
      "Saving..\n",
      "\n",
      "Epoch: 79\n"
     ]
    },
    {
     "name": "stderr",
     "output_type": "stream",
     "text": [
      "100%|██████████| 8/8 [00:12<00:00,  1.59s/it]\n"
     ]
    },
    {
     "name": "stdout",
     "output_type": "stream",
     "text": [
      "7 8 Loss: 0.255 | Acc: 90.528% (908/1003)\n"
     ]
    },
    {
     "name": "stderr",
     "output_type": "stream",
     "text": [
      "100%|██████████| 3/3 [00:02<00:00,  1.28it/s]\n"
     ]
    },
    {
     "name": "stdout",
     "output_type": "stream",
     "text": [
      "2 3 Loss: 0.577 | Acc: 73.795% (245/332)\n",
      "\n",
      "Epoch: 80\n"
     ]
    },
    {
     "name": "stderr",
     "output_type": "stream",
     "text": [
      "100%|██████████| 8/8 [00:12<00:00,  1.59s/it]\n"
     ]
    },
    {
     "name": "stdout",
     "output_type": "stream",
     "text": [
      "7 8 Loss: 0.246 | Acc: 89.731% (900/1003)\n"
     ]
    },
    {
     "name": "stderr",
     "output_type": "stream",
     "text": [
      "100%|██████████| 3/3 [00:02<00:00,  1.26it/s]\n"
     ]
    },
    {
     "name": "stdout",
     "output_type": "stream",
     "text": [
      "2 3 Loss: 0.575 | Acc: 74.699% (248/332)\n",
      "\n",
      "Epoch: 81\n"
     ]
    },
    {
     "name": "stderr",
     "output_type": "stream",
     "text": [
      "100%|██████████| 8/8 [00:12<00:00,  1.60s/it]\n"
     ]
    },
    {
     "name": "stdout",
     "output_type": "stream",
     "text": [
      "7 8 Loss: 0.235 | Acc: 89.531% (898/1003)\n"
     ]
    },
    {
     "name": "stderr",
     "output_type": "stream",
     "text": [
      "100%|██████████| 3/3 [00:02<00:00,  1.28it/s]\n"
     ]
    },
    {
     "name": "stdout",
     "output_type": "stream",
     "text": [
      "2 3 Loss: 0.563 | Acc: 75.904% (252/332)\n",
      "Saving..\n",
      "\n",
      "Epoch: 82\n"
     ]
    },
    {
     "name": "stderr",
     "output_type": "stream",
     "text": [
      "100%|██████████| 8/8 [00:12<00:00,  1.58s/it]\n"
     ]
    },
    {
     "name": "stdout",
     "output_type": "stream",
     "text": [
      "7 8 Loss: 0.258 | Acc: 89.930% (902/1003)\n"
     ]
    },
    {
     "name": "stderr",
     "output_type": "stream",
     "text": [
      "100%|██████████| 3/3 [00:02<00:00,  1.28it/s]\n"
     ]
    },
    {
     "name": "stdout",
     "output_type": "stream",
     "text": [
      "2 3 Loss: 0.634 | Acc: 72.590% (241/332)\n",
      "\n",
      "Epoch: 83\n"
     ]
    },
    {
     "name": "stderr",
     "output_type": "stream",
     "text": [
      "100%|██████████| 8/8 [00:12<00:00,  1.59s/it]\n"
     ]
    },
    {
     "name": "stdout",
     "output_type": "stream",
     "text": [
      "7 8 Loss: 0.215 | Acc: 91.924% (922/1003)\n"
     ]
    },
    {
     "name": "stderr",
     "output_type": "stream",
     "text": [
      "100%|██████████| 3/3 [00:02<00:00,  1.27it/s]\n"
     ]
    },
    {
     "name": "stdout",
     "output_type": "stream",
     "text": [
      "2 3 Loss: 0.625 | Acc: 74.398% (247/332)\n",
      "\n",
      "Epoch: 84\n"
     ]
    },
    {
     "name": "stderr",
     "output_type": "stream",
     "text": [
      "100%|██████████| 8/8 [00:12<00:00,  1.58s/it]\n"
     ]
    },
    {
     "name": "stdout",
     "output_type": "stream",
     "text": [
      "7 8 Loss: 0.187 | Acc: 92.921% (932/1003)\n"
     ]
    },
    {
     "name": "stderr",
     "output_type": "stream",
     "text": [
      "100%|██████████| 3/3 [00:02<00:00,  1.29it/s]\n"
     ]
    },
    {
     "name": "stdout",
     "output_type": "stream",
     "text": [
      "2 3 Loss: 0.576 | Acc: 75.904% (252/332)\n",
      "\n",
      "Epoch: 85\n"
     ]
    },
    {
     "name": "stderr",
     "output_type": "stream",
     "text": [
      "100%|██████████| 8/8 [00:12<00:00,  1.59s/it]\n"
     ]
    },
    {
     "name": "stdout",
     "output_type": "stream",
     "text": [
      "7 8 Loss: 0.196 | Acc: 92.921% (932/1003)\n"
     ]
    },
    {
     "name": "stderr",
     "output_type": "stream",
     "text": [
      "100%|██████████| 3/3 [00:02<00:00,  1.25it/s]\n"
     ]
    },
    {
     "name": "stdout",
     "output_type": "stream",
     "text": [
      "2 3 Loss: 0.589 | Acc: 76.205% (253/332)\n",
      "Saving..\n",
      "\n",
      "Epoch: 86\n"
     ]
    },
    {
     "name": "stderr",
     "output_type": "stream",
     "text": [
      "100%|██████████| 8/8 [00:12<00:00,  1.60s/it]\n"
     ]
    },
    {
     "name": "stdout",
     "output_type": "stream",
     "text": [
      "7 8 Loss: 0.191 | Acc: 93.021% (933/1003)\n"
     ]
    },
    {
     "name": "stderr",
     "output_type": "stream",
     "text": [
      "100%|██████████| 3/3 [00:02<00:00,  1.27it/s]\n"
     ]
    },
    {
     "name": "stdout",
     "output_type": "stream",
     "text": [
      "2 3 Loss: 0.552 | Acc: 76.506% (254/332)\n",
      "Saving..\n",
      "\n",
      "Epoch: 87\n"
     ]
    },
    {
     "name": "stderr",
     "output_type": "stream",
     "text": [
      "100%|██████████| 8/8 [00:12<00:00,  1.60s/it]\n"
     ]
    },
    {
     "name": "stdout",
     "output_type": "stream",
     "text": [
      "7 8 Loss: 0.174 | Acc: 93.619% (939/1003)\n"
     ]
    },
    {
     "name": "stderr",
     "output_type": "stream",
     "text": [
      "100%|██████████| 3/3 [00:02<00:00,  1.29it/s]\n"
     ]
    },
    {
     "name": "stdout",
     "output_type": "stream",
     "text": [
      "2 3 Loss: 0.558 | Acc: 75.904% (252/332)\n",
      "\n",
      "Epoch: 88\n"
     ]
    },
    {
     "name": "stderr",
     "output_type": "stream",
     "text": [
      "100%|██████████| 8/8 [00:12<00:00,  1.59s/it]\n"
     ]
    },
    {
     "name": "stdout",
     "output_type": "stream",
     "text": [
      "7 8 Loss: 0.201 | Acc: 91.625% (919/1003)\n"
     ]
    },
    {
     "name": "stderr",
     "output_type": "stream",
     "text": [
      "100%|██████████| 3/3 [00:02<00:00,  1.26it/s]\n"
     ]
    },
    {
     "name": "stdout",
     "output_type": "stream",
     "text": [
      "2 3 Loss: 0.670 | Acc: 77.711% (258/332)\n",
      "Saving..\n",
      "\n",
      "Epoch: 89\n"
     ]
    },
    {
     "name": "stderr",
     "output_type": "stream",
     "text": [
      "100%|██████████| 8/8 [00:12<00:00,  1.60s/it]\n"
     ]
    },
    {
     "name": "stdout",
     "output_type": "stream",
     "text": [
      "7 8 Loss: 0.185 | Acc: 93.420% (937/1003)\n"
     ]
    },
    {
     "name": "stderr",
     "output_type": "stream",
     "text": [
      "100%|██████████| 3/3 [00:02<00:00,  1.29it/s]\n"
     ]
    },
    {
     "name": "stdout",
     "output_type": "stream",
     "text": [
      "2 3 Loss: 0.771 | Acc: 74.096% (246/332)\n",
      "\n",
      "Epoch: 90\n"
     ]
    },
    {
     "name": "stderr",
     "output_type": "stream",
     "text": [
      "100%|██████████| 8/8 [00:12<00:00,  1.57s/it]\n"
     ]
    },
    {
     "name": "stdout",
     "output_type": "stream",
     "text": [
      "7 8 Loss: 0.162 | Acc: 94.616% (949/1003)\n"
     ]
    },
    {
     "name": "stderr",
     "output_type": "stream",
     "text": [
      "100%|██████████| 3/3 [00:02<00:00,  1.29it/s]\n"
     ]
    },
    {
     "name": "stdout",
     "output_type": "stream",
     "text": [
      "2 3 Loss: 0.744 | Acc: 75.301% (250/332)\n",
      "\n",
      "Epoch: 91\n"
     ]
    },
    {
     "name": "stderr",
     "output_type": "stream",
     "text": [
      "100%|██████████| 8/8 [00:12<00:00,  1.58s/it]\n"
     ]
    },
    {
     "name": "stdout",
     "output_type": "stream",
     "text": [
      "7 8 Loss: 0.199 | Acc: 92.622% (929/1003)\n"
     ]
    },
    {
     "name": "stderr",
     "output_type": "stream",
     "text": [
      "100%|██████████| 3/3 [00:02<00:00,  1.27it/s]\n"
     ]
    },
    {
     "name": "stdout",
     "output_type": "stream",
     "text": [
      "2 3 Loss: 0.627 | Acc: 77.711% (258/332)\n",
      "\n",
      "Epoch: 92\n"
     ]
    },
    {
     "name": "stderr",
     "output_type": "stream",
     "text": [
      "100%|██████████| 8/8 [00:12<00:00,  1.59s/it]\n"
     ]
    },
    {
     "name": "stdout",
     "output_type": "stream",
     "text": [
      "7 8 Loss: 0.195 | Acc: 92.124% (924/1003)\n"
     ]
    },
    {
     "name": "stderr",
     "output_type": "stream",
     "text": [
      "100%|██████████| 3/3 [00:02<00:00,  1.25it/s]\n"
     ]
    },
    {
     "name": "stdout",
     "output_type": "stream",
     "text": [
      "2 3 Loss: 0.695 | Acc: 74.398% (247/332)\n",
      "\n",
      "Epoch: 93\n"
     ]
    },
    {
     "name": "stderr",
     "output_type": "stream",
     "text": [
      "100%|██████████| 8/8 [00:12<00:00,  1.59s/it]\n"
     ]
    },
    {
     "name": "stdout",
     "output_type": "stream",
     "text": [
      "7 8 Loss: 0.176 | Acc: 93.220% (935/1003)\n"
     ]
    },
    {
     "name": "stderr",
     "output_type": "stream",
     "text": [
      "100%|██████████| 3/3 [00:02<00:00,  1.27it/s]\n"
     ]
    },
    {
     "name": "stdout",
     "output_type": "stream",
     "text": [
      "2 3 Loss: 0.600 | Acc: 75.301% (250/332)\n",
      "\n",
      "Epoch: 94\n"
     ]
    },
    {
     "name": "stderr",
     "output_type": "stream",
     "text": [
      "100%|██████████| 8/8 [00:12<00:00,  1.58s/it]\n"
     ]
    },
    {
     "name": "stdout",
     "output_type": "stream",
     "text": [
      "7 8 Loss: 0.172 | Acc: 93.320% (936/1003)\n"
     ]
    },
    {
     "name": "stderr",
     "output_type": "stream",
     "text": [
      "100%|██████████| 3/3 [00:02<00:00,  1.27it/s]\n"
     ]
    },
    {
     "name": "stdout",
     "output_type": "stream",
     "text": [
      "2 3 Loss: 0.650 | Acc: 75.904% (252/332)\n",
      "\n",
      "Epoch: 95\n"
     ]
    },
    {
     "name": "stderr",
     "output_type": "stream",
     "text": [
      "100%|██████████| 8/8 [00:12<00:00,  1.59s/it]\n"
     ]
    },
    {
     "name": "stdout",
     "output_type": "stream",
     "text": [
      "7 8 Loss: 0.171 | Acc: 93.918% (942/1003)\n"
     ]
    },
    {
     "name": "stderr",
     "output_type": "stream",
     "text": [
      "100%|██████████| 3/3 [00:02<00:00,  1.29it/s]\n"
     ]
    },
    {
     "name": "stdout",
     "output_type": "stream",
     "text": [
      "2 3 Loss: 0.641 | Acc: 77.410% (257/332)\n",
      "\n",
      "Epoch: 96\n"
     ]
    },
    {
     "name": "stderr",
     "output_type": "stream",
     "text": [
      "100%|██████████| 8/8 [00:12<00:00,  1.59s/it]\n"
     ]
    },
    {
     "name": "stdout",
     "output_type": "stream",
     "text": [
      "7 8 Loss: 0.152 | Acc: 94.217% (945/1003)\n"
     ]
    },
    {
     "name": "stderr",
     "output_type": "stream",
     "text": [
      "100%|██████████| 3/3 [00:02<00:00,  1.32it/s]\n"
     ]
    },
    {
     "name": "stdout",
     "output_type": "stream",
     "text": [
      "2 3 Loss: 0.774 | Acc: 74.096% (246/332)\n",
      "\n",
      "Epoch: 97\n"
     ]
    },
    {
     "name": "stderr",
     "output_type": "stream",
     "text": [
      "100%|██████████| 8/8 [00:12<00:00,  1.58s/it]\n"
     ]
    },
    {
     "name": "stdout",
     "output_type": "stream",
     "text": [
      "7 8 Loss: 0.126 | Acc: 95.613% (959/1003)\n"
     ]
    },
    {
     "name": "stderr",
     "output_type": "stream",
     "text": [
      "100%|██████████| 3/3 [00:02<00:00,  1.28it/s]\n"
     ]
    },
    {
     "name": "stdout",
     "output_type": "stream",
     "text": [
      "2 3 Loss: 0.658 | Acc: 78.012% (259/332)\n",
      "Saving..\n",
      "\n",
      "Epoch: 98\n"
     ]
    },
    {
     "name": "stderr",
     "output_type": "stream",
     "text": [
      "100%|██████████| 8/8 [00:12<00:00,  1.60s/it]\n"
     ]
    },
    {
     "name": "stdout",
     "output_type": "stream",
     "text": [
      "7 8 Loss: 0.115 | Acc: 95.513% (958/1003)\n"
     ]
    },
    {
     "name": "stderr",
     "output_type": "stream",
     "text": [
      "100%|██████████| 3/3 [00:02<00:00,  1.28it/s]\n"
     ]
    },
    {
     "name": "stdout",
     "output_type": "stream",
     "text": [
      "2 3 Loss: 0.724 | Acc: 78.012% (259/332)\n",
      "\n",
      "Epoch: 99\n"
     ]
    },
    {
     "name": "stderr",
     "output_type": "stream",
     "text": [
      "100%|██████████| 8/8 [00:12<00:00,  1.58s/it]\n"
     ]
    },
    {
     "name": "stdout",
     "output_type": "stream",
     "text": [
      "7 8 Loss: 0.098 | Acc: 97.308% (976/1003)\n"
     ]
    },
    {
     "name": "stderr",
     "output_type": "stream",
     "text": [
      "100%|██████████| 3/3 [00:02<00:00,  1.28it/s]\n"
     ]
    },
    {
     "name": "stdout",
     "output_type": "stream",
     "text": [
      "2 3 Loss: 0.568 | Acc: 79.518% (264/332)\n",
      "Saving..\n",
      "\n",
      "Epoch: 100\n"
     ]
    },
    {
     "name": "stderr",
     "output_type": "stream",
     "text": [
      "100%|██████████| 8/8 [00:12<00:00,  1.59s/it]\n"
     ]
    },
    {
     "name": "stdout",
     "output_type": "stream",
     "text": [
      "7 8 Loss: 0.144 | Acc: 94.417% (947/1003)\n"
     ]
    },
    {
     "name": "stderr",
     "output_type": "stream",
     "text": [
      "100%|██████████| 3/3 [00:02<00:00,  1.30it/s]\n"
     ]
    },
    {
     "name": "stdout",
     "output_type": "stream",
     "text": [
      "2 3 Loss: 0.619 | Acc: 79.518% (264/332)\n",
      "\n",
      "Epoch: 101\n"
     ]
    },
    {
     "name": "stderr",
     "output_type": "stream",
     "text": [
      "100%|██████████| 8/8 [00:12<00:00,  1.59s/it]\n"
     ]
    },
    {
     "name": "stdout",
     "output_type": "stream",
     "text": [
      "7 8 Loss: 0.132 | Acc: 95.713% (960/1003)\n"
     ]
    },
    {
     "name": "stderr",
     "output_type": "stream",
     "text": [
      "100%|██████████| 3/3 [00:02<00:00,  1.26it/s]\n"
     ]
    },
    {
     "name": "stdout",
     "output_type": "stream",
     "text": [
      "2 3 Loss: 0.574 | Acc: 79.819% (265/332)\n",
      "Saving..\n",
      "\n",
      "Epoch: 102\n"
     ]
    },
    {
     "name": "stderr",
     "output_type": "stream",
     "text": [
      "100%|██████████| 8/8 [00:12<00:00,  1.59s/it]\n"
     ]
    },
    {
     "name": "stdout",
     "output_type": "stream",
     "text": [
      "7 8 Loss: 0.103 | Acc: 96.211% (965/1003)\n"
     ]
    },
    {
     "name": "stderr",
     "output_type": "stream",
     "text": [
      "100%|██████████| 3/3 [00:02<00:00,  1.30it/s]\n"
     ]
    },
    {
     "name": "stdout",
     "output_type": "stream",
     "text": [
      "2 3 Loss: 0.869 | Acc: 75.602% (251/332)\n",
      "\n",
      "Epoch: 103\n"
     ]
    },
    {
     "name": "stderr",
     "output_type": "stream",
     "text": [
      "100%|██████████| 8/8 [00:12<00:00,  1.59s/it]\n"
     ]
    },
    {
     "name": "stdout",
     "output_type": "stream",
     "text": [
      "7 8 Loss: 0.108 | Acc: 96.211% (965/1003)\n"
     ]
    },
    {
     "name": "stderr",
     "output_type": "stream",
     "text": [
      "100%|██████████| 3/3 [00:02<00:00,  1.27it/s]\n"
     ]
    },
    {
     "name": "stdout",
     "output_type": "stream",
     "text": [
      "2 3 Loss: 0.733 | Acc: 79.819% (265/332)\n",
      "\n",
      "Epoch: 104\n"
     ]
    },
    {
     "name": "stderr",
     "output_type": "stream",
     "text": [
      "100%|██████████| 8/8 [00:12<00:00,  1.60s/it]\n"
     ]
    },
    {
     "name": "stdout",
     "output_type": "stream",
     "text": [
      "7 8 Loss: 0.102 | Acc: 96.510% (968/1003)\n"
     ]
    },
    {
     "name": "stderr",
     "output_type": "stream",
     "text": [
      "100%|██████████| 3/3 [00:02<00:00,  1.28it/s]\n"
     ]
    },
    {
     "name": "stdout",
     "output_type": "stream",
     "text": [
      "2 3 Loss: 0.761 | Acc: 78.614% (261/332)\n",
      "\n",
      "Epoch: 105\n"
     ]
    },
    {
     "name": "stderr",
     "output_type": "stream",
     "text": [
      "100%|██████████| 8/8 [00:12<00:00,  1.59s/it]\n"
     ]
    },
    {
     "name": "stdout",
     "output_type": "stream",
     "text": [
      "7 8 Loss: 0.086 | Acc: 97.906% (982/1003)\n"
     ]
    },
    {
     "name": "stderr",
     "output_type": "stream",
     "text": [
      "100%|██████████| 3/3 [00:02<00:00,  1.29it/s]\n"
     ]
    },
    {
     "name": "stdout",
     "output_type": "stream",
     "text": [
      "2 3 Loss: 0.581 | Acc: 81.024% (269/332)\n",
      "Saving..\n",
      "\n",
      "Epoch: 106\n"
     ]
    },
    {
     "name": "stderr",
     "output_type": "stream",
     "text": [
      "100%|██████████| 8/8 [00:12<00:00,  1.59s/it]\n"
     ]
    },
    {
     "name": "stdout",
     "output_type": "stream",
     "text": [
      "7 8 Loss: 0.084 | Acc: 97.607% (979/1003)\n"
     ]
    },
    {
     "name": "stderr",
     "output_type": "stream",
     "text": [
      "100%|██████████| 3/3 [00:02<00:00,  1.29it/s]\n"
     ]
    },
    {
     "name": "stdout",
     "output_type": "stream",
     "text": [
      "2 3 Loss: 0.830 | Acc: 78.012% (259/332)\n",
      "\n",
      "Epoch: 107\n"
     ]
    },
    {
     "name": "stderr",
     "output_type": "stream",
     "text": [
      "100%|██████████| 8/8 [00:12<00:00,  1.59s/it]\n"
     ]
    },
    {
     "name": "stdout",
     "output_type": "stream",
     "text": [
      "7 8 Loss: 0.097 | Acc: 97.208% (975/1003)\n"
     ]
    },
    {
     "name": "stderr",
     "output_type": "stream",
     "text": [
      "100%|██████████| 3/3 [00:02<00:00,  1.22it/s]\n"
     ]
    },
    {
     "name": "stdout",
     "output_type": "stream",
     "text": [
      "2 3 Loss: 0.809 | Acc: 78.313% (260/332)\n",
      "\n",
      "Epoch: 108\n"
     ]
    },
    {
     "name": "stderr",
     "output_type": "stream",
     "text": [
      "100%|██████████| 8/8 [00:12<00:00,  1.59s/it]\n"
     ]
    },
    {
     "name": "stdout",
     "output_type": "stream",
     "text": [
      "7 8 Loss: 0.078 | Acc: 97.607% (979/1003)\n"
     ]
    },
    {
     "name": "stderr",
     "output_type": "stream",
     "text": [
      "100%|██████████| 3/3 [00:02<00:00,  1.25it/s]\n"
     ]
    },
    {
     "name": "stdout",
     "output_type": "stream",
     "text": [
      "2 3 Loss: 0.710 | Acc: 79.217% (263/332)\n",
      "\n",
      "Epoch: 109\n"
     ]
    },
    {
     "name": "stderr",
     "output_type": "stream",
     "text": [
      "100%|██████████| 8/8 [00:12<00:00,  1.59s/it]\n"
     ]
    },
    {
     "name": "stdout",
     "output_type": "stream",
     "text": [
      "7 8 Loss: 0.076 | Acc: 97.408% (977/1003)\n"
     ]
    },
    {
     "name": "stderr",
     "output_type": "stream",
     "text": [
      "100%|██████████| 3/3 [00:02<00:00,  1.26it/s]\n"
     ]
    },
    {
     "name": "stdout",
     "output_type": "stream",
     "text": [
      "2 3 Loss: 0.735 | Acc: 80.120% (266/332)\n",
      "\n",
      "Epoch: 110\n"
     ]
    },
    {
     "name": "stderr",
     "output_type": "stream",
     "text": [
      "100%|██████████| 8/8 [00:12<00:00,  1.59s/it]\n"
     ]
    },
    {
     "name": "stdout",
     "output_type": "stream",
     "text": [
      "7 8 Loss: 0.061 | Acc: 98.903% (992/1003)\n"
     ]
    },
    {
     "name": "stderr",
     "output_type": "stream",
     "text": [
      "100%|██████████| 3/3 [00:02<00:00,  1.31it/s]\n"
     ]
    },
    {
     "name": "stdout",
     "output_type": "stream",
     "text": [
      "2 3 Loss: 0.779 | Acc: 80.120% (266/332)\n",
      "\n",
      "Epoch: 111\n"
     ]
    },
    {
     "name": "stderr",
     "output_type": "stream",
     "text": [
      "100%|██████████| 8/8 [00:12<00:00,  1.60s/it]\n"
     ]
    },
    {
     "name": "stdout",
     "output_type": "stream",
     "text": [
      "7 8 Loss: 0.061 | Acc: 98.205% (985/1003)\n"
     ]
    },
    {
     "name": "stderr",
     "output_type": "stream",
     "text": [
      "100%|██████████| 3/3 [00:02<00:00,  1.24it/s]\n"
     ]
    },
    {
     "name": "stdout",
     "output_type": "stream",
     "text": [
      "2 3 Loss: 0.708 | Acc: 80.120% (266/332)\n",
      "\n",
      "Epoch: 112\n"
     ]
    },
    {
     "name": "stderr",
     "output_type": "stream",
     "text": [
      "100%|██████████| 8/8 [00:12<00:00,  1.59s/it]\n"
     ]
    },
    {
     "name": "stdout",
     "output_type": "stream",
     "text": [
      "7 8 Loss: 0.040 | Acc: 99.601% (999/1003)\n"
     ]
    },
    {
     "name": "stderr",
     "output_type": "stream",
     "text": [
      "100%|██████████| 3/3 [00:02<00:00,  1.22it/s]\n"
     ]
    },
    {
     "name": "stdout",
     "output_type": "stream",
     "text": [
      "2 3 Loss: 0.746 | Acc: 80.723% (268/332)\n",
      "\n",
      "Epoch: 113\n"
     ]
    },
    {
     "name": "stderr",
     "output_type": "stream",
     "text": [
      "100%|██████████| 8/8 [00:12<00:00,  1.59s/it]\n"
     ]
    },
    {
     "name": "stdout",
     "output_type": "stream",
     "text": [
      "7 8 Loss: 0.042 | Acc: 99.003% (993/1003)\n"
     ]
    },
    {
     "name": "stderr",
     "output_type": "stream",
     "text": [
      "100%|██████████| 3/3 [00:02<00:00,  1.30it/s]\n"
     ]
    },
    {
     "name": "stdout",
     "output_type": "stream",
     "text": [
      "2 3 Loss: 0.881 | Acc: 78.916% (262/332)\n",
      "\n",
      "Epoch: 114\n"
     ]
    },
    {
     "name": "stderr",
     "output_type": "stream",
     "text": [
      "100%|██████████| 8/8 [00:12<00:00,  1.59s/it]\n"
     ]
    },
    {
     "name": "stdout",
     "output_type": "stream",
     "text": [
      "7 8 Loss: 0.055 | Acc: 98.604% (989/1003)\n"
     ]
    },
    {
     "name": "stderr",
     "output_type": "stream",
     "text": [
      "100%|██████████| 3/3 [00:02<00:00,  1.27it/s]\n"
     ]
    },
    {
     "name": "stdout",
     "output_type": "stream",
     "text": [
      "2 3 Loss: 0.791 | Acc: 80.120% (266/332)\n",
      "\n",
      "Epoch: 115\n"
     ]
    },
    {
     "name": "stderr",
     "output_type": "stream",
     "text": [
      "100%|██████████| 8/8 [00:12<00:00,  1.61s/it]\n"
     ]
    },
    {
     "name": "stdout",
     "output_type": "stream",
     "text": [
      "7 8 Loss: 0.038 | Acc: 99.103% (994/1003)\n"
     ]
    },
    {
     "name": "stderr",
     "output_type": "stream",
     "text": [
      "100%|██████████| 3/3 [00:02<00:00,  1.27it/s]\n"
     ]
    },
    {
     "name": "stdout",
     "output_type": "stream",
     "text": [
      "2 3 Loss: 0.813 | Acc: 80.422% (267/332)\n",
      "\n",
      "Epoch: 116\n"
     ]
    },
    {
     "name": "stderr",
     "output_type": "stream",
     "text": [
      "100%|██████████| 8/8 [00:12<00:00,  1.60s/it]\n"
     ]
    },
    {
     "name": "stdout",
     "output_type": "stream",
     "text": [
      "7 8 Loss: 0.032 | Acc: 99.302% (996/1003)\n"
     ]
    },
    {
     "name": "stderr",
     "output_type": "stream",
     "text": [
      "100%|██████████| 3/3 [00:02<00:00,  1.28it/s]\n"
     ]
    },
    {
     "name": "stdout",
     "output_type": "stream",
     "text": [
      "2 3 Loss: 0.986 | Acc: 78.916% (262/332)\n",
      "\n",
      "Epoch: 117\n"
     ]
    },
    {
     "name": "stderr",
     "output_type": "stream",
     "text": [
      "100%|██████████| 8/8 [00:12<00:00,  1.59s/it]\n"
     ]
    },
    {
     "name": "stdout",
     "output_type": "stream",
     "text": [
      "7 8 Loss: 0.033 | Acc: 99.601% (999/1003)\n"
     ]
    },
    {
     "name": "stderr",
     "output_type": "stream",
     "text": [
      "100%|██████████| 3/3 [00:02<00:00,  1.26it/s]\n"
     ]
    },
    {
     "name": "stdout",
     "output_type": "stream",
     "text": [
      "2 3 Loss: 0.741 | Acc: 82.229% (273/332)\n",
      "Saving..\n",
      "\n",
      "Epoch: 118\n"
     ]
    },
    {
     "name": "stderr",
     "output_type": "stream",
     "text": [
      "100%|██████████| 8/8 [00:12<00:00,  1.59s/it]\n"
     ]
    },
    {
     "name": "stdout",
     "output_type": "stream",
     "text": [
      "7 8 Loss: 0.037 | Acc: 99.103% (994/1003)\n"
     ]
    },
    {
     "name": "stderr",
     "output_type": "stream",
     "text": [
      "100%|██████████| 3/3 [00:02<00:00,  1.30it/s]\n"
     ]
    },
    {
     "name": "stdout",
     "output_type": "stream",
     "text": [
      "2 3 Loss: 0.916 | Acc: 79.518% (264/332)\n",
      "\n",
      "Epoch: 119\n"
     ]
    },
    {
     "name": "stderr",
     "output_type": "stream",
     "text": [
      "100%|██████████| 8/8 [00:12<00:00,  1.59s/it]\n"
     ]
    },
    {
     "name": "stdout",
     "output_type": "stream",
     "text": [
      "7 8 Loss: 0.041 | Acc: 99.003% (993/1003)\n"
     ]
    },
    {
     "name": "stderr",
     "output_type": "stream",
     "text": [
      "100%|██████████| 3/3 [00:02<00:00,  1.25it/s]\n"
     ]
    },
    {
     "name": "stdout",
     "output_type": "stream",
     "text": [
      "2 3 Loss: 0.850 | Acc: 80.723% (268/332)\n",
      "\n",
      "Epoch: 120\n"
     ]
    },
    {
     "name": "stderr",
     "output_type": "stream",
     "text": [
      "100%|██████████| 8/8 [00:12<00:00,  1.58s/it]\n"
     ]
    },
    {
     "name": "stdout",
     "output_type": "stream",
     "text": [
      "7 8 Loss: 0.032 | Acc: 99.501% (998/1003)\n"
     ]
    },
    {
     "name": "stderr",
     "output_type": "stream",
     "text": [
      "100%|██████████| 3/3 [00:02<00:00,  1.26it/s]\n"
     ]
    },
    {
     "name": "stdout",
     "output_type": "stream",
     "text": [
      "2 3 Loss: 0.898 | Acc: 81.325% (270/332)\n",
      "\n",
      "Epoch: 121\n"
     ]
    },
    {
     "name": "stderr",
     "output_type": "stream",
     "text": [
      "100%|██████████| 8/8 [00:12<00:00,  1.60s/it]\n"
     ]
    },
    {
     "name": "stdout",
     "output_type": "stream",
     "text": [
      "7 8 Loss: 0.033 | Acc: 99.302% (996/1003)\n"
     ]
    },
    {
     "name": "stderr",
     "output_type": "stream",
     "text": [
      "100%|██████████| 3/3 [00:02<00:00,  1.27it/s]\n"
     ]
    },
    {
     "name": "stdout",
     "output_type": "stream",
     "text": [
      "2 3 Loss: 0.922 | Acc: 79.217% (263/332)\n",
      "\n",
      "Epoch: 122\n"
     ]
    },
    {
     "name": "stderr",
     "output_type": "stream",
     "text": [
      "100%|██████████| 8/8 [00:12<00:00,  1.58s/it]\n"
     ]
    },
    {
     "name": "stdout",
     "output_type": "stream",
     "text": [
      "7 8 Loss: 0.032 | Acc: 99.402% (997/1003)\n"
     ]
    },
    {
     "name": "stderr",
     "output_type": "stream",
     "text": [
      "100%|██████████| 3/3 [00:02<00:00,  1.27it/s]\n"
     ]
    },
    {
     "name": "stdout",
     "output_type": "stream",
     "text": [
      "2 3 Loss: 0.920 | Acc: 81.024% (269/332)\n",
      "\n",
      "Epoch: 123\n"
     ]
    },
    {
     "name": "stderr",
     "output_type": "stream",
     "text": [
      "100%|██████████| 8/8 [00:12<00:00,  1.58s/it]\n"
     ]
    },
    {
     "name": "stdout",
     "output_type": "stream",
     "text": [
      "7 8 Loss: 0.019 | Acc: 99.900% (1002/1003)\n"
     ]
    },
    {
     "name": "stderr",
     "output_type": "stream",
     "text": [
      "100%|██████████| 3/3 [00:02<00:00,  1.25it/s]\n"
     ]
    },
    {
     "name": "stdout",
     "output_type": "stream",
     "text": [
      "2 3 Loss: 0.902 | Acc: 80.723% (268/332)\n",
      "\n",
      "Epoch: 124\n"
     ]
    },
    {
     "name": "stderr",
     "output_type": "stream",
     "text": [
      "100%|██████████| 8/8 [00:12<00:00,  1.59s/it]\n"
     ]
    },
    {
     "name": "stdout",
     "output_type": "stream",
     "text": [
      "7 8 Loss: 0.040 | Acc: 98.704% (990/1003)\n"
     ]
    },
    {
     "name": "stderr",
     "output_type": "stream",
     "text": [
      "100%|██████████| 3/3 [00:02<00:00,  1.28it/s]\n"
     ]
    },
    {
     "name": "stdout",
     "output_type": "stream",
     "text": [
      "2 3 Loss: 0.995 | Acc: 78.916% (262/332)\n",
      "\n",
      "Epoch: 125\n"
     ]
    },
    {
     "name": "stderr",
     "output_type": "stream",
     "text": [
      "100%|██████████| 8/8 [00:12<00:00,  1.59s/it]\n"
     ]
    },
    {
     "name": "stdout",
     "output_type": "stream",
     "text": [
      "7 8 Loss: 0.026 | Acc: 99.601% (999/1003)\n"
     ]
    },
    {
     "name": "stderr",
     "output_type": "stream",
     "text": [
      "100%|██████████| 3/3 [00:02<00:00,  1.25it/s]\n"
     ]
    },
    {
     "name": "stdout",
     "output_type": "stream",
     "text": [
      "2 3 Loss: 0.951 | Acc: 80.422% (267/332)\n",
      "\n",
      "Epoch: 126\n"
     ]
    },
    {
     "name": "stderr",
     "output_type": "stream",
     "text": [
      "100%|██████████| 8/8 [00:12<00:00,  1.58s/it]\n"
     ]
    },
    {
     "name": "stdout",
     "output_type": "stream",
     "text": [
      "7 8 Loss: 0.040 | Acc: 98.804% (991/1003)\n"
     ]
    },
    {
     "name": "stderr",
     "output_type": "stream",
     "text": [
      "100%|██████████| 3/3 [00:02<00:00,  1.26it/s]\n"
     ]
    },
    {
     "name": "stdout",
     "output_type": "stream",
     "text": [
      "2 3 Loss: 0.863 | Acc: 81.928% (272/332)\n",
      "\n",
      "Epoch: 127\n"
     ]
    },
    {
     "name": "stderr",
     "output_type": "stream",
     "text": [
      "100%|██████████| 8/8 [00:12<00:00,  1.59s/it]\n"
     ]
    },
    {
     "name": "stdout",
     "output_type": "stream",
     "text": [
      "7 8 Loss: 0.033 | Acc: 99.103% (994/1003)\n"
     ]
    },
    {
     "name": "stderr",
     "output_type": "stream",
     "text": [
      "100%|██████████| 3/3 [00:02<00:00,  1.27it/s]\n"
     ]
    },
    {
     "name": "stdout",
     "output_type": "stream",
     "text": [
      "2 3 Loss: 0.900 | Acc: 79.819% (265/332)\n",
      "\n",
      "Epoch: 128\n"
     ]
    },
    {
     "name": "stderr",
     "output_type": "stream",
     "text": [
      "100%|██████████| 8/8 [00:12<00:00,  1.59s/it]\n"
     ]
    },
    {
     "name": "stdout",
     "output_type": "stream",
     "text": [
      "7 8 Loss: 0.018 | Acc: 99.900% (1002/1003)\n"
     ]
    },
    {
     "name": "stderr",
     "output_type": "stream",
     "text": [
      "100%|██████████| 3/3 [00:02<00:00,  1.30it/s]\n"
     ]
    },
    {
     "name": "stdout",
     "output_type": "stream",
     "text": [
      "2 3 Loss: 0.964 | Acc: 79.217% (263/332)\n",
      "\n",
      "Epoch: 129\n"
     ]
    },
    {
     "name": "stderr",
     "output_type": "stream",
     "text": [
      "100%|██████████| 8/8 [00:12<00:00,  1.58s/it]\n"
     ]
    },
    {
     "name": "stdout",
     "output_type": "stream",
     "text": [
      "7 8 Loss: 0.022 | Acc: 99.202% (995/1003)\n"
     ]
    },
    {
     "name": "stderr",
     "output_type": "stream",
     "text": [
      "100%|██████████| 3/3 [00:02<00:00,  1.29it/s]\n"
     ]
    },
    {
     "name": "stdout",
     "output_type": "stream",
     "text": [
      "2 3 Loss: 0.922 | Acc: 78.313% (260/332)\n",
      "\n",
      "Epoch: 130\n"
     ]
    },
    {
     "name": "stderr",
     "output_type": "stream",
     "text": [
      "100%|██████████| 8/8 [00:12<00:00,  1.60s/it]\n"
     ]
    },
    {
     "name": "stdout",
     "output_type": "stream",
     "text": [
      "7 8 Loss: 0.021 | Acc: 99.801% (1001/1003)\n"
     ]
    },
    {
     "name": "stderr",
     "output_type": "stream",
     "text": [
      "100%|██████████| 3/3 [00:02<00:00,  1.29it/s]\n"
     ]
    },
    {
     "name": "stdout",
     "output_type": "stream",
     "text": [
      "2 3 Loss: 1.001 | Acc: 78.916% (262/332)\n",
      "\n",
      "Epoch: 131\n"
     ]
    },
    {
     "name": "stderr",
     "output_type": "stream",
     "text": [
      "  0%|          | 0/8 [00:02<?, ?it/s]\n"
     ]
    },
    {
     "ename": "KeyboardInterrupt",
     "evalue": "",
     "output_type": "error",
     "traceback": [
      "\u001b[0;31m---------------------------------------------------------------------------\u001b[0m",
      "\u001b[0;31mKeyboardInterrupt\u001b[0m                         Traceback (most recent call last)",
      "\u001b[0;32m/tmp/ipykernel_61058/1413156807.py\u001b[0m in \u001b[0;36m<module>\u001b[0;34m\u001b[0m\n\u001b[1;32m     98\u001b[0m \u001b[0;34m\u001b[0m\u001b[0m\n\u001b[1;32m     99\u001b[0m \u001b[0;32mfor\u001b[0m \u001b[0mepoch\u001b[0m \u001b[0;32min\u001b[0m \u001b[0mrange\u001b[0m\u001b[0;34m(\u001b[0m\u001b[0mnum_epochs\u001b[0m\u001b[0;34m)\u001b[0m\u001b[0;34m:\u001b[0m\u001b[0;34m\u001b[0m\u001b[0;34m\u001b[0m\u001b[0m\n\u001b[0;32m--> 100\u001b[0;31m     \u001b[0mtrain\u001b[0m\u001b[0;34m(\u001b[0m\u001b[0mepoch\u001b[0m\u001b[0;34m)\u001b[0m\u001b[0;34m\u001b[0m\u001b[0;34m\u001b[0m\u001b[0m\n\u001b[0m\u001b[1;32m    101\u001b[0m     \u001b[0mtest\u001b[0m\u001b[0;34m(\u001b[0m\u001b[0mepoch\u001b[0m\u001b[0;34m)\u001b[0m\u001b[0;34m\u001b[0m\u001b[0;34m\u001b[0m\u001b[0m\n\u001b[1;32m    102\u001b[0m     \u001b[0mscheduler\u001b[0m\u001b[0;34m.\u001b[0m\u001b[0mstep\u001b[0m\u001b[0;34m(\u001b[0m\u001b[0;34m)\u001b[0m\u001b[0;34m\u001b[0m\u001b[0;34m\u001b[0m\u001b[0m\n",
      "\u001b[0;32m/tmp/ipykernel_61058/1413156807.py\u001b[0m in \u001b[0;36mtrain\u001b[0;34m(epoch)\u001b[0m\n\u001b[1;32m     53\u001b[0m         \u001b[0moptimizer\u001b[0m\u001b[0;34m.\u001b[0m\u001b[0mstep\u001b[0m\u001b[0;34m(\u001b[0m\u001b[0;34m)\u001b[0m\u001b[0;34m\u001b[0m\u001b[0;34m\u001b[0m\u001b[0m\n\u001b[1;32m     54\u001b[0m \u001b[0;34m\u001b[0m\u001b[0m\n\u001b[0;32m---> 55\u001b[0;31m         \u001b[0mtrain_loss\u001b[0m \u001b[0;34m+=\u001b[0m \u001b[0mloss\u001b[0m\u001b[0;34m.\u001b[0m\u001b[0mitem\u001b[0m\u001b[0;34m(\u001b[0m\u001b[0;34m)\u001b[0m\u001b[0;34m\u001b[0m\u001b[0;34m\u001b[0m\u001b[0m\n\u001b[0m\u001b[1;32m     56\u001b[0m         \u001b[0m_\u001b[0m\u001b[0;34m,\u001b[0m \u001b[0mpredicted\u001b[0m \u001b[0;34m=\u001b[0m \u001b[0moutputs\u001b[0m\u001b[0;34m.\u001b[0m\u001b[0mmax\u001b[0m\u001b[0;34m(\u001b[0m\u001b[0;36m1\u001b[0m\u001b[0;34m)\u001b[0m\u001b[0;34m\u001b[0m\u001b[0;34m\u001b[0m\u001b[0m\n\u001b[1;32m     57\u001b[0m         \u001b[0mtotal\u001b[0m \u001b[0;34m+=\u001b[0m \u001b[0mtargets\u001b[0m\u001b[0;34m.\u001b[0m\u001b[0msize\u001b[0m\u001b[0;34m(\u001b[0m\u001b[0;36m0\u001b[0m\u001b[0;34m)\u001b[0m\u001b[0;34m\u001b[0m\u001b[0;34m\u001b[0m\u001b[0m\n",
      "\u001b[0;31mKeyboardInterrupt\u001b[0m: "
     ]
    }
   ],
   "source": [
    "device = 'cuda' if torch.cuda.is_available() else 'cpu'\n",
    "best_acc = 0  # best test accuracy\n",
    "\n",
    "\n",
    "# Model\n",
    "print('==> Building model..')\n",
    "if model=='resnet18':\n",
    "    # net = VGG('VGG19')\n",
    "    net = ResNet18(num_channels=num_ch,num_classes=num_classes)\n",
    "    # net = PreActResNet18()\n",
    "    # net = GoogLeNet()\n",
    "    # net = DenseNet121()\n",
    "    # net = ResNeXt29_2x64d()\n",
    "    # net = MobileNet()\n",
    "    # net = MobileNetV2()\n",
    "    # net = DPN92()\n",
    "    # net = ShuffleNetG2()\n",
    "    # net = SENet18()\n",
    "    # net = ShuffleNetV2(1)\n",
    "    # net = EfficientNetB0()\n",
    "    # net = RegNetX_200MF()\n",
    "    # net = SimpleDLA()\n",
    "elif model=='vgg16':\n",
    "    net = VGG('VGG16',num_channels=num_ch)\n",
    "elif model=='densenet121':\n",
    "    net = DenseNet121()\n",
    "net = net.to(device)\n",
    "    \n",
    "if device == 'cuda':\n",
    "    net = torch.nn.DataParallel(net)\n",
    "    cudnn.benchmark = True\n",
    "\n",
    "\n",
    "criterion = nn.CrossEntropyLoss()\n",
    "optimizer = optim.SGD(net.parameters(), lr=lr,\n",
    "                      momentum=0.9, weight_decay=5e-4)\n",
    "scheduler = torch.optim.lr_scheduler.CosineAnnealingLR(optimizer, T_max=200)\n",
    "\n",
    "\n",
    "# Training\n",
    "def train(epoch):\n",
    "    print('\\nEpoch: %d' % epoch)\n",
    "    net.train()\n",
    "    train_loss = 0\n",
    "    correct = 0\n",
    "    total = 0\n",
    "    for batch_idx, (inputs, targets) in enumerate(tqdm(trainloader)):\n",
    "        inputs, targets = inputs.to(device), targets.to(device)\n",
    "        optimizer.zero_grad()\n",
    "        outputs = net(inputs)\n",
    "        loss = criterion(outputs, targets)\n",
    "        loss.backward()\n",
    "        optimizer.step()\n",
    "\n",
    "        train_loss += loss.item()\n",
    "        _, predicted = outputs.max(1)\n",
    "        total += targets.size(0)\n",
    "        correct += predicted.eq(targets).sum().item()\n",
    "\n",
    "    print(batch_idx, len(trainloader), 'Loss: %.3f | Acc: %.3f%% (%d/%d)'\n",
    "                 % (train_loss/(batch_idx+1), 100.*correct/total, correct, total))\n",
    "\n",
    "\n",
    "def test(epoch):\n",
    "    global best_acc\n",
    "    net.eval()\n",
    "    test_loss = 0\n",
    "    correct = 0\n",
    "    total = 0\n",
    "    with torch.no_grad():\n",
    "        for batch_idx, (inputs, targets) in enumerate(tqdm(testloader)):\n",
    "            inputs, targets = inputs.to(device), targets.to(device)\n",
    "            outputs = net(inputs)\n",
    "            loss = criterion(outputs, targets)\n",
    "\n",
    "            test_loss += loss.item()\n",
    "            _, predicted = outputs.max(1)\n",
    "            total += targets.size(0)\n",
    "            correct += predicted.eq(targets).sum().item()\n",
    "\n",
    "    print(batch_idx, len(testloader), 'Loss: %.3f | Acc: %.3f%% (%d/%d)'\n",
    "                 % (test_loss/(batch_idx+1), 100.*correct/total, correct, total))\n",
    "\n",
    "    # Save checkpoint.\n",
    "    acc = 100.*correct/total\n",
    "    if acc > best_acc:\n",
    "        print('Saving..')\n",
    "        state = {\n",
    "            'net': net.state_dict(),\n",
    "            'acc': acc,\n",
    "            'epoch': epoch,\n",
    "        }\n",
    "#         if not os.path.isdir(f'{args['expt_name']}_checkpoint'):\n",
    "#             os.mkdir('checkpoint')\n",
    "        torch.save(state, os.path.join(save_dir,f'{expt_name}.pt'))\n",
    "        best_acc = acc\n",
    "\n",
    "\n",
    "for epoch in range(num_epochs):\n",
    "    train(epoch)\n",
    "    test(epoch)\n",
    "    scheduler.step()"
   ]
  },
  {
   "cell_type": "markdown",
   "metadata": {},
   "source": [
    "# GradCam Viz"
   ]
  },
  {
   "cell_type": "code",
   "execution_count": null,
   "metadata": {
    "scrolled": true
   },
   "outputs": [],
   "source": [
    "# # SHAP on intermediate soft-KNN outputs\n",
    "# # user hyperparams\n",
    "# expt_name = 'vgg16_kmnist_patch_48316'\n",
    "# layer_id = 3 # vgg layer to viz net.module.features[layer_id]\n",
    "#                # 0,3,7,10,14,17,20,24,27,30,34,37,40\n",
    "# train_emb_idx = 1 # info_dict['feats'][train_emb_idx]\n",
    "#               # 0,1,2,3,4,5,6,7,8,9,10,11,12\n",
    "\n",
    "# # load model\n",
    "# train_embs_pkl_path = os.path.join(save_dir,f'{expt_name}.pkl')\n",
    "# net = nn.DataParallel(customVGG2('VGG16', train_embs_pkl_path, layer_id, train_emb_idx, num_channels=1))\n",
    "# net.load_state_dict(torch.load(os.path.join(save_dir,f'{expt_name}.pt'))['net'])\n",
    "# net.eval()\n",
    "\n",
    "# # load batch of images\n",
    "# batch = next(iter(testloader))\n",
    "# images, _ = batch\n",
    "\n",
    "# # prepare shap train and test images\n",
    "# shap_train_imgs = images[:50].to('cuda')\n",
    "# shap_test_imgs = images[490:].to('cuda')\n",
    "\n",
    "# e = shap.DeepExplainer(net, shap_train_imgs)\n",
    "# shap_values = e.shap_values(shap_test_imgs)\n",
    "\n",
    "# shap_numpy = [np.swapaxes(np.swapaxes(s, 1, -1), 1, 2) for s in shap_values]\n",
    "# test_numpy = np.swapaxes(np.swapaxes(shap_test_imgs.cpu().numpy(), 1, -1), 1, 2)\n",
    "# shap.image_plot(shap_numpy, -test_numpy, width=100.0)"
   ]
  },
  {
   "cell_type": "code",
   "execution_count": null,
   "metadata": {
    "scrolled": true
   },
   "outputs": [],
   "source": [
    "# GradCAM on intermediate soft-KNN outputs\n",
    "# user hyperparams\n",
    "expt_name = 'vgg16_kmnist_patch_84442'\n",
    "layer_id = 0 # vgg layer to viz net.module.features[layer_id]\n",
    "               # 0,3,7,10,14,17,20,24,27,30,34,37,40\n",
    "train_emb_idx = 0 # info_dict['feats'][train_emb_idx]\n",
    "              # 0,1,2,3,4,5,6,7,8,9,10,11,12\n",
    "\n",
    "# load model\n",
    "train_embs_pkl_path = os.path.join(save_dir,f'{expt_name}.pkl')\n",
    "net = nn.DataParallel(customVGG2('VGG16', train_embs_pkl_path, layer_id, train_emb_idx, num_channels=1))\n",
    "net.load_state_dict(torch.load(os.path.join(save_dir,f'{expt_name}.pt'))['net'])\n",
    "net.eval()\n",
    "\n",
    "# loop over test images\n",
    "for _ in range(25):\n",
    "    img_id = int(random.random()*len(trainset.data))\n",
    "    img = trainset.data[img_id]\n",
    "    \n",
    "    # pre-process the img to make it compatible for forward pass\n",
    "    to_pil_trans = transforms.ToPILImage()\n",
    "    if dataset=='mnist' or dataset=='kmnist' or dataset=='fmnist':\n",
    "        img_tensor = to_pil_trans(img.squeeze().to('cuda'))\n",
    "    else:\n",
    "        img_tensor = to_pil_trans(img.permute(2,0,1).to('cuda'))\n",
    "    img_tensor = trans(img_tensor).unsqueeze(0)\n",
    "    if img_tensor.shape[1]==4:\n",
    "        img_tensor = img_tensor[:,0,:,:].unsqueeze(0)\n",
    "        \n",
    "    img_rgb = img_tensor.squeeze().unsqueeze(-1).expand(32,32,3)\n",
    "\n",
    "    # gradCAM code\n",
    "    targets = [ClassifierOutputTarget(0)]\n",
    "    target_layers = [net.module.features[layer_id]]\n",
    "\n",
    "    cam = GradCAM(model=net, target_layers=target_layers, use_cuda=True)\n",
    "    grayscale_cams = cam(input_tensor=img_tensor, targets=targets, aug_smooth=False, eigen_smooth=False)\n",
    "    cam_op = show_cam_on_image(np.array(img_rgb)*0.35, (grayscale_cams[0]>0.8).astype(float)*20, use_rgb=True)\n",
    "    \n",
    "    img_list = []\n",
    "    img_list.append(img_rgb)\n",
    "    img_list.append(grayscale_cams[0])\n",
    "    img_list.append((grayscale_cams[0]>0.8).astype(float))\n",
    "    img_list.append(cam_op)\n",
    "\n",
    "    # plot results\n",
    "    plot_images(img_list,rows=1,cols=4,titles=[f'Img Id: {img_id}','Heatmap','Thresholded Heatmap','Overlay'])"
   ]
  },
  {
   "cell_type": "code",
   "execution_count": null,
   "metadata": {},
   "outputs": [],
   "source": [
    "cam_op.shape, img_rgb.shape, grayscale_cams[0].shape"
   ]
  },
  {
   "cell_type": "markdown",
   "metadata": {},
   "source": [
    "### Save Figs to Folder"
   ]
  },
  {
   "cell_type": "code",
   "execution_count": null,
   "metadata": {},
   "outputs": [],
   "source": [
    "img_id = 45456# 45456 , 50547\n",
    "img = trainset.data[img_id]\n",
    "\n",
    "# pre-process the img to make it compatible for forward pass\n",
    "to_pil_trans = transforms.ToPILImage()\n",
    "if dataset=='mnist' or dataset=='kmnist' or dataset=='fmnist':\n",
    "    img_tensor = to_pil_trans(img.squeeze().to('cuda'))\n",
    "else:\n",
    "    img_tensor = to_pil_trans(img.permute(2,0,1).to('cuda'))\n",
    "img_tensor = trans(img_tensor).unsqueeze(0)\n",
    "if img_tensor.shape[1]==4:\n",
    "    img_tensor = img_tensor[:,0,:,:].unsqueeze(0)\n",
    "\n",
    "img_rgb = img_tensor.squeeze().unsqueeze(-1).expand(32,32,3)\n",
    "\n",
    "# gradCAM code\n",
    "targets = [ClassifierOutputTarget(0)]\n",
    "target_layers = [net.module.features[layer_id]]\n",
    "\n",
    "cam = GradCAM(model=net, target_layers=target_layers, use_cuda=True)\n",
    "grayscale_cams = cam(input_tensor=img_tensor, targets=targets, aug_smooth=False, eigen_smooth=False)\n",
    "cam_op = show_cam_on_image(np.array(img_rgb)*0.35, (grayscale_cams[0]>0.8).astype(float)*20, use_rgb=True)\n",
    "\n",
    "img_list = []\n",
    "img_list.append(img_rgb)\n",
    "img_list.append(grayscale_cams[0])\n",
    "img_list.append((grayscale_cams[0]>0.8).astype(float))\n",
    "img_list.append(cam_op)\n",
    "\n",
    "# plot results\n",
    "plot_images(img_list,rows=1,cols=4,titles=['Original Img','Heatmap','Thresholded Heatmap','Overlay'])"
   ]
  },
  {
   "cell_type": "code",
   "execution_count": null,
   "metadata": {},
   "outputs": [],
   "source": [
    "plt.axis('off') \n",
    "plt.imshow(cam_op)"
   ]
  },
  {
   "cell_type": "code",
   "execution_count": null,
   "metadata": {},
   "outputs": [],
   "source": [
    "plt.axis('off') \n",
    "plt.imshow(img_rgb)"
   ]
  },
  {
   "cell_type": "markdown",
   "metadata": {},
   "source": [
    "# Obtain Train (subset) embeddings"
   ]
  },
  {
   "cell_type": "code",
   "execution_count": 34,
   "metadata": {
    "scrolled": true
   },
   "outputs": [
    {
     "data": {
      "text/plain": [
       "DataParallel(\n",
       "  (module): ResNet(\n",
       "    (conv1): Conv2d(3, 64, kernel_size=(3, 3), stride=(1, 1), padding=(1, 1), bias=False)\n",
       "    (bn1): BatchNorm2d(64, eps=1e-05, momentum=0.1, affine=True, track_running_stats=True)\n",
       "    (layer1): Sequential(\n",
       "      (0): BasicBlock(\n",
       "        (conv1): Conv2d(64, 64, kernel_size=(3, 3), stride=(1, 1), padding=(1, 1), bias=False)\n",
       "        (bn1): BatchNorm2d(64, eps=1e-05, momentum=0.1, affine=True, track_running_stats=True)\n",
       "        (conv2): Conv2d(64, 64, kernel_size=(3, 3), stride=(1, 1), padding=(1, 1), bias=False)\n",
       "        (bn2): BatchNorm2d(64, eps=1e-05, momentum=0.1, affine=True, track_running_stats=True)\n",
       "        (shortcut): Sequential()\n",
       "      )\n",
       "      (1): BasicBlock(\n",
       "        (conv1): Conv2d(64, 64, kernel_size=(3, 3), stride=(1, 1), padding=(1, 1), bias=False)\n",
       "        (bn1): BatchNorm2d(64, eps=1e-05, momentum=0.1, affine=True, track_running_stats=True)\n",
       "        (conv2): Conv2d(64, 64, kernel_size=(3, 3), stride=(1, 1), padding=(1, 1), bias=False)\n",
       "        (bn2): BatchNorm2d(64, eps=1e-05, momentum=0.1, affine=True, track_running_stats=True)\n",
       "        (shortcut): Sequential()\n",
       "      )\n",
       "    )\n",
       "    (layer2): Sequential(\n",
       "      (0): BasicBlock(\n",
       "        (conv1): Conv2d(64, 128, kernel_size=(3, 3), stride=(2, 2), padding=(1, 1), bias=False)\n",
       "        (bn1): BatchNorm2d(128, eps=1e-05, momentum=0.1, affine=True, track_running_stats=True)\n",
       "        (conv2): Conv2d(128, 128, kernel_size=(3, 3), stride=(1, 1), padding=(1, 1), bias=False)\n",
       "        (bn2): BatchNorm2d(128, eps=1e-05, momentum=0.1, affine=True, track_running_stats=True)\n",
       "        (shortcut): Sequential(\n",
       "          (0): Conv2d(64, 128, kernel_size=(1, 1), stride=(2, 2), bias=False)\n",
       "          (1): BatchNorm2d(128, eps=1e-05, momentum=0.1, affine=True, track_running_stats=True)\n",
       "        )\n",
       "      )\n",
       "      (1): BasicBlock(\n",
       "        (conv1): Conv2d(128, 128, kernel_size=(3, 3), stride=(1, 1), padding=(1, 1), bias=False)\n",
       "        (bn1): BatchNorm2d(128, eps=1e-05, momentum=0.1, affine=True, track_running_stats=True)\n",
       "        (conv2): Conv2d(128, 128, kernel_size=(3, 3), stride=(1, 1), padding=(1, 1), bias=False)\n",
       "        (bn2): BatchNorm2d(128, eps=1e-05, momentum=0.1, affine=True, track_running_stats=True)\n",
       "        (shortcut): Sequential()\n",
       "      )\n",
       "    )\n",
       "    (layer3): Sequential(\n",
       "      (0): BasicBlock(\n",
       "        (conv1): Conv2d(128, 256, kernel_size=(3, 3), stride=(2, 2), padding=(1, 1), bias=False)\n",
       "        (bn1): BatchNorm2d(256, eps=1e-05, momentum=0.1, affine=True, track_running_stats=True)\n",
       "        (conv2): Conv2d(256, 256, kernel_size=(3, 3), stride=(1, 1), padding=(1, 1), bias=False)\n",
       "        (bn2): BatchNorm2d(256, eps=1e-05, momentum=0.1, affine=True, track_running_stats=True)\n",
       "        (shortcut): Sequential(\n",
       "          (0): Conv2d(128, 256, kernel_size=(1, 1), stride=(2, 2), bias=False)\n",
       "          (1): BatchNorm2d(256, eps=1e-05, momentum=0.1, affine=True, track_running_stats=True)\n",
       "        )\n",
       "      )\n",
       "      (1): BasicBlock(\n",
       "        (conv1): Conv2d(256, 256, kernel_size=(3, 3), stride=(1, 1), padding=(1, 1), bias=False)\n",
       "        (bn1): BatchNorm2d(256, eps=1e-05, momentum=0.1, affine=True, track_running_stats=True)\n",
       "        (conv2): Conv2d(256, 256, kernel_size=(3, 3), stride=(1, 1), padding=(1, 1), bias=False)\n",
       "        (bn2): BatchNorm2d(256, eps=1e-05, momentum=0.1, affine=True, track_running_stats=True)\n",
       "        (shortcut): Sequential()\n",
       "      )\n",
       "    )\n",
       "    (layer4): Sequential(\n",
       "      (0): BasicBlock(\n",
       "        (conv1): Conv2d(256, 512, kernel_size=(3, 3), stride=(2, 2), padding=(1, 1), bias=False)\n",
       "        (bn1): BatchNorm2d(512, eps=1e-05, momentum=0.1, affine=True, track_running_stats=True)\n",
       "        (conv2): Conv2d(512, 512, kernel_size=(3, 3), stride=(1, 1), padding=(1, 1), bias=False)\n",
       "        (bn2): BatchNorm2d(512, eps=1e-05, momentum=0.1, affine=True, track_running_stats=True)\n",
       "        (shortcut): Sequential(\n",
       "          (0): Conv2d(256, 512, kernel_size=(1, 1), stride=(2, 2), bias=False)\n",
       "          (1): BatchNorm2d(512, eps=1e-05, momentum=0.1, affine=True, track_running_stats=True)\n",
       "        )\n",
       "      )\n",
       "      (1): BasicBlock(\n",
       "        (conv1): Conv2d(512, 512, kernel_size=(3, 3), stride=(1, 1), padding=(1, 1), bias=False)\n",
       "        (bn1): BatchNorm2d(512, eps=1e-05, momentum=0.1, affine=True, track_running_stats=True)\n",
       "        (conv2): Conv2d(512, 512, kernel_size=(3, 3), stride=(1, 1), padding=(1, 1), bias=False)\n",
       "        (bn2): BatchNorm2d(512, eps=1e-05, momentum=0.1, affine=True, track_running_stats=True)\n",
       "        (shortcut): Sequential()\n",
       "      )\n",
       "    )\n",
       "    (linear): Linear(in_features=25088, out_features=2, bias=True)\n",
       "  )\n",
       ")"
      ]
     },
     "execution_count": 34,
     "metadata": {},
     "output_type": "execute_result"
    }
   ],
   "source": [
    "# load checkpoint\n",
    "expt_name = 'resnet18_cow_vs_birds_balanced_43910_90_75'\n",
    "if model=='resnet18':\n",
    "    net = nn.DataParallel(ResNet18(num_channels=num_ch,num_classes=num_classes))\n",
    "elif model=='vgg16':\n",
    "    net = nn.DataParallel(VGG('VGG16',num_channels=num_ch,num_classes=num_classes))\n",
    "net.load_state_dict(torch.load(os.path.join(save_dir,f'{expt_name}.pt'))['net'])\n",
    "net.eval()"
   ]
  },
  {
   "cell_type": "code",
   "execution_count": 35,
   "metadata": {
    "scrolled": true
   },
   "outputs": [],
   "source": [
    "# adding hook function for resnet18\n",
    "# def add_resnet18_hooks(net, hook):\n",
    "#     net.module.bn1.register_forward_hook(hook)\n",
    "    \n",
    "#     net.module.layer1[0].bn1.register_forward_hook(hook)\n",
    "#     net.module.layer1[0].shortcut.register_forward_hook(hook)\n",
    "    \n",
    "#     net.module.layer1[1].bn1.register_forward_hook(hook)\n",
    "#     net.module.layer1[1].shortcut.register_forward_hook(hook)\n",
    "\n",
    "#     net.module.layer2[0].bn1.register_forward_hook(hook)\n",
    "#     net.module.layer2[0].shortcut.register_forward_hook(hook)\n",
    "    \n",
    "#     net.module.layer2[1].bn1.register_forward_hook(hook)\n",
    "#     net.module.layer2[1].shortcut.register_forward_hook(hook)\n",
    "    \n",
    "#     net.module.layer3[0].bn1.register_forward_hook(hook)\n",
    "#     net.module.layer3[0].shortcut.register_forward_hook(hook)\n",
    "    \n",
    "#     net.module.layer3[1].bn1.register_forward_hook(hook)\n",
    "#     net.module.layer3[1].shortcut.register_forward_hook(hook)\n",
    "    \n",
    "#     net.module.layer4[0].bn1.register_forward_hook(hook)\n",
    "#     net.module.layer4[0].shortcut.register_forward_hook(hook)\n",
    "    \n",
    "#     net.module.layer4[1].bn1.register_forward_hook(hook)\n",
    "#     net.module.layer4[1].shortcut.register_forward_hook(hook)\n",
    "        \n",
    "#     return net\n",
    "\n",
    "def add_resnet18_hooks(net, hook):\n",
    "    net.module.bn1.register_forward_hook(hook)\n",
    "    \n",
    "    net.module.layer1[0].conv1.register_forward_hook(hook)\n",
    "    net.module.layer1[0].conv2.register_forward_hook(hook)\n",
    "    \n",
    "    net.module.layer1[1].conv1.register_forward_hook(hook)\n",
    "    net.module.layer1[1].conv2.register_forward_hook(hook)\n",
    "\n",
    "    net.module.layer2[0].conv1.register_forward_hook(hook)\n",
    "    net.module.layer2[0].conv2.register_forward_hook(hook)\n",
    "    \n",
    "    net.module.layer2[1].conv1.register_forward_hook(hook)\n",
    "    net.module.layer2[1].conv2.register_forward_hook(hook)\n",
    "    \n",
    "    net.module.layer3[0].conv1.register_forward_hook(hook)\n",
    "    net.module.layer3[0].conv2.register_forward_hook(hook)\n",
    "    \n",
    "    net.module.layer3[1].conv1.register_forward_hook(hook)\n",
    "    net.module.layer3[1].conv2.register_forward_hook(hook)\n",
    "    \n",
    "    net.module.layer4[0].conv1.register_forward_hook(hook)\n",
    "    net.module.layer4[0].conv2.register_forward_hook(hook)\n",
    "    \n",
    "    net.module.layer4[1].conv1.register_forward_hook(hook)\n",
    "    net.module.layer4[1].conv2.register_forward_hook(hook)\n",
    "        \n",
    "    return net\n",
    "\n",
    "def add_vgg16_hooks(net, hook):\n",
    "    net.module.features[0].register_forward_hook(hook)\n",
    "    net.module.features[3].register_forward_hook(hook)\n",
    "    net.module.features[7].register_forward_hook(hook)\n",
    "    net.module.features[10].register_forward_hook(hook)\n",
    "    net.module.features[14].register_forward_hook(hook)\n",
    "    net.module.features[17].register_forward_hook(hook)\n",
    "    net.module.features[20].register_forward_hook(hook)\n",
    "    net.module.features[24].register_forward_hook(hook)\n",
    "    net.module.features[27].register_forward_hook(hook)\n",
    "    net.module.features[30].register_forward_hook(hook)\n",
    "    net.module.features[34].register_forward_hook(hook)\n",
    "    net.module.features[37].register_forward_hook(hook)\n",
    "    net.module.features[40].register_forward_hook(hook)        \n",
    "    return net\n",
    "\n",
    "def add_densenet121_hooks(net, hook):\n",
    "    \n",
    "    for idx,layer in enumerate(net.module.dense1):\n",
    "        if idx%2==0:\n",
    "            layer.register_forward_hook(hook)\n",
    "        \n",
    "    for idx,layer in enumerate(net.module.dense2):\n",
    "        if idx%2==0:\n",
    "            layer.register_forward_hook(hook)\n",
    "        \n",
    "    for idx,layer in enumerate(net.module.dense3):\n",
    "        if idx%2==0:\n",
    "            layer.register_forward_hook(hook)\n",
    "        \n",
    "    for idx,layer in enumerate(net.module.dense4):\n",
    "        if idx%2==0:\n",
    "            layer.register_forward_hook(hook)\n",
    "        \n",
    "    return net"
   ]
  },
  {
   "cell_type": "code",
   "execution_count": 36,
   "metadata": {},
   "outputs": [],
   "source": [
    "feature_maps = []  # This will be a list of Tensors, each representing a feature map\n",
    "def hook_feat_map(mod, inp, out):\n",
    "    out2 = torch.nn.functional.interpolate(out,(12,12))\n",
    "    feature_maps.append(torch.reshape(out2, (out2.shape[0],-1)))\n",
    "\n",
    "if model=='resnet18':\n",
    "    net = add_resnet18_hooks(net, hook_feat_map)\n",
    "elif model=='vgg16':\n",
    "    net = add_vgg16_hooks(net, hook_feat_map)\n",
    "elif model=='densenet121':\n",
    "    net = add_densenet121_hooks(net, hook_feat_map)"
   ]
  },
  {
   "cell_type": "code",
   "execution_count": 37,
   "metadata": {
    "scrolled": true
   },
   "outputs": [],
   "source": [
    "def to_cpu(arr):\n",
    "    for idx,x in enumerate(arr):\n",
    "        arr[idx] = x.to('cpu')\n",
    "    return arr\n",
    "\n",
    "def print_memory_profile(s):\n",
    "    # print GPU memory\n",
    "    t = torch.cuda.get_device_properties(0).total_memory\n",
    "    r = torch.cuda.memory_reserved(0)\n",
    "    a = torch.cuda.memory_allocated(0)\n",
    "    print(s)\n",
    "    print(t/1024**3,r/1024**3,a/1024**3)\n",
    "    print('\\n')\n"
   ]
  },
  {
   "cell_type": "code",
   "execution_count": 38,
   "metadata": {
    "scrolled": true
   },
   "outputs": [],
   "source": [
    "# # something wrong here with my equal sampling I think\n",
    "# if dataset=='mnist' or dataset=='kmnist' or dataset=='fmnist':\n",
    "#     imgs = torch.empty((0,trainset.data[0].shape[0],trainset.data[0].shape[1]))\n",
    "# else:\n",
    "#     imgs = torch.empty((0,trainset.data[0].shape[0],trainset.data[0].shape[1],trainset.data[0].shape[2]))\n",
    "# targs = torch.empty(0)\n",
    "\n",
    "# for i in tqdm(range(num_classes)): \n",
    "#     cls_inds = (torch.tensor(trainset.targets)==i).nonzero(as_tuple=True)[0]\n",
    "\n",
    "#     # randomly permute cls_inds, and subsample\n",
    "#     # in total we want 3k samples of train embeddings\n",
    "#     perm = torch.randperm(cls_inds.size(0))\n",
    "#     inds = perm[:num_embs//num_classes]\n",
    "#     cls_inds = cls_inds[inds]\n",
    "#     samples = torch.tensor(trainset.data[cls_inds])\n",
    "#     imgs = torch.cat((imgs,samples)) # this will have num_embs samples finally    \n",
    "#     targs = torch.cat((targs,torch.ones_like(cls_inds)*i))\n",
    "    \n",
    "# if dataset=='mnist' or dataset=='kmnist' or dataset=='fmnist':\n",
    "#     # resize again to 32x32\n",
    "#     imgs_resized = torch.empty((0,32,32))\n",
    "#     T = transforms.ToPILImage()\n",
    "#     for img in imgs:\n",
    "#         imgs_resized = torch.cat((imgs_resized,trans(T(img))))\n",
    "#     train_subset = torch.utils.data.TensorDataset(imgs_resized,targs)\n",
    "# else:    \n",
    "#     train_subset = torch.utils.data.TensorDataset(imgs,targs)"
   ]
  },
  {
   "cell_type": "code",
   "execution_count": 39,
   "metadata": {},
   "outputs": [],
   "source": [
    "# labs = torch.tensor(trainset.targets)\n",
    "# perm = torch.randperm(labs.size(0))\n",
    "# inds = perm[:num_embs]\n",
    "# labs = labs[inds]\n",
    "# samples = torch.tensor(trainset.data)[inds]\n",
    "\n",
    "# if dataset=='mnist' or dataset=='kmnist' or dataset=='fmnist':\n",
    "#     # resize again to 32x32\n",
    "#     samples_resized = torch.empty((0,32,32))\n",
    "#     T = transforms.ToPILImage()\n",
    "#     for img in samples:\n",
    "#         samples_resized = torch.cat((samples_resized,trans(T(img))))\n",
    "#     train_subset = torch.utils.data.TensorDataset(samples_resized,labs)\n",
    "# else:\n",
    "#     train_subset = torch.utils.data.TensorDataset(samples,labs)\n",
    "# trainloader2 = torch.utils.data.DataLoader(train_subset, batch_size=128, shuffle=True, num_workers=2)"
   ]
  },
  {
   "cell_type": "code",
   "execution_count": 40,
   "metadata": {
    "scrolled": true
   },
   "outputs": [
    {
     "name": "stderr",
     "output_type": "stream",
     "text": [
      "\r\n",
      "  0%|          | 0/8 [00:00<?, ?it/s]"
     ]
    },
    {
     "name": "stdout",
     "output_type": "stream",
     "text": [
      "Initial\n",
      "31.74853515625 5.087890625 0.4573969841003418\n",
      "\n",
      "\n"
     ]
    },
    {
     "name": "stderr",
     "output_type": "stream",
     "text": [
      "\r\n",
      " 12%|█▎        | 1/8 [00:08<00:59,  8.49s/it]"
     ]
    },
    {
     "name": "stdout",
     "output_type": "stream",
     "text": [
      "After processing Batch\n",
      "31.74853515625 9.681640625 4.758235931396484\n",
      "\n",
      "\n",
      "After freeing GPU memory\n",
      "31.74853515625 5.083984375 0.4691734313964844\n",
      "\n",
      "\n",
      "Initial\n",
      "31.74853515625 5.083984375 0.4691734313964844\n",
      "\n",
      "\n"
     ]
    },
    {
     "name": "stderr",
     "output_type": "stream",
     "text": [
      "\r\n",
      " 25%|██▌       | 2/8 [00:15<00:45,  7.57s/it]"
     ]
    },
    {
     "name": "stdout",
     "output_type": "stream",
     "text": [
      "After processing Batch\n",
      "31.74853515625 9.677734375 4.758235931396484\n",
      "\n",
      "\n",
      "After freeing GPU memory\n",
      "31.74853515625 5.083984375 0.4691734313964844\n",
      "\n",
      "\n",
      "Initial\n",
      "31.74853515625 5.083984375 0.4691734313964844\n",
      "\n",
      "\n"
     ]
    },
    {
     "name": "stderr",
     "output_type": "stream",
     "text": [
      "\r\n",
      " 38%|███▊      | 3/8 [00:22<00:36,  7.22s/it]"
     ]
    },
    {
     "name": "stdout",
     "output_type": "stream",
     "text": [
      "After processing Batch\n",
      "31.74853515625 9.677734375 4.758235931396484\n",
      "\n",
      "\n",
      "After freeing GPU memory\n",
      "31.74853515625 5.083984375 0.4691734313964844\n",
      "\n",
      "\n",
      "Initial\n",
      "31.74853515625 5.083984375 0.4691734313964844\n",
      "\n",
      "\n"
     ]
    },
    {
     "name": "stderr",
     "output_type": "stream",
     "text": [
      "\r\n",
      " 50%|█████     | 4/8 [00:29<00:28,  7.06s/it]"
     ]
    },
    {
     "name": "stdout",
     "output_type": "stream",
     "text": [
      "After processing Batch\n",
      "31.74853515625 9.677734375 4.758235931396484\n",
      "\n",
      "\n",
      "After freeing GPU memory\n",
      "31.74853515625 5.083984375 0.4691734313964844\n",
      "\n",
      "\n",
      "Initial\n",
      "31.74853515625 5.083984375 0.4691734313964844\n",
      "\n",
      "\n"
     ]
    },
    {
     "name": "stderr",
     "output_type": "stream",
     "text": [
      "\r\n",
      " 62%|██████▎   | 5/8 [00:35<00:21,  7.02s/it]"
     ]
    },
    {
     "name": "stdout",
     "output_type": "stream",
     "text": [
      "After processing Batch\n",
      "31.74853515625 9.677734375 4.758235931396484\n",
      "\n",
      "\n",
      "After freeing GPU memory\n",
      "31.74853515625 5.083984375 0.4691734313964844\n",
      "\n",
      "\n",
      "Initial\n",
      "31.74853515625 5.083984375 0.4691734313964844\n",
      "\n",
      "\n"
     ]
    },
    {
     "name": "stderr",
     "output_type": "stream",
     "text": [
      "\r\n",
      " 75%|███████▌  | 6/8 [00:42<00:13,  6.95s/it]"
     ]
    },
    {
     "name": "stdout",
     "output_type": "stream",
     "text": [
      "After processing Batch\n",
      "31.74853515625 9.677734375 4.758235931396484\n",
      "\n",
      "\n",
      "After freeing GPU memory\n",
      "31.74853515625 5.083984375 0.4691734313964844\n",
      "\n",
      "\n",
      "Initial\n",
      "31.74853515625 5.083984375 0.4691734313964844\n",
      "\n",
      "\n"
     ]
    },
    {
     "name": "stderr",
     "output_type": "stream",
     "text": [
      "\r\n",
      " 88%|████████▊ | 7/8 [00:49<00:06,  6.92s/it]"
     ]
    },
    {
     "name": "stdout",
     "output_type": "stream",
     "text": [
      "After processing Batch\n",
      "31.74853515625 9.677734375 4.758235931396484\n",
      "\n",
      "\n",
      "After freeing GPU memory\n",
      "31.74853515625 5.083984375 0.4691734313964844\n",
      "\n",
      "\n",
      "Initial\n",
      "31.74853515625 5.083984375 0.4691734313964844\n",
      "\n",
      "\n"
     ]
    },
    {
     "name": "stderr",
     "output_type": "stream",
     "text": [
      "100%|██████████| 8/8 [00:55<00:00,  6.95s/it]"
     ]
    },
    {
     "name": "stdout",
     "output_type": "stream",
     "text": [
      "After processing Batch\n",
      "31.74853515625 10.6640625 4.04278564453125\n",
      "\n",
      "\n",
      "After freeing GPU memory\n",
      "31.74853515625 5.083984375 0.4573974609375\n",
      "\n",
      "\n"
     ]
    },
    {
     "name": "stderr",
     "output_type": "stream",
     "text": [
      "\n"
     ]
    }
   ],
   "source": [
    "# code for saving pkl file of layer embeddings\n",
    "save_path = os.path.join(save_dir,f'{expt_name}.pkl')\n",
    "# trainloader2 = torch.utils.data.DataLoader(train_subset, batch_size=30000, shuffle=True, num_workers=2)\n",
    "\n",
    "handle = open(save_path, \"wb\")\n",
    "\n",
    "with torch.no_grad():\n",
    "    net.eval()\n",
    "    for b_idx,batch in enumerate(tqdm(trainloader)):        \n",
    "        # print GPU memory\n",
    "        print_memory_profile('Initial')\n",
    "        \n",
    "#         if dataset=='mnist'  or dataset=='kmnist' or dataset=='fmnist':\n",
    "#             imgs = batch[0].unsqueeze(1).to('cuda')\n",
    "#         elif dataset=='svhn':\n",
    "#             imgs = batch[0].permute(0,3,1,2).to('cuda')\n",
    "#         else:\n",
    "#             imgs = batch[0].permute(0,3,1,2).to('cuda')\n",
    "        imgs = batch[0].to('cuda')\n",
    "        labels = batch[1]\n",
    "        \n",
    "        feature_maps = []\n",
    "        out = net(imgs.float())\n",
    "        \n",
    "        info_dict = {'batch_idx':b_idx,'num_batches':len(trainloader),'feats':feature_maps,'labels':labels}\n",
    "        pickle.dump(info_dict, handle)  \n",
    "        \n",
    "        # print GPU memory\n",
    "        print_memory_profile('After processing Batch')\n",
    "        \n",
    "        # free up GPU memory\n",
    "        del feature_maps, info_dict\n",
    "        torch.cuda.empty_cache()     \n",
    "        \n",
    "        # print GPU memory\n",
    "        print_memory_profile('After freeing GPU memory')\n",
    "        \n",
    "handle.close()\n",
    "        "
   ]
  },
  {
   "cell_type": "markdown",
   "metadata": {},
   "source": [
    "# Compute PD"
   ]
  },
  {
   "cell_type": "code",
   "execution_count": 41,
   "metadata": {},
   "outputs": [],
   "source": [
    "# compute_pd.py\n",
    "\n",
    "def compute_pred_depth(arr):\n",
    "    last = arr[-1]\n",
    "\n",
    "    p_depth = 1\n",
    "    for i in range(len(arr)-1):\n",
    "        ele = arr[-1-(i+1)]\n",
    "        if ele!=last:\n",
    "            p_depth = (len(arr)-(i+1)) + 1\n",
    "            break\n",
    "    \n",
    "    return p_depth"
   ]
  },
  {
   "cell_type": "code",
   "execution_count": null,
   "metadata": {},
   "outputs": [],
   "source": []
  },
  {
   "cell_type": "code",
   "execution_count": null,
   "metadata": {},
   "outputs": [],
   "source": []
  },
  {
   "cell_type": "code",
   "execution_count": 42,
   "metadata": {},
   "outputs": [],
   "source": [
    "# labs = torch.tensor(testset.targets)\n",
    "# perm = torch.randperm(labs.size(0))\n",
    "# inds = perm[:num_test_imgs]\n",
    "# labs = labs[inds]\n",
    "# samples = torch.tensor(testset.data)[inds]\n",
    "\n",
    "# if dataset=='mnist' or dataset=='kmnist' or dataset=='fmnist':\n",
    "#     # resize again to 32x32\n",
    "#     samples_resized = torch.empty((0,32,32))\n",
    "#     T = transforms.ToPILImage()\n",
    "#     for img in samples:\n",
    "#         samples_resized = torch.cat((samples_resized,trans(T(img))))\n",
    "#     test_subset = torch.utils.data.TensorDataset(samples_resized,labs)\n",
    "# else:\n",
    "#     test_subset = torch.utils.data.TensorDataset(samples,labs)\n",
    "# testloader2 = torch.utils.data.DataLoader(test_subset, batch_size=128, shuffle=True, num_workers=2)"
   ]
  },
  {
   "cell_type": "code",
   "execution_count": null,
   "metadata": {},
   "outputs": [],
   "source": []
  },
  {
   "cell_type": "code",
   "execution_count": 43,
   "metadata": {
    "scrolled": true
   },
   "outputs": [
    {
     "name": "stdout",
     "output_type": "stream",
     "text": [
      "Initial\n",
      "31.74853515625 5.083984375 0.4573974609375\n",
      "\n",
      "\n"
     ]
    }
   ],
   "source": [
    "# ===================== Storing Batch Statistics =====================\n",
    "\n",
    "batch_info = {}\n",
    "train_embs_pkl_path = os.path.join(save_dir,f'{expt_name}.pkl')\n",
    "ckpt_path = os.path.join(save_dir,f'{expt_name}.pt')\n",
    "batch_info['readme'] = f'---- K={K} ---- ckpt_path={ckpt_path} ---- pkl_path={train_embs_pkl_path} ----'\n",
    "batch_info['imgs'] = [] # test images\n",
    "batch_info['preds'] = [] # corresponding model predictions\n",
    "batch_info['pred_probs'] = [] # corresponding model predictions\n",
    "batch_info['labels'] = [] # labels of the test images\n",
    "batch_info['pd'] = [] # corresponding prediction depths\n",
    "batch_info['layers_knn_prob'] = [] # for each test image we have a list of knn means for every layer\n",
    "batch_info['layers_knn_mode'] = [] # for each test image we have a list of knn mode for every layer\n",
    "\n",
    "print_memory_profile('Initial')"
   ]
  },
  {
   "cell_type": "code",
   "execution_count": 44,
   "metadata": {
    "scrolled": true
   },
   "outputs": [
    {
     "name": "stderr",
     "output_type": "stream",
     "text": [
      "\r\n",
      "  0%|          | 0/1003 [00:00<?, ?it/s]"
     ]
    },
    {
     "name": "stdout",
     "output_type": "stream",
     "text": [
      "OUT = tensor([[ 0.4514, -0.4180]], device='cuda:0')\n",
      "Model output: 0.45137619972229004\n",
      "Model forward pass\n",
      "31.74853515625 5.0859375 0.4924921989440918\n",
      "\n",
      "\n"
     ]
    },
    {
     "name": "stderr",
     "output_type": "stream",
     "text": [
      "Implicit dimension choice for softmax has been deprecated. Change the call to include dim=X as an argument.\n"
     ]
    },
    {
     "name": "stdout",
     "output_type": "stream",
     "text": [
      "Pickle load\n",
      "31.74853515625 5.0859375 4.781554698944092\n",
      "\n",
      "\n"
     ]
    },
    {
     "name": "stderr",
     "output_type": "stream",
     "text": [
      "\n",
      "17it [00:00, 434.12it/s]\n",
      "  0%|          | 1/1003 [00:05<1:24:07,  5.04s/it]"
     ]
    },
    {
     "name": "stdout",
     "output_type": "stream",
     "text": [
      "Pickle batch processed\n",
      "31.74853515625 7.0546875 4.746123790740967\n",
      "\n",
      "\n",
      "After GPU memory freed\n",
      "31.74853515625 5.0859375 1.0195612907409668\n",
      "\n",
      "\n",
      "Test Image: 0\n",
      "knn_preds_mode: [0, 0, 0, 0, 0, 0, 0, 0, 0, 0, 1, 0, 0, 0, 0, 0, 1]\n",
      "knn_preds_prob: [0.6206896305084229, 0.5862069129943848, 0.5517241358757019, 0.6206896305084229, 0.6551724076271057, 0.5862069129943848, 0.6206896305084229, 0.6206896305084229, 0.6896551847457886, 0.6206896305084229, 0.517241358757019, 0.517241358757019, 0.5517241358757019, 0.7241379022598267, 0.5862069129943848, 0.6551724076271057, 0.5862069129943848]\n",
      "label: tensor([0])\n",
      "pred: 0\n",
      "\n",
      "\n",
      "Invalid datapoint: last_layer_mode != model_output\n",
      "OUT = tensor([[ 0.9074, -0.8825]], device='cuda:0')\n",
      "Model output: 0.9074113965034485\n",
      "Model forward pass\n",
      "31.74853515625 5.0859375 1.0239558219909668\n",
      "\n",
      "\n",
      "Pickle load\n",
      "31.74853515625 5.6484375 5.313018321990967\n",
      "\n",
      "\n"
     ]
    },
    {
     "name": "stderr",
     "output_type": "stream",
     "text": [
      "\n",
      "17it [00:00, 490.27it/s]\n",
      "  0%|          | 2/1003 [00:09<1:17:39,  4.65s/it]"
     ]
    },
    {
     "name": "stdout",
     "output_type": "stream",
     "text": [
      "Pickle batch processed\n",
      "31.74853515625 6.2109375 4.746123790740967\n",
      "\n",
      "\n",
      "After GPU memory freed\n",
      "31.74853515625 5.6484375 1.0195612907409668\n",
      "\n",
      "\n",
      "Test Image: 1\n",
      "knn_preds_mode: [0, 0, 0, 0, 0, 0, 0, 0, 0, 0, 0, 0, 0, 0, 0, 0, 0]\n",
      "knn_preds_prob: [0.5862069129943848, 0.6206896305084229, 0.6206896305084229, 0.6206896305084229, 0.6206896305084229, 0.6206896305084229, 0.6896551847457886, 0.6896551847457886, 0.6896551847457886, 0.6551724076271057, 0.6896551847457886, 0.7241379022598267, 0.6896551847457886, 0.6551724076271057, 0.6206896305084229, 0.7241379022598267, 0.6206896305084229]\n",
      "label: tensor([0])\n",
      "pred: 0\n",
      "\n",
      "\n",
      "OUT = tensor([[-0.3005,  0.3015]], device='cuda:0')\n",
      "Model output: 0.301503449678421\n",
      "Model forward pass\n",
      "31.74853515625 5.6484375 1.0231623649597168\n",
      "\n",
      "\n",
      "Pickle load\n",
      "31.74853515625 5.6484375 5.312224864959717\n",
      "\n",
      "\n"
     ]
    },
    {
     "name": "stderr",
     "output_type": "stream",
     "text": [
      "\n",
      "17it [00:00, 491.81it/s]\n",
      "  0%|          | 3/1003 [00:13<1:15:01,  4.50s/it]"
     ]
    },
    {
     "name": "stdout",
     "output_type": "stream",
     "text": [
      "Pickle batch processed\n",
      "31.74853515625 6.2109375 4.745330333709717\n",
      "\n",
      "\n",
      "After GPU memory freed\n",
      "31.74853515625 5.0859375 1.0187678337097168\n",
      "\n",
      "\n",
      "Test Image: 2\n",
      "knn_preds_mode: [0, 0, 0, 0, 0, 0, 0, 0, 1, 1, 0, 0, 0, 0, 0, 1, 0]\n",
      "knn_preds_prob: [0.7241379022598267, 0.6896551847457886, 0.5862069129943848, 0.5517241358757019, 0.5862069129943848, 0.5517241358757019, 0.5517241358757019, 0.517241358757019, 0.5517241358757019, 0.5862069129943848, 0.5862069129943848, 0.517241358757019, 0.517241358757019, 0.517241358757019, 0.517241358757019, 0.5862069129943848, 0.5862069129943848]\n",
      "label: tensor([0])\n",
      "pred: 1\n",
      "\n",
      "\n",
      "Invalid datapoint: last_layer_mode != model_output\n",
      "OUT = tensor([[ 0.3346, -0.2871]], device='cuda:0')\n",
      "Model output: 0.3345574736595154\n",
      "Model forward pass\n",
      "31.74853515625 5.0859375 1.0239558219909668\n",
      "\n",
      "\n",
      "Pickle load\n",
      "31.74853515625 5.6484375 5.313018321990967\n",
      "\n",
      "\n"
     ]
    },
    {
     "name": "stderr",
     "output_type": "stream",
     "text": [
      "\n",
      "17it [00:00, 489.47it/s]\n",
      "  0%|          | 4/1003 [00:18<1:13:47,  4.43s/it]"
     ]
    },
    {
     "name": "stdout",
     "output_type": "stream",
     "text": [
      "Pickle batch processed\n",
      "31.74853515625 6.2109375 4.746123790740967\n",
      "\n",
      "\n",
      "After GPU memory freed\n",
      "31.74853515625 5.6484375 1.0195612907409668\n",
      "\n",
      "\n",
      "Test Image: 3\n",
      "knn_preds_mode: [0, 0, 0, 0, 0, 0, 0, 0, 0, 0, 0, 0, 0, 0, 0, 0, 1]\n",
      "knn_preds_prob: [0.6896551847457886, 0.6551724076271057, 0.6896551847457886, 0.6206896305084229, 0.6206896305084229, 0.6206896305084229, 0.6896551847457886, 0.6896551847457886, 0.6896551847457886, 0.6551724076271057, 0.6551724076271057, 0.7241379022598267, 0.7241379022598267, 0.6896551847457886, 0.6896551847457886, 0.6551724076271057, 0.517241358757019]\n",
      "label: tensor([0])\n",
      "pred: 0\n",
      "\n",
      "\n",
      "Invalid datapoint: last_layer_mode != model_output\n",
      "OUT = tensor([[ 0.2319, -0.2479]], device='cuda:0')\n",
      "Model output: 0.23191872239112854\n",
      "Model forward pass\n",
      "31.74853515625 5.6484375 1.0239558219909668\n",
      "\n",
      "\n",
      "Pickle load\n",
      "31.74853515625 5.6484375 5.313018321990967\n",
      "\n",
      "\n"
     ]
    },
    {
     "name": "stderr",
     "output_type": "stream",
     "text": [
      "\n",
      "17it [00:00, 489.87it/s]\n",
      "  0%|          | 5/1003 [00:22<1:13:01,  4.39s/it]"
     ]
    },
    {
     "name": "stdout",
     "output_type": "stream",
     "text": [
      "Pickle batch processed\n",
      "31.74853515625 6.2109375 4.746123790740967\n",
      "\n",
      "\n",
      "After GPU memory freed\n",
      "31.74853515625 5.0859375 1.0195612907409668\n",
      "\n",
      "\n",
      "Test Image: 4\n",
      "knn_preds_mode: [0, 0, 1, 1, 0, 0, 0, 0, 0, 0, 0, 0, 0, 0, 0, 0, 0]\n",
      "knn_preds_prob: [0.6551724076271057, 0.5517241358757019, 0.517241358757019, 0.5517241358757019, 0.5517241358757019, 0.5862069129943848, 0.6551724076271057, 0.6551724076271057, 0.5862069129943848, 0.6551724076271057, 0.6896551847457886, 0.6551724076271057, 0.6896551847457886, 0.5862069129943848, 0.5862069129943848, 0.6896551847457886, 0.5517241358757019]\n",
      "label: tensor([0])\n",
      "pred: 0\n",
      "\n",
      "\n",
      "OUT = tensor([[ 0.7679, -0.6746]], device='cuda:0')\n",
      "Model output: 0.7678759098052979\n",
      "Model forward pass\n",
      "31.74853515625 5.0859375 1.0239558219909668\n",
      "\n",
      "\n",
      "Pickle load\n",
      "31.74853515625 5.6484375 5.313018321990967\n",
      "\n",
      "\n"
     ]
    },
    {
     "name": "stderr",
     "output_type": "stream",
     "text": [
      "\n",
      "17it [00:00, 489.98it/s]\n",
      "  1%|          | 6/1003 [00:26<1:12:33,  4.37s/it]"
     ]
    },
    {
     "name": "stdout",
     "output_type": "stream",
     "text": [
      "Pickle batch processed\n",
      "31.74853515625 6.2109375 4.746123790740967\n",
      "\n",
      "\n",
      "After GPU memory freed\n",
      "31.74853515625 5.6484375 1.0195612907409668\n",
      "\n",
      "\n",
      "Test Image: 5\n",
      "knn_preds_mode: [0, 0, 0, 0, 0, 0, 0, 0, 0, 0, 0, 0, 0, 0, 0, 0, 1]\n",
      "knn_preds_prob: [0.5517241358757019, 0.5517241358757019, 0.5862069129943848, 0.5862069129943848, 0.6206896305084229, 0.6206896305084229, 0.6551724076271057, 0.6551724076271057, 0.6551724076271057, 0.5862069129943848, 0.517241358757019, 0.5517241358757019, 0.6206896305084229, 0.5517241358757019, 0.5517241358757019, 0.6206896305084229, 0.6551724076271057]\n",
      "label: tensor([0])\n",
      "pred: 0\n",
      "\n",
      "\n",
      "Invalid datapoint: last_layer_mode != model_output\n",
      "OUT = tensor([[ 1.1169, -1.1674]], device='cuda:0')\n",
      "Model output: 1.116909146308899\n",
      "Model forward pass\n",
      "31.74853515625 5.6484375 1.0239558219909668\n",
      "\n",
      "\n",
      "Pickle load\n",
      "31.74853515625 5.6484375 5.313018321990967\n",
      "\n",
      "\n"
     ]
    },
    {
     "name": "stderr",
     "output_type": "stream",
     "text": [
      "\n",
      "17it [00:00, 490.44it/s]\n",
      "  1%|          | 7/1003 [00:31<1:12:26,  4.36s/it]"
     ]
    },
    {
     "name": "stdout",
     "output_type": "stream",
     "text": [
      "Pickle batch processed\n",
      "31.74853515625 6.2109375 4.746123790740967\n",
      "\n",
      "\n",
      "After GPU memory freed\n",
      "31.74853515625 5.0859375 1.0195612907409668\n",
      "\n",
      "\n",
      "Test Image: 6\n",
      "knn_preds_mode: [0, 0, 1, 0, 0, 1, 0, 0, 0, 0, 1, 1, 1, 0, 1, 0, 0]\n",
      "knn_preds_prob: [0.6551724076271057, 0.5862069129943848, 0.517241358757019, 0.5862069129943848, 0.5517241358757019, 0.517241358757019, 0.6206896305084229, 0.5517241358757019, 0.517241358757019, 0.5517241358757019, 0.517241358757019, 0.517241358757019, 0.5517241358757019, 0.5862069129943848, 0.5517241358757019, 0.6896551847457886, 0.5517241358757019]\n",
      "label: tensor([0])\n",
      "pred: 0\n",
      "\n",
      "\n",
      "OUT = tensor([[ 1.0910, -1.1416]], device='cuda:0')\n",
      "Model output: 1.0909702777862549\n",
      "Model forward pass\n",
      "31.74853515625 5.0859375 1.0239558219909668\n",
      "\n",
      "\n",
      "Pickle load\n",
      "31.74853515625 5.6484375 5.313018321990967\n",
      "\n",
      "\n"
     ]
    },
    {
     "name": "stderr",
     "output_type": "stream",
     "text": [
      "\n",
      "17it [00:00, 489.61it/s]\n",
      "  1%|          | 8/1003 [00:35<1:12:23,  4.37s/it]"
     ]
    },
    {
     "name": "stdout",
     "output_type": "stream",
     "text": [
      "Pickle batch processed\n",
      "31.74853515625 6.2109375 4.746123790740967\n",
      "\n",
      "\n",
      "After GPU memory freed\n",
      "31.74853515625 5.6484375 1.0195612907409668\n",
      "\n",
      "\n",
      "Test Image: 7\n",
      "knn_preds_mode: [0, 0, 1, 0, 0, 0, 0, 0, 0, 0, 1, 1, 1, 0, 1, 0, 0]\n",
      "knn_preds_prob: [0.6551724076271057, 0.5862069129943848, 0.517241358757019, 0.5862069129943848, 0.5517241358757019, 0.517241358757019, 0.6206896305084229, 0.5862069129943848, 0.517241358757019, 0.5517241358757019, 0.517241358757019, 0.517241358757019, 0.5517241358757019, 0.5862069129943848, 0.5517241358757019, 0.6896551847457886, 0.5517241358757019]\n",
      "label: tensor([0])\n",
      "pred: 0\n",
      "\n",
      "\n",
      "OUT = tensor([[-0.1080,  0.1215]], device='cuda:0')\n",
      "Model output: 0.12153559178113937\n",
      "Model forward pass\n",
      "31.74853515625 5.6484375 1.0239558219909668\n",
      "\n",
      "\n",
      "Pickle load\n",
      "31.74853515625 5.6484375 5.313018321990967\n",
      "\n",
      "\n"
     ]
    },
    {
     "name": "stderr",
     "output_type": "stream",
     "text": [
      "\n",
      "17it [00:00, 490.59it/s]\n",
      "  1%|          | 9/1003 [00:39<1:12:18,  4.36s/it]"
     ]
    },
    {
     "name": "stdout",
     "output_type": "stream",
     "text": [
      "Pickle batch processed\n",
      "31.74853515625 6.2109375 4.746123790740967\n",
      "\n",
      "\n",
      "After GPU memory freed\n",
      "31.74853515625 5.0859375 1.0195612907409668\n",
      "\n",
      "\n",
      "Test Image: 8\n",
      "knn_preds_mode: [0, 0, 0, 0, 0, 0, 0, 0, 0, 1, 1, 0, 0, 0, 0, 0, 1]\n",
      "knn_preds_prob: [0.6551724076271057, 0.5862069129943848, 0.517241358757019, 0.517241358757019, 0.5862069129943848, 0.5517241358757019, 0.6551724076271057, 0.5862069129943848, 0.5517241358757019, 0.517241358757019, 0.517241358757019, 0.517241358757019, 0.5862069129943848, 0.6551724076271057, 0.5517241358757019, 0.517241358757019, 0.6206896305084229]\n",
      "label: tensor([0])\n",
      "pred: 1\n",
      "\n",
      "\n",
      "OUT = tensor([[ 1.0926, -1.0977]], device='cuda:0')\n",
      "Model output: 1.092633605003357\n",
      "Model forward pass\n",
      "31.74853515625 5.0859375 1.0239558219909668\n",
      "\n",
      "\n",
      "Pickle load\n",
      "31.74853515625 5.6484375 5.313018321990967\n",
      "\n",
      "\n"
     ]
    },
    {
     "name": "stderr",
     "output_type": "stream",
     "text": [
      "\n",
      "17it [00:00, 493.16it/s]\n",
      "  1%|          | 10/1003 [00:44<1:11:56,  4.35s/it]"
     ]
    },
    {
     "name": "stdout",
     "output_type": "stream",
     "text": [
      "Pickle batch processed\n",
      "31.74853515625 6.2109375 4.746123790740967\n",
      "\n",
      "\n",
      "After GPU memory freed\n",
      "31.74853515625 5.6484375 1.0195612907409668\n",
      "\n",
      "\n",
      "Test Image: 9\n",
      "knn_preds_mode: [0, 0, 0, 0, 0, 0, 0, 0, 0, 1, 1, 0, 0, 0, 0, 0, 1]\n",
      "knn_preds_prob: [0.6896551847457886, 0.6551724076271057, 0.5862069129943848, 0.5517241358757019, 0.6206896305084229, 0.6551724076271057, 0.6896551847457886, 0.6206896305084229, 0.5862069129943848, 0.517241358757019, 0.5517241358757019, 0.517241358757019, 0.5862069129943848, 0.5862069129943848, 0.5862069129943848, 0.6206896305084229, 0.5517241358757019]\n",
      "label: tensor([0])\n",
      "pred: 0\n",
      "\n",
      "\n",
      "Invalid datapoint: last_layer_mode != model_output\n",
      "OUT = tensor([[ 1.0813, -1.0868]], device='cuda:0')\n",
      "Model output: 1.0813465118408203\n",
      "Model forward pass\n",
      "31.74853515625 5.6484375 1.0239558219909668\n",
      "\n",
      "\n",
      "Pickle load\n",
      "31.74853515625 5.6484375 5.313018321990967\n",
      "\n",
      "\n"
     ]
    },
    {
     "name": "stderr",
     "output_type": "stream",
     "text": [
      "\n",
      "17it [00:00, 491.00it/s]\n",
      "  1%|          | 11/1003 [00:48<1:11:40,  4.34s/it]"
     ]
    },
    {
     "name": "stdout",
     "output_type": "stream",
     "text": [
      "Pickle batch processed\n",
      "31.74853515625 6.2109375 4.746123790740967\n",
      "\n",
      "\n",
      "After GPU memory freed\n",
      "31.74853515625 5.0859375 1.0195612907409668\n",
      "\n",
      "\n",
      "Test Image: 10\n",
      "knn_preds_mode: [0, 0, 0, 0, 0, 0, 0, 0, 0, 1, 1, 0, 0, 0, 0, 0, 1]\n",
      "knn_preds_prob: [0.6896551847457886, 0.6551724076271057, 0.5862069129943848, 0.5517241358757019, 0.6206896305084229, 0.6551724076271057, 0.6896551847457886, 0.6551724076271057, 0.5862069129943848, 0.517241358757019, 0.5517241358757019, 0.517241358757019, 0.5862069129943848, 0.5862069129943848, 0.5862069129943848, 0.6206896305084229, 0.5517241358757019]\n",
      "label: tensor([0])\n",
      "pred: 0\n",
      "\n",
      "\n",
      "Invalid datapoint: last_layer_mode != model_output\n",
      "OUT = tensor([[-0.1559,  0.2123]], device='cuda:0')\n",
      "Model output: 0.21229813992977142\n",
      "Model forward pass\n",
      "31.74853515625 5.0859375 1.0239558219909668\n",
      "\n",
      "\n",
      "Pickle load\n",
      "31.74853515625 5.6484375 5.313018321990967\n",
      "\n",
      "\n"
     ]
    },
    {
     "name": "stderr",
     "output_type": "stream",
     "text": [
      "\n",
      "17it [00:00, 489.19it/s]\n",
      "  1%|          | 12/1003 [00:52<1:11:29,  4.33s/it]"
     ]
    },
    {
     "name": "stdout",
     "output_type": "stream",
     "text": [
      "Pickle batch processed\n",
      "31.74853515625 6.2109375 4.746123790740967\n",
      "\n",
      "\n",
      "After GPU memory freed\n",
      "31.74853515625 5.6484375 1.0195612907409668\n",
      "\n",
      "\n",
      "Test Image: 11\n",
      "knn_preds_mode: [0, 0, 0, 0, 0, 0, 0, 0, 0, 0, 0, 0, 0, 0, 0, 1, 1]\n",
      "knn_preds_prob: [0.6551724076271057, 0.6896551847457886, 0.6206896305084229, 0.6206896305084229, 0.6206896305084229, 0.6206896305084229, 0.6896551847457886, 0.7241379022598267, 0.6551724076271057, 0.6206896305084229, 0.5862069129943848, 0.6206896305084229, 0.6551724076271057, 0.6896551847457886, 0.6206896305084229, 0.5862069129943848, 0.6896551847457886]\n",
      "label: tensor([0])\n",
      "pred: 1\n",
      "\n",
      "\n",
      "OUT = tensor([[-0.0735,  0.0587]], device='cuda:0')\n",
      "Model output: 0.05866416543722153\n",
      "Model forward pass\n",
      "31.74853515625 5.6484375 1.0239558219909668\n",
      "\n",
      "\n",
      "Pickle load\n",
      "31.74853515625 5.6484375 5.313018321990967\n",
      "\n",
      "\n"
     ]
    },
    {
     "name": "stderr",
     "output_type": "stream",
     "text": [
      "\n",
      "17it [00:00, 491.46it/s]\n",
      "  1%|▏         | 13/1003 [00:57<1:11:23,  4.33s/it]"
     ]
    },
    {
     "name": "stdout",
     "output_type": "stream",
     "text": [
      "Pickle batch processed\n",
      "31.74853515625 6.2109375 4.746123790740967\n",
      "\n",
      "\n",
      "After GPU memory freed\n",
      "31.74853515625 5.0859375 1.0195612907409668\n",
      "\n",
      "\n",
      "Test Image: 12\n",
      "knn_preds_mode: [0, 0, 0, 0, 0, 0, 0, 0, 0, 1, 1, 1, 0, 0, 0, 0, 1]\n",
      "knn_preds_prob: [0.6551724076271057, 0.5517241358757019, 0.5862069129943848, 0.5862069129943848, 0.6206896305084229, 0.6206896305084229, 0.6206896305084229, 0.6551724076271057, 0.5862069129943848, 0.5862069129943848, 0.5862069129943848, 0.5517241358757019, 0.517241358757019, 0.517241358757019, 0.5862069129943848, 0.5862069129943848, 0.517241358757019]\n",
      "label: tensor([0])\n",
      "pred: 1\n",
      "\n",
      "\n",
      "OUT = tensor([[-0.0861,  0.0706]], device='cuda:0')\n",
      "Model output: 0.07057251781225204\n",
      "Model forward pass\n",
      "31.74853515625 5.0859375 1.0239558219909668\n",
      "\n",
      "\n",
      "Pickle load\n",
      "31.74853515625 5.6484375 5.313018321990967\n",
      "\n",
      "\n"
     ]
    },
    {
     "name": "stderr",
     "output_type": "stream",
     "text": [
      "\n",
      "17it [00:00, 490.85it/s]\n",
      "  1%|▏         | 14/1003 [01:01<1:11:25,  4.33s/it]"
     ]
    },
    {
     "name": "stdout",
     "output_type": "stream",
     "text": [
      "Pickle batch processed\n",
      "31.74853515625 6.2109375 4.746123790740967\n",
      "\n",
      "\n",
      "After GPU memory freed\n",
      "31.74853515625 5.6484375 1.0195612907409668\n",
      "\n",
      "\n",
      "Test Image: 13\n",
      "knn_preds_mode: [0, 0, 0, 0, 0, 0, 0, 0, 0, 1, 1, 1, 0, 0, 0, 0, 1]\n",
      "knn_preds_prob: [0.6551724076271057, 0.5517241358757019, 0.5862069129943848, 0.5862069129943848, 0.6206896305084229, 0.6206896305084229, 0.6206896305084229, 0.6551724076271057, 0.5862069129943848, 0.5862069129943848, 0.5862069129943848, 0.5517241358757019, 0.517241358757019, 0.517241358757019, 0.5862069129943848, 0.5517241358757019, 0.517241358757019]\n",
      "label: tensor([0])\n",
      "pred: 1\n",
      "\n",
      "\n",
      "OUT = tensor([[-0.2095,  0.3375]], device='cuda:0')\n",
      "Model output: 0.3375108540058136\n",
      "Model forward pass\n",
      "31.74853515625 5.6484375 1.0239558219909668\n",
      "\n",
      "\n",
      "Pickle load\n",
      "31.74853515625 5.6484375 5.313018321990967\n",
      "\n",
      "\n"
     ]
    },
    {
     "name": "stderr",
     "output_type": "stream",
     "text": [
      "\n",
      "17it [00:00, 489.59it/s]\n",
      "  1%|▏         | 15/1003 [01:05<1:11:26,  4.34s/it]"
     ]
    },
    {
     "name": "stdout",
     "output_type": "stream",
     "text": [
      "Pickle batch processed\n",
      "31.74853515625 6.2109375 4.746123790740967\n",
      "\n",
      "\n",
      "After GPU memory freed\n",
      "31.74853515625 5.0859375 1.0195612907409668\n",
      "\n",
      "\n",
      "Test Image: 14\n",
      "knn_preds_mode: [0, 0, 0, 0, 0, 0, 0, 0, 0, 0, 0, 0, 0, 0, 0, 1, 1]\n",
      "knn_preds_prob: [0.5517241358757019, 0.6206896305084229, 0.6206896305084229, 0.6206896305084229, 0.6206896305084229, 0.6206896305084229, 0.6896551847457886, 0.6896551847457886, 0.6896551847457886, 0.6551724076271057, 0.7241379022598267, 0.6896551847457886, 0.6206896305084229, 0.5517241358757019, 0.5862069129943848, 0.6551724076271057, 0.7586206793785095]\n",
      "label: tensor([0])\n",
      "pred: 1\n",
      "\n",
      "\n",
      "OUT = tensor([[ 0.7572, -0.7665]], device='cuda:0')\n",
      "Model output: 0.7571784853935242\n",
      "Model forward pass\n",
      "31.74853515625 5.0859375 1.0239558219909668\n",
      "\n",
      "\n",
      "Pickle load\n",
      "31.74853515625 5.6484375 5.313018321990967\n",
      "\n",
      "\n"
     ]
    },
    {
     "name": "stderr",
     "output_type": "stream",
     "text": [
      "\n",
      "17it [00:00, 493.16it/s]\n",
      "  2%|▏         | 16/1003 [01:10<1:11:11,  4.33s/it]"
     ]
    },
    {
     "name": "stdout",
     "output_type": "stream",
     "text": [
      "Pickle batch processed\n",
      "31.74853515625 6.2109375 4.746123790740967\n",
      "\n",
      "\n",
      "After GPU memory freed\n",
      "31.74853515625 5.6484375 1.0195612907409668\n",
      "\n",
      "\n",
      "Test Image: 15\n",
      "knn_preds_mode: [0, 0, 0, 0, 0, 0, 0, 0, 0, 0, 0, 0, 0, 0, 0, 0, 0]\n",
      "knn_preds_prob: [0.5862069129943848, 0.5517241358757019, 0.517241358757019, 0.5517241358757019, 0.5517241358757019, 0.5517241358757019, 0.5517241358757019, 0.5862069129943848, 0.6551724076271057, 0.6896551847457886, 0.6896551847457886, 0.6896551847457886, 0.6551724076271057, 0.7241379022598267, 0.6551724076271057, 0.6896551847457886, 0.6206896305084229]\n",
      "label: tensor([0])\n",
      "pred: 0\n",
      "\n",
      "\n",
      "OUT = tensor([[ 0.6595, -0.6579]], device='cuda:0')\n",
      "Model output: 0.6594881415367126\n",
      "Model forward pass\n",
      "31.74853515625 5.6484375 1.0239558219909668\n",
      "\n",
      "\n",
      "Pickle load\n",
      "31.74853515625 5.6484375 5.313018321990967\n",
      "\n",
      "\n"
     ]
    },
    {
     "name": "stderr",
     "output_type": "stream",
     "text": [
      "\n",
      "17it [00:00, 491.16it/s]\n",
      "  2%|▏         | 17/1003 [01:14<1:10:59,  4.32s/it]"
     ]
    },
    {
     "name": "stdout",
     "output_type": "stream",
     "text": [
      "Pickle batch processed\n",
      "31.74853515625 6.2109375 4.746123790740967\n",
      "\n",
      "\n",
      "After GPU memory freed\n",
      "31.74853515625 5.0859375 1.0195612907409668\n",
      "\n",
      "\n",
      "Test Image: 16\n",
      "knn_preds_mode: [0, 0, 0, 0, 0, 0, 0, 0, 0, 0, 0, 0, 0, 0, 0, 0, 0]\n",
      "knn_preds_prob: [0.7241379022598267, 0.7241379022598267, 0.6896551847457886, 0.6206896305084229, 0.6206896305084229, 0.6551724076271057, 0.6896551847457886, 0.6896551847457886, 0.6551724076271057, 0.5517241358757019, 0.6206896305084229, 0.5862069129943848, 0.5862069129943848, 0.6896551847457886, 0.5517241358757019, 0.6551724076271057, 0.5517241358757019]\n",
      "label: tensor([0])\n",
      "pred: 0\n",
      "\n",
      "\n",
      "OUT = tensor([[ 0.6535, -0.6519]], device='cuda:0')\n",
      "Model output: 0.6534633040428162\n",
      "Model forward pass\n",
      "31.74853515625 5.0859375 1.0239558219909668\n",
      "\n",
      "\n",
      "Pickle load\n",
      "31.74853515625 5.6484375 5.313018321990967\n",
      "\n",
      "\n"
     ]
    },
    {
     "name": "stderr",
     "output_type": "stream",
     "text": [
      "\n",
      "17it [00:00, 491.88it/s]\n",
      "  2%|▏         | 18/1003 [01:18<1:10:50,  4.32s/it]"
     ]
    },
    {
     "name": "stdout",
     "output_type": "stream",
     "text": [
      "Pickle batch processed\n",
      "31.74853515625 6.2109375 4.746123790740967\n",
      "\n",
      "\n",
      "After GPU memory freed\n",
      "31.74853515625 5.6484375 1.0195612907409668\n",
      "\n",
      "\n",
      "Test Image: 17\n",
      "knn_preds_mode: [0, 0, 0, 0, 0, 0, 0, 0, 0, 0, 0, 0, 0, 0, 0, 0, 0]\n",
      "knn_preds_prob: [0.7241379022598267, 0.7241379022598267, 0.6896551847457886, 0.6206896305084229, 0.6206896305084229, 0.6551724076271057, 0.6896551847457886, 0.6896551847457886, 0.6551724076271057, 0.5517241358757019, 0.6206896305084229, 0.5862069129943848, 0.5862069129943848, 0.6896551847457886, 0.5517241358757019, 0.6551724076271057, 0.5517241358757019]\n",
      "label: tensor([0])\n",
      "pred: 0\n",
      "\n",
      "\n",
      "OUT = tensor([[ 7.9680, -7.3423]], device='cuda:0')\n",
      "Model output: 7.968032360076904\n",
      "Model forward pass\n",
      "31.74853515625 5.6484375 1.0239558219909668\n",
      "\n",
      "\n",
      "Pickle load\n",
      "31.74853515625 5.6484375 5.313018321990967\n",
      "\n",
      "\n"
     ]
    },
    {
     "name": "stderr",
     "output_type": "stream",
     "text": [
      "\n",
      "17it [00:00, 490.69it/s]\n",
      "  2%|▏         | 19/1003 [01:22<1:10:42,  4.31s/it]"
     ]
    },
    {
     "name": "stdout",
     "output_type": "stream",
     "text": [
      "Pickle batch processed\n",
      "31.74853515625 6.2109375 4.746123790740967\n",
      "\n",
      "\n",
      "After GPU memory freed\n",
      "31.74853515625 5.0859375 1.0195612907409668\n",
      "\n",
      "\n",
      "Test Image: 18\n",
      "knn_preds_mode: [0, 0, 0, 0, 0, 0, 0, 0, 1, 1, 0, 0, 0, 0, 0, 1, 0]\n",
      "knn_preds_prob: [0.5862069129943848, 0.517241358757019, 0.5517241358757019, 0.6206896305084229, 0.5862069129943848, 0.5517241358757019, 0.5862069129943848, 0.5517241358757019, 0.5517241358757019, 0.5517241358757019, 0.517241358757019, 0.517241358757019, 0.5517241358757019, 0.5517241358757019, 0.5862069129943848, 0.5517241358757019, 0.5862069129943848]\n",
      "label: tensor([0])\n",
      "pred: 0\n",
      "\n",
      "\n",
      "OUT = tensor([[ 1.0426, -1.0674]], device='cuda:0')\n",
      "Model output: 1.0426421165466309\n",
      "Model forward pass\n",
      "31.74853515625 5.0859375 1.0239558219909668\n",
      "\n",
      "\n",
      "Pickle load\n",
      "31.74853515625 5.6484375 5.313018321990967\n",
      "\n",
      "\n"
     ]
    },
    {
     "name": "stderr",
     "output_type": "stream",
     "text": [
      "\n",
      "17it [00:00, 489.59it/s]\n",
      "  2%|▏         | 20/1003 [01:27<1:10:36,  4.31s/it]"
     ]
    },
    {
     "name": "stdout",
     "output_type": "stream",
     "text": [
      "Pickle batch processed\n",
      "31.74853515625 6.2109375 4.746123790740967\n",
      "\n",
      "\n",
      "After GPU memory freed\n",
      "31.74853515625 5.6484375 1.0195612907409668\n",
      "\n",
      "\n",
      "Test Image: 19\n",
      "knn_preds_mode: [0, 0, 0, 0, 0, 0, 0, 0, 0, 0, 0, 0, 0, 0, 0, 0, 0]\n",
      "knn_preds_prob: [0.6896551847457886, 0.6896551847457886, 0.6896551847457886, 0.6206896305084229, 0.6206896305084229, 0.6206896305084229, 0.6896551847457886, 0.6896551847457886, 0.6551724076271057, 0.6896551847457886, 0.7586206793785095, 0.6896551847457886, 0.6896551847457886, 0.6896551847457886, 0.6896551847457886, 0.7586206793785095, 0.7241379022598267]\n",
      "label: tensor([0])\n",
      "pred: 0\n",
      "\n",
      "\n",
      "OUT = tensor([[ 1.1149, -1.1283]], device='cuda:0')\n",
      "Model output: 1.1149375438690186\n",
      "Model forward pass\n",
      "31.74853515625 5.6484375 1.0239558219909668\n",
      "\n",
      "\n",
      "Pickle load\n",
      "31.74853515625 5.6484375 5.313018321990967\n",
      "\n",
      "\n"
     ]
    },
    {
     "name": "stderr",
     "output_type": "stream",
     "text": [
      "\n",
      "17it [00:00, 490.87it/s]\n",
      "  2%|▏         | 21/1003 [01:31<1:10:30,  4.31s/it]"
     ]
    },
    {
     "name": "stdout",
     "output_type": "stream",
     "text": [
      "Pickle batch processed\n",
      "31.74853515625 6.2109375 4.746123790740967\n",
      "\n",
      "\n",
      "After GPU memory freed\n",
      "31.74853515625 5.0859375 1.0195612907409668\n",
      "\n",
      "\n",
      "Test Image: 20\n",
      "knn_preds_mode: [0, 0, 0, 0, 0, 0, 0, 0, 0, 0, 0, 0, 0, 0, 0, 0, 0]\n",
      "knn_preds_prob: [0.6551724076271057, 0.6896551847457886, 0.6896551847457886, 0.6206896305084229, 0.6206896305084229, 0.6551724076271057, 0.6551724076271057, 0.6551724076271057, 0.6551724076271057, 0.6896551847457886, 0.6896551847457886, 0.6896551847457886, 0.6551724076271057, 0.6551724076271057, 0.6896551847457886, 0.7931034564971924, 0.5862069129943848]\n",
      "label: tensor([0])\n",
      "pred: 0\n",
      "\n",
      "\n",
      "OUT = tensor([[ 0.7817, -0.8396]], device='cuda:0')\n",
      "Model output: 0.7816904187202454\n",
      "Model forward pass\n",
      "31.74853515625 5.0859375 1.0239558219909668\n",
      "\n",
      "\n",
      "Pickle load\n",
      "31.74853515625 5.6484375 5.313018321990967\n",
      "\n",
      "\n"
     ]
    },
    {
     "name": "stderr",
     "output_type": "stream",
     "text": [
      "\n",
      "17it [00:00, 491.51it/s]\n",
      "  2%|▏         | 22/1003 [01:35<1:10:25,  4.31s/it]"
     ]
    },
    {
     "name": "stdout",
     "output_type": "stream",
     "text": [
      "Pickle batch processed\n",
      "31.74853515625 6.2109375 4.746123790740967\n",
      "\n",
      "\n",
      "After GPU memory freed\n",
      "31.74853515625 5.6484375 1.0195612907409668\n",
      "\n",
      "\n",
      "Test Image: 21\n",
      "knn_preds_mode: [0, 0, 0, 0, 0, 0, 0, 0, 0, 0, 1, 1, 1, 0, 1, 0, 1]\n",
      "knn_preds_prob: [0.5862069129943848, 0.517241358757019, 0.5862069129943848, 0.5517241358757019, 0.5862069129943848, 0.5862069129943848, 0.6206896305084229, 0.6206896305084229, 0.5517241358757019, 0.6206896305084229, 0.517241358757019, 0.517241358757019, 0.517241358757019, 0.6206896305084229, 0.517241358757019, 0.7586206793785095, 0.517241358757019]\n",
      "label: tensor([0])\n",
      "pred: 0\n",
      "\n",
      "\n",
      "Invalid datapoint: last_layer_mode != model_output\n",
      "OUT = tensor([[ 2.3983, -2.3904]], device='cuda:0')\n",
      "Model output: 2.3982980251312256\n",
      "Model forward pass\n",
      "31.74853515625 5.6484375 1.0239558219909668\n",
      "\n",
      "\n",
      "Pickle load\n",
      "31.74853515625 5.6484375 5.313018321990967\n",
      "\n",
      "\n"
     ]
    },
    {
     "name": "stderr",
     "output_type": "stream",
     "text": [
      "\n",
      "17it [00:00, 490.31it/s]\n",
      "  2%|▏         | 23/1003 [01:40<1:10:21,  4.31s/it]"
     ]
    },
    {
     "name": "stdout",
     "output_type": "stream",
     "text": [
      "Pickle batch processed\n",
      "31.74853515625 6.2109375 4.746123790740967\n",
      "\n",
      "\n",
      "After GPU memory freed\n",
      "31.74853515625 5.0859375 1.0195612907409668\n",
      "\n",
      "\n",
      "Test Image: 22\n",
      "knn_preds_mode: [0, 0, 0, 0, 0, 0, 0, 0, 0, 0, 0, 0, 0, 0, 0, 0, 0]\n",
      "knn_preds_prob: [0.517241358757019, 0.517241358757019, 0.5517241358757019, 0.5517241358757019, 0.6206896305084229, 0.5862069129943848, 0.6206896305084229, 0.6896551847457886, 0.5517241358757019, 0.6206896305084229, 0.5517241358757019, 0.517241358757019, 0.5862069129943848, 0.7241379022598267, 0.6551724076271057, 0.7586206793785095, 0.7586206793785095]\n",
      "label: tensor([0])\n",
      "pred: 0\n",
      "\n",
      "\n",
      "OUT = tensor([[ 2.3144, -2.3192]], device='cuda:0')\n",
      "Model output: 2.3143975734710693\n",
      "Model forward pass\n",
      "31.74853515625 5.0859375 1.0239558219909668\n",
      "\n",
      "\n",
      "Pickle load\n",
      "31.74853515625 5.6484375 5.313018321990967\n",
      "\n",
      "\n"
     ]
    },
    {
     "name": "stderr",
     "output_type": "stream",
     "text": [
      "\n",
      "17it [00:00, 489.27it/s]\n",
      "  2%|▏         | 24/1003 [01:44<1:10:41,  4.33s/it]"
     ]
    },
    {
     "name": "stdout",
     "output_type": "stream",
     "text": [
      "Pickle batch processed\n",
      "31.74853515625 6.2109375 4.746123790740967\n",
      "\n",
      "\n",
      "After GPU memory freed\n",
      "31.74853515625 5.6484375 1.0195612907409668\n",
      "\n",
      "\n",
      "Test Image: 23\n",
      "knn_preds_mode: [0, 0, 0, 0, 0, 0, 0, 0, 0, 0, 0, 0, 0, 0, 0, 0, 0]\n",
      "knn_preds_prob: [0.5517241358757019, 0.5862069129943848, 0.5862069129943848, 0.5862069129943848, 0.5862069129943848, 0.5862069129943848, 0.6206896305084229, 0.5862069129943848, 0.6206896305084229, 0.6551724076271057, 0.517241358757019, 0.6551724076271057, 0.7241379022598267, 0.7241379022598267, 0.7586206793785095, 0.6551724076271057, 0.6206896305084229]\n",
      "label: tensor([0])\n",
      "pred: 0\n",
      "\n",
      "\n",
      "OUT = tensor([[ 1.1502, -1.1034]], device='cuda:0')\n",
      "Model output: 1.1501792669296265\n",
      "Model forward pass\n",
      "31.74853515625 5.6484375 1.0239558219909668\n",
      "\n",
      "\n",
      "Pickle load\n",
      "31.74853515625 5.6484375 5.313018321990967\n",
      "\n",
      "\n"
     ]
    },
    {
     "name": "stderr",
     "output_type": "stream",
     "text": [
      "\n",
      "17it [00:00, 491.01it/s]\n",
      "  2%|▏         | 25/1003 [01:48<1:10:56,  4.35s/it]"
     ]
    },
    {
     "name": "stdout",
     "output_type": "stream",
     "text": [
      "Pickle batch processed\n",
      "31.74853515625 6.2109375 4.746123790740967\n",
      "\n",
      "\n",
      "After GPU memory freed\n",
      "31.74853515625 5.0859375 1.0195612907409668\n",
      "\n",
      "\n",
      "Test Image: 24\n",
      "knn_preds_mode: [0, 0, 0, 0, 0, 0, 0, 0, 0, 0, 0, 0, 0, 0, 0, 0, 0]\n",
      "knn_preds_prob: [0.6896551847457886, 0.6896551847457886, 0.6896551847457886, 0.6206896305084229, 0.6206896305084229, 0.6551724076271057, 0.7241379022598267, 0.7241379022598267, 0.6551724076271057, 0.6896551847457886, 0.6206896305084229, 0.5862069129943848, 0.6896551847457886, 0.6551724076271057, 0.6551724076271057, 0.7586206793785095, 0.6551724076271057]\n",
      "label: tensor([0])\n",
      "pred: 0\n",
      "\n",
      "\n",
      "OUT = tensor([[ 1.6316, -1.6143]], device='cuda:0')\n",
      "Model output: 1.6316277980804443\n",
      "Model forward pass\n",
      "31.74853515625 5.0859375 1.0239558219909668\n",
      "\n",
      "\n",
      "Pickle load\n",
      "31.74853515625 5.6484375 5.313018321990967\n",
      "\n",
      "\n"
     ]
    },
    {
     "name": "stderr",
     "output_type": "stream",
     "text": [
      "\n",
      "17it [00:00, 492.43it/s]\n",
      "  3%|▎         | 26/1003 [01:53<1:11:05,  4.37s/it]"
     ]
    },
    {
     "name": "stdout",
     "output_type": "stream",
     "text": [
      "Pickle batch processed\n",
      "31.74853515625 6.2109375 4.746123790740967\n",
      "\n",
      "\n",
      "After GPU memory freed\n",
      "31.74853515625 5.6484375 1.0195612907409668\n",
      "\n",
      "\n",
      "Test Image: 25\n",
      "knn_preds_mode: [0, 0, 0, 0, 0, 0, 0, 0, 0, 0, 0, 0, 0, 0, 0, 0, 1]\n",
      "knn_preds_prob: [0.6206896305084229, 0.6206896305084229, 0.6896551847457886, 0.6206896305084229, 0.6206896305084229, 0.6551724076271057, 0.6896551847457886, 0.7241379022598267, 0.6206896305084229, 0.5517241358757019, 0.5517241358757019, 0.6206896305084229, 0.6206896305084229, 0.6551724076271057, 0.5862069129943848, 0.6206896305084229, 0.517241358757019]\n",
      "label: tensor([0])\n",
      "pred: 0\n",
      "\n",
      "\n",
      "Invalid datapoint: last_layer_mode != model_output\n",
      "OUT = tensor([[-1.6844,  1.7131]], device='cuda:0')\n",
      "Model output: 1.7131357192993164\n",
      "Model forward pass\n",
      "31.74853515625 5.6484375 1.0239558219909668\n",
      "\n",
      "\n",
      "Pickle load\n",
      "31.74853515625 5.6484375 5.313018321990967\n",
      "\n",
      "\n"
     ]
    },
    {
     "name": "stderr",
     "output_type": "stream",
     "text": [
      "\n",
      "17it [00:00, 490.29it/s]\n",
      "  3%|▎         | 27/1003 [01:57<1:11:16,  4.38s/it]"
     ]
    },
    {
     "name": "stdout",
     "output_type": "stream",
     "text": [
      "Pickle batch processed\n",
      "31.74853515625 6.2109375 4.746123790740967\n",
      "\n",
      "\n",
      "After GPU memory freed\n",
      "31.74853515625 5.0859375 1.0195612907409668\n",
      "\n",
      "\n",
      "Test Image: 26\n",
      "knn_preds_mode: [0, 0, 1, 1, 1, 1, 1, 1, 1, 1, 1, 1, 1, 1, 0, 1, 1]\n",
      "knn_preds_prob: [0.5517241358757019, 0.517241358757019, 0.517241358757019, 0.5517241358757019, 0.517241358757019, 0.517241358757019, 0.5517241358757019, 0.5517241358757019, 0.517241358757019, 0.5862069129943848, 0.5862069129943848, 0.6206896305084229, 0.6206896305084229, 0.5862069129943848, 0.517241358757019, 0.5517241358757019, 0.6896551847457886]\n",
      "label: tensor([0])\n",
      "pred: 1\n",
      "\n",
      "\n",
      "OUT = tensor([[ 0.0199, -0.0714]], device='cuda:0')\n",
      "Model output: 0.019871430471539497\n",
      "Model forward pass\n",
      "31.74853515625 5.0859375 1.0239558219909668\n",
      "\n",
      "\n"
     ]
    },
    {
     "name": "stderr",
     "output_type": "stream",
     "text": [
      "  3%|▎         | 27/1003 [01:58<1:11:09,  4.37s/it]\n"
     ]
    },
    {
     "ename": "KeyboardInterrupt",
     "evalue": "",
     "output_type": "error",
     "traceback": [
      "\u001b[0;31m---------------------------------------------------------------------------\u001b[0m",
      "\u001b[0;31mKeyboardInterrupt\u001b[0m                         Traceback (most recent call last)",
      "\u001b[0;32m/tmp/ipykernel_61058/81948702.py\u001b[0m in \u001b[0;36m<module>\u001b[0;34m\u001b[0m\n\u001b[1;32m     18\u001b[0m         \u001b[0mprint_memory_profile\u001b[0m\u001b[0;34m(\u001b[0m\u001b[0;34m'Model forward pass'\u001b[0m\u001b[0;34m)\u001b[0m\u001b[0;34m\u001b[0m\u001b[0;34m\u001b[0m\u001b[0m\n\u001b[1;32m     19\u001b[0m         \u001b[0;32mwith\u001b[0m \u001b[0mopen\u001b[0m\u001b[0;34m(\u001b[0m\u001b[0mtrain_embs_pkl_path\u001b[0m\u001b[0;34m,\u001b[0m \u001b[0;34m'rb'\u001b[0m\u001b[0;34m)\u001b[0m \u001b[0;32mas\u001b[0m \u001b[0mhandle\u001b[0m\u001b[0;34m:\u001b[0m\u001b[0;34m\u001b[0m\u001b[0;34m\u001b[0m\u001b[0m\n\u001b[0;32m---> 20\u001b[0;31m             \u001b[0minfo_dict\u001b[0m \u001b[0;34m=\u001b[0m \u001b[0mpickle\u001b[0m\u001b[0;34m.\u001b[0m\u001b[0mload\u001b[0m\u001b[0;34m(\u001b[0m\u001b[0mhandle\u001b[0m\u001b[0;34m)\u001b[0m\u001b[0;34m\u001b[0m\u001b[0;34m\u001b[0m\u001b[0m\n\u001b[0m\u001b[1;32m     21\u001b[0m             \u001b[0mprint_memory_profile\u001b[0m\u001b[0;34m(\u001b[0m\u001b[0;34m'Pickle load'\u001b[0m\u001b[0;34m)\u001b[0m\u001b[0;34m\u001b[0m\u001b[0;34m\u001b[0m\u001b[0m\n\u001b[1;32m     22\u001b[0m \u001b[0;34m\u001b[0m\u001b[0m\n",
      "\u001b[0;32m~/asc170022p/nmurali/anaconda3/envs/pl/lib/python3.9/site-packages/torch/storage.py\u001b[0m in \u001b[0;36m_load_from_bytes\u001b[0;34m(b)\u001b[0m\n\u001b[1;32m    159\u001b[0m \u001b[0;34m\u001b[0m\u001b[0m\n\u001b[1;32m    160\u001b[0m \u001b[0;32mdef\u001b[0m \u001b[0m_load_from_bytes\u001b[0m\u001b[0;34m(\u001b[0m\u001b[0mb\u001b[0m\u001b[0;34m)\u001b[0m\u001b[0;34m:\u001b[0m\u001b[0;34m\u001b[0m\u001b[0;34m\u001b[0m\u001b[0m\n\u001b[0;32m--> 161\u001b[0;31m     \u001b[0;32mreturn\u001b[0m \u001b[0mtorch\u001b[0m\u001b[0;34m.\u001b[0m\u001b[0mload\u001b[0m\u001b[0;34m(\u001b[0m\u001b[0mio\u001b[0m\u001b[0;34m.\u001b[0m\u001b[0mBytesIO\u001b[0m\u001b[0;34m(\u001b[0m\u001b[0mb\u001b[0m\u001b[0;34m)\u001b[0m\u001b[0;34m)\u001b[0m\u001b[0;34m\u001b[0m\u001b[0;34m\u001b[0m\u001b[0m\n\u001b[0m\u001b[1;32m    162\u001b[0m \u001b[0;34m\u001b[0m\u001b[0m\n\u001b[1;32m    163\u001b[0m \u001b[0;34m\u001b[0m\u001b[0m\n",
      "\u001b[0;32m~/asc170022p/nmurali/anaconda3/envs/pl/lib/python3.9/site-packages/torch/serialization.py\u001b[0m in \u001b[0;36mload\u001b[0;34m(f, map_location, pickle_module, **pickle_load_args)\u001b[0m\n\u001b[1;32m    606\u001b[0m                     \u001b[0;32mreturn\u001b[0m \u001b[0mtorch\u001b[0m\u001b[0;34m.\u001b[0m\u001b[0mjit\u001b[0m\u001b[0;34m.\u001b[0m\u001b[0mload\u001b[0m\u001b[0;34m(\u001b[0m\u001b[0mopened_file\u001b[0m\u001b[0;34m)\u001b[0m\u001b[0;34m\u001b[0m\u001b[0;34m\u001b[0m\u001b[0m\n\u001b[1;32m    607\u001b[0m                 \u001b[0;32mreturn\u001b[0m \u001b[0m_load\u001b[0m\u001b[0;34m(\u001b[0m\u001b[0mopened_zipfile\u001b[0m\u001b[0;34m,\u001b[0m \u001b[0mmap_location\u001b[0m\u001b[0;34m,\u001b[0m \u001b[0mpickle_module\u001b[0m\u001b[0;34m,\u001b[0m \u001b[0;34m**\u001b[0m\u001b[0mpickle_load_args\u001b[0m\u001b[0;34m)\u001b[0m\u001b[0;34m\u001b[0m\u001b[0;34m\u001b[0m\u001b[0m\n\u001b[0;32m--> 608\u001b[0;31m         \u001b[0;32mreturn\u001b[0m \u001b[0m_legacy_load\u001b[0m\u001b[0;34m(\u001b[0m\u001b[0mopened_file\u001b[0m\u001b[0;34m,\u001b[0m \u001b[0mmap_location\u001b[0m\u001b[0;34m,\u001b[0m \u001b[0mpickle_module\u001b[0m\u001b[0;34m,\u001b[0m \u001b[0;34m**\u001b[0m\u001b[0mpickle_load_args\u001b[0m\u001b[0;34m)\u001b[0m\u001b[0;34m\u001b[0m\u001b[0;34m\u001b[0m\u001b[0m\n\u001b[0m\u001b[1;32m    609\u001b[0m \u001b[0;34m\u001b[0m\u001b[0m\n\u001b[1;32m    610\u001b[0m \u001b[0;34m\u001b[0m\u001b[0m\n",
      "\u001b[0;32m~/asc170022p/nmurali/anaconda3/envs/pl/lib/python3.9/site-packages/torch/serialization.py\u001b[0m in \u001b[0;36m_legacy_load\u001b[0;34m(f, map_location, pickle_module, **pickle_load_args)\u001b[0m\n\u001b[1;32m    792\u001b[0m     \u001b[0;32mfor\u001b[0m \u001b[0mkey\u001b[0m \u001b[0;32min\u001b[0m \u001b[0mdeserialized_storage_keys\u001b[0m\u001b[0;34m:\u001b[0m\u001b[0;34m\u001b[0m\u001b[0;34m\u001b[0m\u001b[0m\n\u001b[1;32m    793\u001b[0m         \u001b[0;32massert\u001b[0m \u001b[0mkey\u001b[0m \u001b[0;32min\u001b[0m \u001b[0mdeserialized_objects\u001b[0m\u001b[0;34m\u001b[0m\u001b[0;34m\u001b[0m\u001b[0m\n\u001b[0;32m--> 794\u001b[0;31m         \u001b[0mdeserialized_objects\u001b[0m\u001b[0;34m[\u001b[0m\u001b[0mkey\u001b[0m\u001b[0;34m]\u001b[0m\u001b[0;34m.\u001b[0m\u001b[0m_set_from_file\u001b[0m\u001b[0;34m(\u001b[0m\u001b[0mf\u001b[0m\u001b[0;34m,\u001b[0m \u001b[0moffset\u001b[0m\u001b[0;34m,\u001b[0m \u001b[0mf_should_read_directly\u001b[0m\u001b[0;34m)\u001b[0m\u001b[0;34m\u001b[0m\u001b[0;34m\u001b[0m\u001b[0m\n\u001b[0m\u001b[1;32m    795\u001b[0m         \u001b[0;32mif\u001b[0m \u001b[0moffset\u001b[0m \u001b[0;32mis\u001b[0m \u001b[0;32mnot\u001b[0m \u001b[0;32mNone\u001b[0m\u001b[0;34m:\u001b[0m\u001b[0;34m\u001b[0m\u001b[0;34m\u001b[0m\u001b[0m\n\u001b[1;32m    796\u001b[0m             \u001b[0moffset\u001b[0m \u001b[0;34m=\u001b[0m \u001b[0mf\u001b[0m\u001b[0;34m.\u001b[0m\u001b[0mtell\u001b[0m\u001b[0;34m(\u001b[0m\u001b[0;34m)\u001b[0m\u001b[0;34m\u001b[0m\u001b[0;34m\u001b[0m\u001b[0m\n",
      "\u001b[0;31mKeyboardInterrupt\u001b[0m: "
     ]
    }
   ],
   "source": [
    "# loop over test images\n",
    "invalid_counter = 0 # for invalid predictions (last layer mode != model output)\n",
    "loader = torch.utils.data.DataLoader(trainset, batch_size=1, shuffle=False, num_workers=4)\n",
    "for test_id, (img,lab) in enumerate(tqdm(loader)):\n",
    "\n",
    "    batch_info['imgs'].append(img)\n",
    "    img = img.to(device)\n",
    "    with torch.no_grad():\n",
    "        # lab = int(lab)\n",
    "        feature_maps = []\n",
    "        out = net(img)\n",
    "        print(f'OUT = {out}')\n",
    "        print(f'Model output: {out.max()}')\n",
    "        batch_info['preds'].append(int(out.argmax()))\n",
    "        batch_info['pred_probs'].append(float(torch.nn.functional.softmax(out).max()))\n",
    "        batch_info['labels'].append(lab)\n",
    "\n",
    "        print_memory_profile('Model forward pass')\n",
    "        with open(train_embs_pkl_path, 'rb') as handle:            \n",
    "            info_dict = pickle.load(handle)\n",
    "            print_memory_profile('Pickle load')\n",
    "\n",
    "            # loop over layers in densenet, and compute KNN for this test image\n",
    "            knn_preds_mode = []  # layer-wise final KNN classification preds   \n",
    "            knn_preds_prob = []\n",
    "            for layer_id,feat in tqdm(enumerate(feature_maps)):\n",
    "                X_i = feat.unsqueeze(1)  # (10000, 1, 784) test set\n",
    "                X_j = info_dict['feats'][layer_id].unsqueeze(0)  # (1, 60000, 784) train set\n",
    "                if lp_norm==2:\n",
    "                    D_ij = ((X_i - X_j) ** 2).sum(-1)  # (10000, 60000) symbolic matrix of squared L2 distances\n",
    "                elif lp_norm==1:\n",
    "                    D_ij = (abs(X_i - X_j)).sum(-1)  # (10000, 60000) symbolic matrix of squared L2 distances\n",
    "                else:\n",
    "                    raise('Invalid lp_norm in arguments!')\n",
    "\n",
    "                ind_knn = torch.topk(-D_ij,K,dim=1)  # Samples <-> Dataset, (N_test, K)\n",
    "                lab_knn = info_dict['labels'][ind_knn[1]]  # (N_test, K) array of integers in [0,9]\n",
    "#                 print(f'!!!!!!test_img:{test_id}, nbrs in layer {layer_id}: {ind_knn[1]}')\n",
    "                mode = int(lab_knn.squeeze().mode()[0])\n",
    "                knn_preds_mode.append(mode)\n",
    "                knn_preds_prob.append(float((lab_knn==mode).float().mean()))\n",
    "\n",
    "            print_memory_profile('Pickle batch processed')\n",
    "\n",
    "            # free GPU memory\n",
    "            del info_dict\n",
    "            torch.cuda.empty_cache()\n",
    "            print_memory_profile('After GPU memory freed') \n",
    "\n",
    "            print('Test Image: %d' %(test_id))\n",
    "            print(f'knn_preds_mode: {knn_preds_mode}')\n",
    "            print(f'knn_preds_prob: {knn_preds_prob}')\n",
    "            print(f'label: {lab}')\n",
    "            print(f'pred: {int(out.argmax())}')\n",
    "            print('\\n')\n",
    "            batch_info['layers_knn_prob'].append(knn_preds_prob)\n",
    "            batch_info['layers_knn_mode'].append(knn_preds_mode)\n",
    "            if int(out.argmax())==knn_preds_mode[-1]: # PD accurate\n",
    "                if knn_pos_thresh==0.5 and knn_neg_thresh==0.5:\n",
    "                    batch_info['pd'].append(compute_pred_depth(knn_preds_mode))\n",
    "                else:\n",
    "                    raise('Code not ready yet! Compute pred arr function also has to be updated!')\n",
    "            else: # PD inaccurate, KNN pred doesn't match model pred\n",
    "                print('Invalid datapoint: last_layer_mode != model_output')\n",
    "                invalid_counter += 1\n",
    "                batch_info['pd'].append(-99)\n",
    "print(f'Invalid Counts Ratio: {invalid_counter}/{num_test_imgs}')"
   ]
  },
  {
   "cell_type": "code",
   "execution_count": null,
   "metadata": {},
   "outputs": [],
   "source": []
  },
  {
   "cell_type": "code",
   "execution_count": 21,
   "metadata": {},
   "outputs": [],
   "source": [
    "# ===================== Save results =====================\n",
    "\n",
    "with open(os.path.join(save_dir,expt_name+'_testPDinfo.pkl'), 'wb') as handle:\n",
    "    pickle.dump(batch_info, handle)"
   ]
  },
  {
   "cell_type": "code",
   "execution_count": 22,
   "metadata": {},
   "outputs": [
    {
     "name": "stderr",
     "output_type": "stream",
     "text": [
      "The input object of type 'Tensor' is an array-like implementing one of the corresponding protocols (`__array__`, `__array_interface__` or `__array_struct__`); but not a sequence (or 0-D). In the future, this object will be coerced as if it was first converted using `np.array(obj)`. To retain the old behaviour, you have to either modify the type 'Tensor', or assign to an empty array created with `np.empty(correct_shape, dtype=object)`.\n",
      "Creating an ndarray from ragged nested sequences (which is a list-or-tuple of lists-or-tuples-or ndarrays with different lengths or shapes) is deprecated. If you meant to do this, you must specify 'dtype=object' when creating the ndarray.\n"
     ]
    },
    {
     "data": {
      "image/png": "[encoded data removed]",
      "text/plain": [
       "<Figure size 504x504 with 1 Axes>"
      ]
     },
     "metadata": {
      "needs_background": "light"
     },
     "output_type": "display_data"
    }
   ],
   "source": [
    "# plot PDs histogram\n",
    "with open(os.path.join(save_dir,expt_name+'_testPDinfo.pkl'), 'rb') as handle:\n",
    "    batch_info = pickle.load(handle)\n",
    "\n",
    "batch_info['pd'] = np.array(batch_info['pd'])\n",
    "batch_info['labels'] = np.array(batch_info['labels'])\n",
    "batch_info['preds'] = np.array(batch_info['preds'])\n",
    "correct_preds_arr = (batch_info['preds']==batch_info['labels'])\n",
    "\n",
    "\n",
    "plt.figure(figsize=(7,7))\n",
    "plt.title(expt_name)\n",
    "plt.ylabel('# of Images')\n",
    "plt.xlabel('Layer')\n",
    "if model=='resnet18':\n",
    "    plt.xlim((0,18))\n",
    "elif model=='vgg16':\n",
    "    plt.xlim((0,16))\n",
    "# plt.ylim((0,80))\n",
    "plt.hist(batch_info['pd'][correct_preds_arr ],bins=100,color='g',alpha=0.55)\n",
    "# plt.hist(batch_info['pd'][~correct_preds_arr ],bins=100,color='r',alpha=0.55)\n",
    "plt.savefig(os.path.join(save_dir,expt_name+'_PDplot.png'))"
   ]
  },
  {
   "cell_type": "code",
   "execution_count": null,
   "metadata": {},
   "outputs": [],
   "source": [
    "batch_info['pred_probs']"
   ]
  },
  {
   "cell_type": "code",
   "execution_count": null,
   "metadata": {},
   "outputs": [],
   "source": []
  },
  {
   "cell_type": "code",
   "execution_count": null,
   "metadata": {},
   "outputs": [],
   "source": []
  },
  {
   "cell_type": "code",
   "execution_count": null,
   "metadata": {},
   "outputs": [],
   "source": []
  },
  {
   "cell_type": "code",
   "execution_count": null,
   "metadata": {},
   "outputs": [],
   "source": []
  },
  {
   "cell_type": "markdown",
   "metadata": {},
   "source": [
    "# Viz some Image"
   ]
  },
  {
   "cell_type": "code",
   "execution_count": null,
   "metadata": {},
   "outputs": [],
   "source": [
    "T1 = transforms.ToPILImage()\n",
    "T2 = transforms.Resize((256,256))\n",
    "# img = train_subset[100][0]\n",
    "img = testset.data[100]\n",
    "T2(T1((img)))"
   ]
  },
  {
   "cell_type": "code",
   "execution_count": null,
   "metadata": {},
   "outputs": [],
   "source": []
  },
  {
   "cell_type": "code",
   "execution_count": null,
   "metadata": {},
   "outputs": [],
   "source": []
  },
  {
   "cell_type": "markdown",
   "metadata": {},
   "source": [
    "# GradCAM on Intermediate Layers"
   ]
  },
  {
   "cell_type": "markdown",
   "metadata": {},
   "source": [
    "### Option-1"
   ]
  },
  {
   "cell_type": "code",
   "execution_count": null,
   "metadata": {},
   "outputs": [],
   "source": [
    "# using grad_cam_forward pass"
   ]
  },
  {
   "cell_type": "code",
   "execution_count": null,
   "metadata": {
    "scrolled": true
   },
   "outputs": [],
   "source": [
    "# load checkpoint\n",
    "expt_name = 'vgg16_mnist_patch_34272'\n",
    "net = nn.DataParallel(VGG('VGG16',num_channels=1))\n",
    "net.load_state_dict(torch.load(os.path.join(save_dir,f'{expt_name}.pt'))['net'])\n",
    "net.eval()\n",
    "layer_id1 = 3 # vgg layer to viz net.module.features[layer_id1]\n",
    "               # 0,3,7,10,14,17,20,24,27,30,34,37,40\n",
    "layer_id2 = 1 # info_dict['feats'][layer_id2]\n",
    "              # 0,1,2,3,4,5,6,7,8,9,10,11,12\n",
    "img_id = 19"
   ]
  },
  {
   "cell_type": "code",
   "execution_count": null,
   "metadata": {},
   "outputs": [],
   "source": []
  },
  {
   "cell_type": "code",
   "execution_count": null,
   "metadata": {},
   "outputs": [],
   "source": [
    "# add hook to layer you want to viz    \n",
    "feature_maps = []  # This will be a list of Tensors, each representing a feature map\n",
    "def hook_feat_map(mod, inp, out):\n",
    "    out2 = torch.nn.functional.interpolate(out,(12,12))\n",
    "    feature_maps.append(torch.reshape(out2, (out2.shape[0],-1)))\n",
    "    \n",
    "net.module.features[layer_id1].register_forward_hook(hook_feat_map)"
   ]
  },
  {
   "cell_type": "code",
   "execution_count": null,
   "metadata": {},
   "outputs": [],
   "source": [
    "# get the nearest K neighbours\n",
    "K = 29\n",
    "lp_norm = 1\n",
    "train_embs_pkl_path = os.path.join(save_dir,f'{expt_name}.pkl')\n",
    "\n",
    "img = testset.data[img_id]\n",
    "lab = testset.targets[img_id]\n",
    "\n",
    "with torch.no_grad():\n",
    "    # make img compatible for forward pass\n",
    "    to_pil_trans = transforms.ToPILImage()\n",
    "    if dataset=='mnist' or dataset=='kmnist' or dataset=='fmnist':\n",
    "        img = to_pil_trans(img.to('cuda'))\n",
    "    else:\n",
    "        img = to_pil_trans(img.permute(2,0,1).to('cuda'))\n",
    "    img = trans(img).unsqueeze(0)\n",
    "    if img.shape[1]==4:\n",
    "        img = img[:,0,:,:].unsqueeze(0)\n",
    "        \n",
    "    feature_maps = []\n",
    "    out = torch.sigmoid(net(img))\n",
    "    print(f'Model output: {out}')\n",
    "    \n",
    "    with open(train_embs_pkl_path, 'rb') as handle:            \n",
    "        info_dict = pickle.load(handle)\n",
    "\n",
    "        X_i = feature_maps[0].unsqueeze(1)  # (10000, 1, 784) test set\n",
    "        X_j = info_dict['feats'][layer_id2].unsqueeze(0)  # (1, 60000, 784) train set\n",
    "        if lp_norm==2:\n",
    "            D_ij = ((X_i - X_j) ** 2).sum(-1)  # (10000, 60000) symbolic matrix of squared L2 distances\n",
    "        elif lp_norm==1:\n",
    "            D_ij = (abs(X_i - X_j)).sum(-1)  # (10000, 60000) symbolic matrix of squared L2 distances\n",
    "        else:\n",
    "            raise('Invalid lp_norm in arguments!')\n",
    "\n",
    "        ind_knn = torch.topk(-D_ij,K,dim=1)  # Samples <-> Dataset, (N_test, K)\n",
    "        lab_knn = info_dict['labels'][ind_knn[1]]  # (N_test, K) array of integers in [0,9]\n",
    "\n",
    "\n",
    "    # free GPU memory\n",
    "    del info_dict\n",
    "    torch.cuda.empty_cache()"
   ]
  },
  {
   "cell_type": "code",
   "execution_count": null,
   "metadata": {},
   "outputs": [],
   "source": [
    "nbr_inds = np.array(ind_knn[1][0].detach().cpu())\n",
    "nbr_feats = X_j[0,nbr_inds,:].to('cuda')\n",
    "nbr_labels = lab_knn.squeeze()\n",
    "s = float(torch.median(-ind_knn[0]).detach().cpu()) # for the median trick\n",
    "\n",
    "\n",
    "# pre-process the img to make it compatible for forward pass\n",
    "to_pil_trans = transforms.ToPILImage()\n",
    "if dataset=='mnist' or dataset=='kmnist' or dataset=='fmnist':\n",
    "    img = to_pil_trans(img.squeeze().to('cuda'))\n",
    "else:\n",
    "    img = to_pil_trans(img.permute(2,0,1).to('cuda'))\n",
    "img = trans(img).unsqueeze(0)\n",
    "lab = int(lab)\n",
    "if img.shape[1]==4:\n",
    "    img = img[:,0,:,:].unsqueeze(0)\n",
    "feature_maps = []\n",
    "out, img_feat = net.module.gradcam_forward(img.to('cuda'),nbr_feats,nbr_labels,layer_id1,s)\n",
    "\n",
    "# show intermediate gradcam\n",
    "out.backward()\n",
    "\n",
    "# pull the gradients out of the model\n",
    "gradients = net.module.get_activations_gradient()\n",
    "\n",
    "# pool the gradients across the channels\n",
    "pooled_gradients = torch.mean(gradients, dim=[0, 2, 3])\n",
    "\n",
    "# get the activations of the last convolutional layer\n",
    "activations = img_feat.detach()\n",
    "\n",
    "# weight the channels by corresponding gradients\n",
    "for i in range(activations.shape[1]):\n",
    "    activations[:, i, :, :] *= pooled_gradients[i]\n",
    "\n",
    "# average the channels of the activations\n",
    "heatmap = torch.mean(activations, dim=1).squeeze().detach().cpu()\n",
    "\n",
    "# relu on top of the heatmap\n",
    "# expression (2) in https://arxiv.org/pdf/1610.02391.pdf\n",
    "heatmap = np.maximum(heatmap, 0)\n",
    "\n",
    "# normalize the heatmap\n",
    "heatmap /= (torch.max(heatmap)+1e-10)\n",
    "\n",
    "# draw the heatmap\n",
    "plt.matshow(heatmap.squeeze())"
   ]
  },
  {
   "cell_type": "code",
   "execution_count": null,
   "metadata": {},
   "outputs": [],
   "source": [
    "T1 = torchvision.transforms.Compose([\n",
    "        torchvision.transforms.Resize((256,256)),\n",
    "        torchvision.transforms.ToTensor(),\n",
    "#         torchvision.transforms.Lambda(center_crop()),\n",
    "        torchvision.transforms.Lambda(lambda x: x.repeat(3,1,1)),\n",
    "    ])\n",
    "img = testset.data[img_id]\n",
    "img = T1(to_pil_trans(img.squeeze()))\n",
    "   \n",
    "T2 = torchvision.transforms.Compose([\n",
    "        torchvision.transforms.ToPILImage(),\n",
    "        torchvision.transforms.Resize((256,256)),\n",
    "        torchvision.transforms.ToTensor(),\n",
    "#         torchvision.transforms.Lambda(center_crop()),\n",
    "    ])\n",
    "heatmap = T2(heatmap)\n",
    "\n",
    "jet = cm.get_cmap('jet')\n",
    "heatmap2 = jet(heatmap.squeeze())\n",
    "\n",
    "img2 = torch.cat((img,1.0*torch.ones(256,256).unsqueeze(0)))\n",
    "plt.figure(figsize=(10,10))\n",
    "plt.imshow(1.0*img2.permute(1,2,0)+1.0*heatmap2)\n",
    "# plt.imshow(1.2*img2.permute(1,2,0))"
   ]
  },
  {
   "cell_type": "code",
   "execution_count": null,
   "metadata": {},
   "outputs": [],
   "source": [
    "# 0,3,7,10,14,17,20,24,27,30,34,37,40"
   ]
  },
  {
   "cell_type": "markdown",
   "metadata": {},
   "source": [
    "### Option-2"
   ]
  },
  {
   "cell_type": "code",
   "execution_count": null,
   "metadata": {},
   "outputs": [],
   "source": [
    "# visualizing the final output, but with different target layers"
   ]
  },
  {
   "cell_type": "code",
   "execution_count": null,
   "metadata": {
    "scrolled": false
   },
   "outputs": [],
   "source": [
    "# # load checkpoint\n",
    "# img_id = 18\n",
    "# img = testset.data[img_id]\n",
    "# lab = testset.targets[img_id]\n",
    "# expt_name = 'vgg16_kmnist_patch_48316'\n",
    "# net = nn.DataParallel(VGG('VGG16',num_channels=1))\n",
    "# net.load_state_dict(torch.load(os.path.join(save_dir,f'{expt_name}.pt'))['net'])\n",
    "# net.eval()\n",
    "# layer_id1 = -1 # vgg layer to viz net.module.features[layer_id1]\n",
    "#                # 0,3,7,10,14,17,20,24,27,30,34,37,40\n",
    "    \n",
    "\n",
    "\n",
    "# # pre-process the img to make it compatible for forward pass\n",
    "# to_pil_trans = transforms.ToPILImage()\n",
    "# if dataset=='mnist' or dataset=='kmnist' or dataset=='fmnist':\n",
    "#     img = to_pil_trans(img.squeeze().to('cuda'))\n",
    "# else:\n",
    "#     img = to_pil_trans(img.permute(2,0,1).to('cuda'))\n",
    "# img = trans(img).unsqueeze(0)\n",
    "# if img.shape[1]==4:\n",
    "#     img = img[:,0,:,:].unsqueeze(0)\n",
    "# feature_maps = []\n",
    "# # out, img_feat = net.module.gradcam_forward(img.to('cuda'),nbr_feats,nbr_labels,layer_id1,s)\n",
    "# out = net(img.to('cuda'))\n",
    "\n",
    "# # compute grad cam masks\n",
    "# targets = [ClassifierOutputTarget(0)]\n",
    "# target_layers = [net.module.features[layer_id1]]\n",
    "\n",
    "# # fetch Class Activation Maps (cams)\n",
    "# cam = EigenCAM(model=net, target_layers=target_layers, use_cuda=True)\n",
    "# grayscale_cams = cam(input_tensor=img, targets=targets, aug_smooth=True, eigen_smooth=True)\n",
    "\n",
    "# # overlay cam on original images\n",
    "# img = img.squeeze().unsqueeze(-1).detach().cpu().numpy()\n",
    "# cam_op = show_cam_on_image(img, grayscale_cams[0]*0.5, use_rgb=True)\n",
    "# img_list = []\n",
    "# img_list.append(cam_op)\n",
    "\n",
    "# # plot overlays\n",
    "# plot_images(img_list,1,1)"
   ]
  },
  {
   "cell_type": "code",
   "execution_count": null,
   "metadata": {
    "scrolled": true
   },
   "outputs": [],
   "source": [
    "# user hyperparams\n",
    "expt_name = 'vgg16_kmnist_patch_48316'\n",
    "layer_id1 = 42\n",
    "\n",
    "# load model\n",
    "net = nn.DataParallel(VGG('VGG16',num_channels=1))\n",
    "net.load_state_dict(torch.load(os.path.join(save_dir,f'{expt_name}.pt'))['net'])\n",
    "net.eval()\n",
    "\n",
    "# loop over test images\n",
    "for _ in range(30):\n",
    "    img_id = int(random.random()*len(testset.data))\n",
    "    img = testset.data[img_id]\n",
    "    \n",
    "    # pre-process the img to make it compatible for forward pass\n",
    "    to_pil_trans = transforms.ToPILImage()\n",
    "    if dataset=='mnist' or dataset=='kmnist' or dataset=='fmnist':\n",
    "        img_tensor = to_pil_trans(img.squeeze().to('cuda'))\n",
    "    else:\n",
    "        img_tensor = to_pil_trans(img.permute(2,0,1).to('cuda'))\n",
    "    img_tensor = trans(img_tensor).unsqueeze(0)\n",
    "    if img_tensor.shape[1]==4:\n",
    "        img_tensor = img_tensor[:,0,:,:].unsqueeze(0)\n",
    "        \n",
    "    img_rgb = img_tensor.squeeze().unsqueeze(-1).expand(32,32,3)\n",
    "\n",
    "    # gradCAM code\n",
    "    targets = [ClassifierOutputTarget(0)]\n",
    "    target_layers = [net.module.features[layer_id1]]\n",
    "\n",
    "    cam = GradCAM(model=net, target_layers=target_layers, use_cuda=True)\n",
    "    grayscale_cams = cam(input_tensor=img_tensor, targets=targets, aug_smooth=False, eigen_smooth=True)\n",
    "    cam_op = show_cam_on_image(np.array(img_rgb), grayscale_cams[0], use_rgb=True)\n",
    "    \n",
    "    img_list = []\n",
    "    img_list.append(img_rgb)\n",
    "    img_list.append(grayscale_cams[0])\n",
    "    img_list.append(cam_op)\n",
    "\n",
    "    # plot results\n",
    "    plot_images(img_list,rows=1,cols=3,titles=['Original Img','Heat Map','Overlay'])"
   ]
  },
  {
   "cell_type": "markdown",
   "metadata": {},
   "source": [
    "### Option-3 SHAP (on final outputs)"
   ]
  },
  {
   "cell_type": "code",
   "execution_count": null,
   "metadata": {
    "scrolled": true
   },
   "outputs": [],
   "source": [
    "# user hyperparams\n",
    "expt_name = 'vgg16_kmnist_27437'\n",
    "\n",
    "# load model\n",
    "net = nn.DataParallel(VGG('VGG16',num_channels=1))\n",
    "net.load_state_dict(torch.load(os.path.join(save_dir,f'{expt_name}.pt'))['net'])\n",
    "net.eval()\n",
    "\n",
    "batch = next(iter(testloader))\n",
    "images, _ = batch\n",
    "\n",
    "shap_train_imgs = images[:10].to('cuda')\n",
    "shap_test_imgs = images[10:14].to('cuda')\n",
    "\n",
    "e = shap.DeepExplainer(net, shap_train_imgs)\n",
    "shap_values = e.shap_values(shap_test_imgs)\n",
    "\n",
    "shap_numpy = [np.swapaxes(np.swapaxes(s, 1, -1), 1, 2) for s in shap_values]\n",
    "test_numpy = np.swapaxes(np.swapaxes(shap_test_imgs.cpu().numpy(), 1, -1), 1, 2)\n",
    "shap.image_plot(shap_numpy, -test_numpy, width=100.0)"
   ]
  },
  {
   "cell_type": "code",
   "execution_count": null,
   "metadata": {},
   "outputs": [],
   "source": [
    "net(shap_test_imgs).shape, len(shap_values), shap_values[0].shape"
   ]
  },
  {
   "cell_type": "code",
   "execution_count": null,
   "metadata": {},
   "outputs": [],
   "source": [
    "for x in shap_train_imgs:\n",
    "    print(x.unsqueeze(0).shape)"
   ]
  },
  {
   "cell_type": "markdown",
   "metadata": {},
   "source": [
    "### Option-3 SHAP (on custom intermediate soft-KNN output)"
   ]
  },
  {
   "cell_type": "code",
   "execution_count": null,
   "metadata": {
    "scrolled": false
   },
   "outputs": [],
   "source": [
    "# user hyperparams\n",
    "expt_name = 'vgg16_kmnist_27437'\n",
    "layer_id = 0 # vgg layer to viz net.module.features[layer_id]\n",
    "               # 0,3,7,10,14,17,20,24,27,30,34,37,40\n",
    "train_emb_idx = 0 # info_dict['feats'][train_emb_idx]\n",
    "              # 0,1,2,3,4,5,6,7,8,9,10,11,12\n",
    "\n",
    "# load model\n",
    "train_embs_pkl_path = os.path.join(save_dir,f'{expt_name}.pkl')\n",
    "net = nn.DataParallel(customVGG2('VGG16', train_embs_pkl_path, layer_id, train_emb_idx, num_channels=1))\n",
    "net.load_state_dict(torch.load(os.path.join(save_dir,f'{expt_name}.pt'))['net'])\n",
    "net.eval()\n",
    "\n",
    "# load batch of images\n",
    "batch = next(iter(testloader))\n",
    "images, _ = batch\n",
    "\n",
    "# prepare shap train and test images\n",
    "shap_train_imgs = images[:100].to('cuda')\n",
    "shap_test_imgs = images[100:102].to('cuda')\n",
    "\n",
    "e = shap.DeepExplainer(net, shap_train_imgs)\n",
    "shap_values = e.shap_values(test_img)\n",
    "\n",
    "shap_numpy = [np.swapaxes(np.swapaxes(s, 1, -1), 1, 2) for s in shap_values]\n",
    "test_numpy = np.swapaxes(np.swapaxes(test_img.cpu().numpy(), 1, -1), 1, 2)\n",
    "shap.image_plot(shap_numpy, -test_numpy, width=100.0)"
   ]
  },
  {
   "cell_type": "code",
   "execution_count": null,
   "metadata": {},
   "outputs": [],
   "source": []
  },
  {
   "cell_type": "code",
   "execution_count": null,
   "metadata": {},
   "outputs": [],
   "source": []
  },
  {
   "cell_type": "code",
   "execution_count": null,
   "metadata": {},
   "outputs": [],
   "source": []
  },
  {
   "cell_type": "code",
   "execution_count": null,
   "metadata": {},
   "outputs": [],
   "source": []
  },
  {
   "cell_type": "markdown",
   "metadata": {},
   "source": [
    "### Option-4\n",
    "Using grad-cam for intermediate layers as described in:\n",
    "https://jacobgil.github.io/pytorch-gradcam-book/Pixel%20Attribution%20for%20embeddings.html"
   ]
  },
  {
   "cell_type": "code",
   "execution_count": null,
   "metadata": {},
   "outputs": [],
   "source": [
    "# ===========user hyper-params==================\n",
    "expt_name = 'vgg16_mnist_patch_34272'\n",
    "net = nn.DataParallel(customVGG('VGG16',num_channels=1))\n",
    "img_id = 5\n",
    "layer_id1 = 0 # vgg layer to viz net.module.features[layer_id1]\n",
    "               # 0,3,7,10,14,17,20,24,27,30,34,37,40\n",
    "layer_id2 = 0 # info_dict['feats'][layer_id2]\n",
    "              # 0,1,2,3,4,5,6,7,8,9,10,11,12\n",
    "# ============================="
   ]
  },
  {
   "cell_type": "code",
   "execution_count": null,
   "metadata": {},
   "outputs": [],
   "source": [
    "net.load_state_dict(torch.load(os.path.join(save_dir,f'{expt_name}.pt'))['net'])\n",
    "net.eval()\n",
    "# add hook to layer you want to viz    \n",
    "feature_maps = []  # This will be a list of Tensors, each representing a feature map\n",
    "def hook_feat_map(mod, inp, out):\n",
    "    out2 = torch.nn.functional.interpolate(out,(12,12))\n",
    "    feature_maps.append(torch.reshape(out2, (out2.shape[0],-1)))\n",
    "    \n",
    "net.module.features[layer_id1].register_forward_hook(hook_feat_map)\n",
    "\n",
    "# get the nearest K neighbours\n",
    "K = 29\n",
    "lp_norm = 1\n",
    "train_embs_pkl_path = os.path.join(save_dir,f'{expt_name}.pkl')\n",
    "\n",
    "img = testset.data[img_id]\n",
    "lab = testset.targets[img_id]\n",
    "\n",
    "with torch.no_grad():\n",
    "    # make img compatible for forward pass\n",
    "    to_pil_trans = transforms.ToPILImage()\n",
    "    if dataset=='mnist' or dataset=='kmnist' or dataset=='fmnist':\n",
    "        img = to_pil_trans(img.to('cuda'))\n",
    "    else:\n",
    "        img = to_pil_trans(img.permute(2,0,1).to('cuda'))\n",
    "    img = trans(img).unsqueeze(0)\n",
    "    if img.shape[1]==4:\n",
    "        img = img[:,0,:,:].unsqueeze(0)\n",
    "        \n",
    "    feature_maps = []\n",
    "    out = torch.sigmoid(net.module.simpleForward(img.to('cuda')))\n",
    "    print(f'Model output: {out}')\n",
    "    \n",
    "    with open(train_embs_pkl_path, 'rb') as handle:            \n",
    "        info_dict = pickle.load(handle)\n",
    "\n",
    "        X_i = feature_maps[0].unsqueeze(1)  # (10000, 1, 784) test set\n",
    "        X_j = info_dict['feats'][layer_id2].unsqueeze(0)  # (1, 60000, 784) train set\n",
    "        if lp_norm==2:\n",
    "            D_ij = ((X_i - X_j) ** 2).sum(-1)  # (10000, 60000) symbolic matrix of squared L2 distances\n",
    "        elif lp_norm==1:\n",
    "            D_ij = (abs(X_i - X_j)).sum(-1)  # (10000, 60000) symbolic matrix of squared L2 distances\n",
    "        else:\n",
    "            raise('Invalid lp_norm in arguments!')\n",
    "\n",
    "        ind_knn = torch.topk(-D_ij,K,dim=1)  # Samples <-> Dataset, (N_test, K)\n",
    "        lab_knn = info_dict['labels'][ind_knn[1]]  # (N_test, K) array of integers in [0,9]\n",
    "\n",
    "\n",
    "    # free GPU memory\n",
    "    del info_dict\n",
    "    torch.cuda.empty_cache()"
   ]
  },
  {
   "cell_type": "code",
   "execution_count": null,
   "metadata": {},
   "outputs": [],
   "source": [
    "nbr_inds = np.array(ind_knn[1][0].detach().cpu())\n",
    "nbr_feats = X_j[0,nbr_inds,:].to('cuda')\n",
    "nbr_labels = lab_knn.squeeze()\n",
    "s = float(torch.median(-ind_knn[0]).detach().cpu()) # for the median trick\n",
    "\n",
    "net.module.nbr_feats = nbr_feats\n",
    "net.module.nbr_labels = nbr_labels\n",
    "net.module.s = s\n",
    "net.module.layer_id = layer_id1"
   ]
  },
  {
   "cell_type": "code",
   "execution_count": null,
   "metadata": {},
   "outputs": [],
   "source": [
    "# pre-process the img to make it compatible for forward pass\n",
    "to_pil_trans = transforms.ToPILImage()\n",
    "if dataset=='mnist' or dataset=='kmnist' or dataset=='fmnist':\n",
    "    img = to_pil_trans(img.squeeze().to('cuda'))\n",
    "else:\n",
    "    img = to_pil_trans(img.permute(2,0,1).to('cuda'))\n",
    "img = trans(img).unsqueeze(0)\n",
    "if img.shape[1]==4:\n",
    "    img = img[:,0,:,:].unsqueeze(0)\n",
    "\n",
    "# compute grad cam masks\n",
    "targets = [ClassifierOutputTarget(0)]\n",
    "target_layers = [net.module.features[layer_id1]]\n",
    "\n",
    "# fetch Class Activation Maps (cams)\n",
    "cam = GradCAMPlusPlus(model=net, target_layers=target_layers, use_cuda=True)\n",
    "grayscale_cams = cam(input_tensor=img, targets=targets, aug_smooth=False, eigen_smooth=True)\n",
    "\n",
    "# overlay cam on original images\n",
    "img = img.squeeze().unsqueeze(-1).detach().cpu().numpy()\n",
    "cam_op = show_cam_on_image(img, grayscale_cams[0], use_rgb=True)\n",
    "img_list = []\n",
    "img_list.append(img)\n",
    "img_list.append(grayscale_cams[0])\n",
    "img_list.append(cam_op)\n",
    "\n",
    "# plot overlays\n",
    "plot_images(img_list,rows=1,cols=3)"
   ]
  },
  {
   "cell_type": "code",
   "execution_count": null,
   "metadata": {
    "scrolled": false
   },
   "outputs": [],
   "source": [
    "# code in loop\n",
    "expt_name = 'vgg16_mnist_patch_34272'\n",
    "net = nn.DataParallel(customVGG('VGG16',num_channels=1))\n",
    "net.load_state_dict(torch.load(os.path.join(save_dir,f'{expt_name}.pt'))['net'])\n",
    "net.eval()\n",
    "for _ in range(1000):\n",
    "    # ===========user hyper-params==================\n",
    "    img_id = int(random.random()*len(testset.data))\n",
    "    layer_id1 = 40 # vgg layer to viz net.module.features[layer_id1]\n",
    "                   # 0,3,7,10,14,17,20,24,27,30,34,37,40\n",
    "    layer_id2 = 12 # info_dict['feats'][layer_id2]\n",
    "                  # 0,1,2,3,4,5,6,7,8,9,10,11,12\n",
    "    # =============================\n",
    "    # add hook to layer you want to viz    \n",
    "    feature_maps = []  # This will be a list of Tensors, each representing a feature map\n",
    "def hook_feat_map(mod, inp, out):\n",
    "    out2 = torch.nn.functional.interpolate(out,(12,12))\n",
    "    feature_maps.append(torch.reshape(out2, (out2.shape[0],-1)))\n",
    "\n",
    "    net.module.features[layer_id1].register_forward_hook(hook_feat_map)\n",
    "\n",
    "    # get the nearest K neighbours\n",
    "    K = 29\n",
    "    lp_norm = 1\n",
    "    train_embs_pkl_path = os.path.join(save_dir,f'{expt_name}.pkl')\n",
    "\n",
    "    img = testset.data[img_id]\n",
    "    lab = testset.targets[img_id]\n",
    "\n",
    "    with torch.no_grad():\n",
    "        # make img compatible for forward pass\n",
    "        to_pil_trans = transforms.ToPILImage()\n",
    "        if dataset=='mnist' or dataset=='kmnist' or dataset=='fmnist':\n",
    "            img = to_pil_trans(img.to('cuda'))\n",
    "        else:\n",
    "            img = to_pil_trans(img.permute(2,0,1).to('cuda'))\n",
    "        img = trans(img).unsqueeze(0)\n",
    "        if img.shape[1]==4:\n",
    "            img = img[:,0,:,:].unsqueeze(0)\n",
    "\n",
    "        feature_maps = []\n",
    "        out = torch.sigmoid(net.module.simpleForward(img.to('cuda')))\n",
    "        print(f'Model output: {out}')\n",
    "\n",
    "        with open(train_embs_pkl_path, 'rb') as handle:            \n",
    "            info_dict = pickle.load(handle)\n",
    "\n",
    "            X_i = feature_maps[0].unsqueeze(1)  # (10000, 1, 784) test set\n",
    "            X_j = info_dict['feats'][layer_id2].unsqueeze(0)  # (1, 60000, 784) train set\n",
    "            if lp_norm==2:\n",
    "                D_ij = ((X_i - X_j) ** 2).sum(-1)  # (10000, 60000) symbolic matrix of squared L2 distances\n",
    "            elif lp_norm==1:\n",
    "                D_ij = (abs(X_i - X_j)).sum(-1)  # (10000, 60000) symbolic matrix of squared L2 distances\n",
    "            else:\n",
    "                raise('Invalid lp_norm in arguments!')\n",
    "\n",
    "            ind_knn = torch.topk(-D_ij,K,dim=1)  # Samples <-> Dataset, (N_test, K)\n",
    "            lab_knn = info_dict['labels'][ind_knn[1]]  # (N_test, K) array of integers in [0,9]\n",
    "\n",
    "\n",
    "        # free GPU memory\n",
    "        del info_dict\n",
    "        torch.cuda.empty_cache()\n",
    "\n",
    "    nbr_inds = np.array(ind_knn[1][0].detach().cpu())\n",
    "    nbr_feats = X_j[0,nbr_inds,:].to('cuda')\n",
    "    nbr_labels = lab_knn.squeeze()\n",
    "    s = float(torch.median(-ind_knn[0]).detach().cpu()) # for the median trick\n",
    "\n",
    "    net.module.nbr_feats = nbr_feats\n",
    "    net.module.nbr_labels = nbr_labels\n",
    "    net.module.s = s\n",
    "    net.module.layer_id = layer_id1\n",
    "\n",
    "    # pre-process the img to make it compatible for forward pass\n",
    "    to_pil_trans = transforms.ToPILImage()\n",
    "    if dataset=='mnist' or dataset=='kmnist' or dataset=='fmnist':\n",
    "        img = to_pil_trans(img.squeeze().to('cuda'))\n",
    "    else:\n",
    "        img = to_pil_trans(img.permute(2,0,1).to('cuda'))\n",
    "    img = trans(img).unsqueeze(0)\n",
    "    if img.shape[1]==4:\n",
    "        img = img[:,0,:,:].unsqueeze(0)\n",
    "\n",
    "    # compute grad cam masks\n",
    "    targets = [ClassifierOutputTarget(0)]\n",
    "    target_layers = [net.module.features[layer_id1]]\n",
    "\n",
    "    # fetch Class Activation Maps (cams)\n",
    "    cam = GradCAMPlusPlus(model=net, target_layers=target_layers, use_cuda=True)\n",
    "    grayscale_cams = cam(input_tensor=img, targets=targets, aug_smooth=False, eigen_smooth=True)\n",
    "\n",
    "    # overlay cam on original images\n",
    "    img = img.squeeze().unsqueeze(-1).detach().cpu().numpy()\n",
    "    cam_op = show_cam_on_image(img, grayscale_cams[0], use_rgb=True)\n",
    "    img_list = []\n",
    "    img_list.append(img)\n",
    "    img_list.append(grayscale_cams[0])\n",
    "    img_list.append(cam_op)\n",
    "\n",
    "    # plot overlays\n",
    "    plot_images(img_list,rows=1,cols=3,titles=['Original Img','Heat Map','Overlay'])"
   ]
  },
  {
   "cell_type": "code",
   "execution_count": null,
   "metadata": {},
   "outputs": [],
   "source": []
  },
  {
   "cell_type": "code",
   "execution_count": null,
   "metadata": {},
   "outputs": [],
   "source": []
  },
  {
   "cell_type": "markdown",
   "metadata": {},
   "source": [
    "# Re-Train Only Initial Layers on Randomized Labels"
   ]
  },
  {
   "cell_type": "code",
   "execution_count": null,
   "metadata": {
    "scrolled": false
   },
   "outputs": [],
   "source": [
    "# user hyperparams\n",
    "expt_name = 'vgg16_kmnist_patch_48316'\n",
    "num_ch = 1"
   ]
  },
  {
   "cell_type": "code",
   "execution_count": null,
   "metadata": {},
   "outputs": [],
   "source": [
    "net = nn.DataParallel(VGG('VGG16',num_channels=num_ch))\n",
    "net.load_state_dict(torch.load(os.path.join(save_dir,f'{expt_name}.pt'))['net'])\n",
    "for i in range(10,45,1):\n",
    "    for param in net.module.features[i].parameters():\n",
    "        param.requires_grad = False\n",
    "for param in net.module.classifier.parameters():\n",
    "        param.requires_grad = False"
   ]
  },
  {
   "cell_type": "code",
   "execution_count": null,
   "metadata": {
    "scrolled": true
   },
   "outputs": [],
   "source": [
    "# sanity checking if all gradients false except initial layers\n",
    "for param in net.module.parameters():\n",
    "    print(param.requires_grad)"
   ]
  },
  {
   "cell_type": "code",
   "execution_count": null,
   "metadata": {},
   "outputs": [],
   "source": [
    "device = 'cuda' if torch.cuda.is_available() else 'cpu'\n",
    "best_acc = 0  # best test accuracy\n",
    "net = net.to(device)\n",
    "    \n",
    "if device == 'cuda':\n",
    "    cudnn.benchmark = True\n",
    "\n",
    "\n",
    "criterion = nn.CrossEntropyLoss()\n",
    "optimizer = optim.SGD(net.parameters(), lr=lr,\n",
    "                      momentum=0.9, weight_decay=5e-4)\n",
    "scheduler = torch.optim.lr_scheduler.CosineAnnealingLR(optimizer, T_max=200)\n",
    "\n",
    "\n",
    "# Training\n",
    "def train(epoch, randomize_labels=False):\n",
    "    print('\\nEpoch: %d' % epoch)\n",
    "    net.train()\n",
    "    train_loss = 0\n",
    "    correct = 0\n",
    "    total = 0\n",
    "    for batch_idx, (inputs, targets) in enumerate(tqdm(trainloader)):\n",
    "        if randomize_labels:\n",
    "            targets = targets[torch.randperm(targets.shape[0])] # randomize labels\n",
    "        inputs, targets = inputs.to(device), targets.to(device)\n",
    "        optimizer.zero_grad()\n",
    "        outputs = net(inputs)\n",
    "        loss = criterion(outputs, targets)\n",
    "        loss.backward()\n",
    "        optimizer.step()\n",
    "\n",
    "        train_loss += loss.item()\n",
    "        _, predicted = outputs.max(1)\n",
    "        total += targets.size(0)\n",
    "        correct += predicted.eq(targets).sum().item()\n",
    "\n",
    "    print(batch_idx, len(trainloader), 'Loss: %.3f | Acc: %.3f%% (%d/%d)'\n",
    "                 % (train_loss/(batch_idx+1), 100.*correct/total, correct, total))\n",
    "\n",
    "\n",
    "def test(epoch):\n",
    "    global best_acc\n",
    "    net.eval()\n",
    "    test_loss = 0\n",
    "    correct = 0\n",
    "    total = 0\n",
    "    with torch.no_grad():\n",
    "        for batch_idx, (inputs, targets) in enumerate(tqdm(testloader)):\n",
    "            inputs, targets = inputs.to(device), targets.to(device)\n",
    "            outputs = net(inputs)\n",
    "            loss = criterion(outputs, targets)\n",
    "\n",
    "            test_loss += loss.item()\n",
    "            _, predicted = outputs.max(1)\n",
    "            total += targets.size(0)\n",
    "            correct += predicted.eq(targets).sum().item()\n",
    "\n",
    "    print(batch_idx, len(testloader), 'Loss: %.3f | Acc: %.3f%% (%d/%d)'\n",
    "                 % (test_loss/(batch_idx+1), 100.*correct/total, correct, total))\n"
   ]
  },
  {
   "cell_type": "code",
   "execution_count": null,
   "metadata": {},
   "outputs": [],
   "source": [
    "train(2,randomize_labels=True)\n",
    "test(2)\n",
    "scheduler.step()\n",
    "\n",
    "print('Saving..')\n",
    "state = {\n",
    "    'net': net.state_dict(),\n",
    "    'epoch': 2,\n",
    "}\n",
    "#         if not os.path.isdir(f'{args['expt_name']}_checkpoint'):\n",
    "#             os.mkdir('checkpoint')\n",
    "torch.save(state, os.path.join(save_dir,f'{expt_name}_a.pt'))"
   ]
  },
  {
   "cell_type": "code",
   "execution_count": null,
   "metadata": {},
   "outputs": [],
   "source": []
  },
  {
   "cell_type": "code",
   "execution_count": null,
   "metadata": {},
   "outputs": [],
   "source": []
  },
  {
   "cell_type": "markdown",
   "metadata": {},
   "source": [
    "# Re-Train Only Final Layers on True Labels"
   ]
  },
  {
   "cell_type": "code",
   "execution_count": null,
   "metadata": {},
   "outputs": [],
   "source": [
    "# freeze initial layers\n",
    "for param in net.parameters():\n",
    "    param.requires_grad = True\n",
    "\n",
    "for i in range(0,10,1):\n",
    "    for param in net.module.features[i].parameters():\n",
    "        param.requires_grad = False"
   ]
  },
  {
   "cell_type": "code",
   "execution_count": null,
   "metadata": {
    "scrolled": true
   },
   "outputs": [],
   "source": [
    "# sanity checking if all gradients false except initial layers\n",
    "for param in net.module.parameters():\n",
    "    print(param.requires_grad)"
   ]
  },
  {
   "cell_type": "code",
   "execution_count": null,
   "metadata": {},
   "outputs": [],
   "source": [
    "epoch = 3\n",
    "train(epoch,randomize_labels=False)\n",
    "test(epoch)\n",
    "scheduler.step()\n",
    "\n",
    "print('Saving..')\n",
    "state = {\n",
    "    'net': net.state_dict(),\n",
    "    'epoch': epoch,\n",
    "}\n",
    "#         if not os.path.isdir(f'{args['expt_name']}_checkpoint'):\n",
    "#             os.mkdir('checkpoint')\n",
    "torch.save(state, os.path.join(save_dir,f'{expt_name}_b.pt'))"
   ]
  },
  {
   "cell_type": "code",
   "execution_count": null,
   "metadata": {},
   "outputs": [],
   "source": []
  },
  {
   "cell_type": "code",
   "execution_count": null,
   "metadata": {},
   "outputs": [],
   "source": []
  },
  {
   "cell_type": "code",
   "execution_count": null,
   "metadata": {},
   "outputs": [],
   "source": []
  },
  {
   "cell_type": "code",
   "execution_count": null,
   "metadata": {},
   "outputs": [],
   "source": []
  },
  {
   "cell_type": "code",
   "execution_count": null,
   "metadata": {},
   "outputs": [],
   "source": []
  },
  {
   "cell_type": "code",
   "execution_count": null,
   "metadata": {},
   "outputs": [],
   "source": []
  },
  {
   "cell_type": "markdown",
   "metadata": {},
   "source": [
    "# Misc"
   ]
  },
  {
   "cell_type": "code",
   "execution_count": null,
   "metadata": {},
   "outputs": [],
   "source": [
    "expt_name = 'vgg16_mnist_75872'"
   ]
  },
  {
   "cell_type": "code",
   "execution_count": null,
   "metadata": {},
   "outputs": [],
   "source": [
    "# plot PDs histogram\n",
    "\n",
    "with open(os.path.join(save_dir,expt_name+'_testPDinfo.pkl'), 'rb') as handle:\n",
    "    batch_info = pickle.load(handle)\n",
    "\n",
    "batch_info['pd'] = np.array(batch_info['pd'])\n",
    "batch_info['labels'] = np.array(batch_info['labels'])\n",
    "batch_info['preds'] = np.array(batch_info['preds'])\n",
    "correct_preds_arr = (batch_info['preds']==batch_info['labels'])\n",
    "\n",
    "\n",
    "plt.figure(figsize=(7,7))\n",
    "plt.title('MNIST', fontsize=25)\n",
    "plt.ylabel('No. of Images', fontsize=25)\n",
    "plt.xlabel('VGG16 Layers', fontsize=25)\n",
    "if model=='resnet18':\n",
    "    plt.xlim((0,18))\n",
    "elif model=='vgg16':\n",
    "    plt.xlim((0,16))\n",
    "plt.ylim((0,80))\n",
    "plt.hist(batch_info['pd'][correct_preds_arr ],bins=[1,2,3,4,5,6,7,8,9,10,11,12,13,14,15,16],color='g',alpha=0.55)\n",
    "plt.hist(batch_info['pd'][~correct_preds_arr ],bins=[1,2,3,4,5,6,7,8,9,10,11,12,13,14,15,16],color='r',alpha=0.55)\n",
    "plt.xticks(fontsize = 20)\n",
    "plt.yticks(fontsize = 20)\n",
    "plt.savefig(os.path.join(save_dir,expt_name+'_PDplot.png'))"
   ]
  },
  {
   "cell_type": "code",
   "execution_count": null,
   "metadata": {},
   "outputs": [],
   "source": [
    "expt_name = 'vgg16_fmnist_88507'"
   ]
  },
  {
   "cell_type": "code",
   "execution_count": null,
   "metadata": {},
   "outputs": [],
   "source": [
    "# plot PDs histogram\n",
    "\n",
    "with open(os.path.join(save_dir,expt_name+'_testPDinfo.pkl'), 'rb') as handle:\n",
    "    batch_info = pickle.load(handle)\n",
    "\n",
    "batch_info['pd'] = np.array(batch_info['pd'])\n",
    "batch_info['labels'] = np.array(batch_info['labels'])\n",
    "batch_info['preds'] = np.array(batch_info['preds'])\n",
    "correct_preds_arr = (batch_info['preds']==batch_info['labels'])\n",
    "\n",
    "\n",
    "plt.figure(figsize=(7,7))\n",
    "plt.title('FMNIST', fontsize=25)\n",
    "plt.ylabel('No. of Images', fontsize=25)\n",
    "plt.xlabel('VGG16 Layers', fontsize=25)\n",
    "if model=='resnet18':\n",
    "    plt.xlim((0,18))\n",
    "elif model=='vgg16':\n",
    "    plt.xlim((0,16))\n",
    "plt.ylim((0,80))\n",
    "plt.hist(batch_info['pd'][correct_preds_arr ],bins=[1,2,3,4,5,6,7,8,9,10,11,12,13,14,15,16],color='g',alpha=0.55)\n",
    "plt.hist(batch_info['pd'][~correct_preds_arr ],bins=[1,2,3,4,5,6,7,8,9,10,11,12,13,14,15,16],color='r',alpha=0.55)\n",
    "plt.xticks(fontsize = 20)\n",
    "plt.yticks(fontsize = 20)\n",
    "plt.savefig(os.path.join(save_dir,expt_name+'_PDplot.png'))"
   ]
  },
  {
   "cell_type": "code",
   "execution_count": null,
   "metadata": {},
   "outputs": [],
   "source": [
    "expt_name = 'vgg16_cifar10_18394'"
   ]
  },
  {
   "cell_type": "code",
   "execution_count": null,
   "metadata": {},
   "outputs": [],
   "source": [
    "# plot PDs histogram\n",
    "\n",
    "with open(os.path.join(save_dir,expt_name+'_testPDinfo.pkl'), 'rb') as handle:\n",
    "    batch_info = pickle.load(handle)\n",
    "\n",
    "batch_info['pd'] = np.array(batch_info['pd'])\n",
    "batch_info['labels'] = np.array(batch_info['labels'])\n",
    "batch_info['preds'] = np.array(batch_info['preds'])\n",
    "correct_preds_arr = (batch_info['preds']==batch_info['labels'])\n",
    "\n",
    "\n",
    "plt.figure(figsize=(7,7))\n",
    "plt.title('CIFAR10', fontsize=25)\n",
    "plt.ylabel('No. of Images', fontsize=25)\n",
    "plt.xlabel('VGG16 Layers', fontsize=25)\n",
    "if model=='resnet18':\n",
    "    plt.xlim((0,18))\n",
    "elif model=='vgg16':\n",
    "    plt.xlim((0,16))\n",
    "plt.ylim((0,80))\n",
    "plt.hist(batch_info['pd'],bins=[1,2,3,4,5,6,7,8,9,10,11,12,13,14,15,16],color='g',alpha=0.55)\n",
    "plt.xticks(fontsize = 20)\n",
    "plt.yticks(fontsize = 20)\n",
    "plt.savefig(os.path.join(save_dir,expt_name+'_PDplot.png'))"
   ]
  },
  {
   "cell_type": "code",
   "execution_count": null,
   "metadata": {},
   "outputs": [],
   "source": [
    "expt_name = 'vgg16_kmnist_27437'"
   ]
  },
  {
   "cell_type": "code",
   "execution_count": null,
   "metadata": {},
   "outputs": [],
   "source": [
    "# plot PDs histogram\n",
    "\n",
    "with open(os.path.join(save_dir,expt_name+'_testPDinfo.pkl'), 'rb') as handle:\n",
    "    batch_info = pickle.load(handle)\n",
    "\n",
    "batch_info['pd'] = np.array(batch_info['pd'])\n",
    "batch_info['labels'] = np.array(batch_info['labels'])\n",
    "batch_info['preds'] = np.array(batch_info['preds'])\n",
    "correct_preds_arr = (batch_info['preds']==batch_info['labels'])\n",
    "\n",
    "\n",
    "plt.figure(figsize=(7,7))\n",
    "plt.title('KMNIST w/o patch', fontsize=25)\n",
    "plt.ylabel('No. of Images', fontsize=25)\n",
    "plt.xlabel('VGG16 Layers', fontsize=25)\n",
    "if model=='resnet18':\n",
    "    plt.xlim((0,18))\n",
    "elif model=='vgg16':\n",
    "    plt.xlim((0,16))\n",
    "plt.ylim((0,80))\n",
    "plt.hist(batch_info['pd'][correct_preds_arr ],bins=[1,2,3,4,5,6,7,8,9,10,11,12,13,14,15,16],color='g',alpha=0.55)\n",
    "plt.hist(batch_info['pd'][~correct_preds_arr ],bins=[1,2,3,4,5,6,7,8,9,10,11,12,13,14,15,16],color='r',alpha=0.55)\n",
    "plt.xticks(fontsize = 20)\n",
    "plt.yticks(fontsize = 20)\n",
    "plt.savefig(os.path.join(save_dir,expt_name+'_PDplot.png'))"
   ]
  },
  {
   "cell_type": "code",
   "execution_count": null,
   "metadata": {},
   "outputs": [],
   "source": []
  },
  {
   "cell_type": "code",
   "execution_count": null,
   "metadata": {},
   "outputs": [],
   "source": [
    "212023/7977"
   ]
  },
  {
   "cell_type": "code",
   "execution_count": null,
   "metadata": {},
   "outputs": [],
   "source": []
  },
  {
   "cell_type": "code",
   "execution_count": null,
   "metadata": {},
   "outputs": [],
   "source": []
  },
  {
   "cell_type": "code",
   "execution_count": null,
   "metadata": {},
   "outputs": [],
   "source": []
  },
  {
   "cell_type": "code",
   "execution_count": null,
   "metadata": {},
   "outputs": [],
   "source": []
  },
  {
   "cell_type": "code",
   "execution_count": null,
   "metadata": {},
   "outputs": [],
   "source": []
  }
 ],
 "metadata": {
  "kernelspec": {
   "display_name": "pl",
   "language": "python",
   "name": "pl"
  },
  "language_info": {
   "codemirror_mode": {
    "name": "ipython",
    "version": 3
   },
   "file_extension": ".py",
   "mimetype": "text/x-python",
   "name": "python",
   "nbconvert_exporter": "python",
   "pygments_lexer": "ipython3",
   "version": "3.9.7"
  }
 },
 "nbformat": 4,
 "nbformat_minor": 4
}

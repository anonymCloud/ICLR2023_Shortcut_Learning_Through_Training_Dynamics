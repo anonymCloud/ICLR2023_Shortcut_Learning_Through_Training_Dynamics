{
 "cells": [
  {
   "cell_type": "markdown",
   "metadata": {},
   "source": [
    "# Steps to follow:\n",
    "1. train your model\n",
    "2. obtain train embeddings (requires train_subset.csv, 3000 samples balanced=>1500pneum, 1500no pneum)\n",
    "3. compute PD (requires test.csv, 1000 samples balanced=>500pneum, 500no pneum)\n",
    "4. Plot/analyse/visualize PD"
   ]
  },
  {
   "cell_type": "markdown",
   "metadata": {},
   "source": [
    "# Import Libraries"
   ]
  },
  {
   "cell_type": "code",
   "execution_count": 6,
   "metadata": {},
   "outputs": [],
   "source": [
    "%load_ext autoreload\n",
    "%autoreload 2"
   ]
  },
  {
   "cell_type": "code",
   "execution_count": 7,
   "metadata": {},
   "outputs": [],
   "source": [
    "import seaborn as sns\n",
    "import matplotlib.pyplot as plt  \n",
    "from tqdm import tqdm   \n",
    "import pandas as pd\n",
    "import numpy as np\n",
    "import os, sys, pdb\n",
    "import torch, torchvision\n",
    "import pickle\n",
    "import time\n",
    "from PIL import Image\n",
    "from brokenaxes import brokenaxes\n",
    "# from pykeops.torch import LazyTensor\n",
    "\n",
    "from pytorch_grad_cam import GradCAM, ScoreCAM, GradCAMPlusPlus, AblationCAM, XGradCAM, EigenCAM, FullGrad\n",
    "from pytorch_grad_cam.utils.model_targets import ClassifierOutputTarget\n",
    "from pytorch_grad_cam.utils.image import show_cam_on_image\n",
    "\n",
    "sys.path.insert(0,'/xxx/home/xxx/xxx22p/xxx/projects/augmentation_by_explanation_eccv22/Classifier')\n",
    "import models, datasets\n",
    "sys.path.insert(0,'/xxx/home/xxx/xxx22p/xxx/projects/shortcut_detection_and_mitigation/scripts')\n",
    "from utils import *"
   ]
  },
  {
   "cell_type": "markdown",
   "metadata": {},
   "source": [
    "# Step-2: Obtain Train Embeddings\n",
    "it is assumed that:\n",
    "* you already have a trained model\n",
    "* you have your training subset data file (e.g., 1500 diseased patients, 1500 healthy patients)"
   ]
  },
  {
   "cell_type": "code",
   "execution_count": null,
   "metadata": {},
   "outputs": [],
   "source": [
    "# user hyperparams\n",
    "dataset_name = 'github_covid' # mimic, chex, nih, chex_mimic, ham\n",
    "cls_name = 'covid'\n",
    "imgsize = 512\n",
    "ckpt_path = '/xxx/home/xxx/xxx22p/xxx/projects/augmentation_by_explanation_eccv22/Output/GithubCovid/covid_512_train/GithubCovid-densenet121-GithubCovid_512-e1-auc0.8559.pt'\n",
    "csv_train_subset = '/xxx/home/xxx/xxx22p/xxx/projects/shortcut_detection_and_mitigation/experiments/medical_expts/github_covid/github_covid_subset.csv'\n",
    "save_pkl_path = '/xxx/home/xxx/xxx22p/xxx/projects/shortcut_detection_and_mitigation/experiments/medical_expts/github_covid/temp_embs_ep1.pkl'"
   ]
  },
  {
   "cell_type": "code",
   "execution_count": null,
   "metadata": {},
   "outputs": [],
   "source": [
    "# input: densenet121 model, provide a hook function\n",
    "# output: returns a model with hooks registered for all 58 layers\n",
    "def register_hooks(model, hook):\n",
    "    \n",
    "    for idx,layer in enumerate(model.features.denseblock1):\n",
    "        if idx%2==0:\n",
    "            layer.register_forward_hook(hook)\n",
    "        \n",
    "    for idx,layer in enumerate(model.features.denseblock2):\n",
    "        if idx%2==0:\n",
    "            layer.register_forward_hook(hook)\n",
    "        \n",
    "    for idx,layer in enumerate(model.features.denseblock3):\n",
    "        if idx%2==0:\n",
    "            layer.register_forward_hook(hook)\n",
    "        \n",
    "    for idx,layer in enumerate(model.features.denseblock4):\n",
    "        if idx%2==0:\n",
    "            layer.register_forward_hook(hook)\n",
    "        \n",
    "    return model"
   ]
  },
  {
   "cell_type": "code",
   "execution_count": null,
   "metadata": {},
   "outputs": [],
   "source": [
    "feature_maps = []  # This will be a list of Tensors, each representing a feature map\n",
    "def hook_feat_map(mod, inp, out):\n",
    "    out2 = torch.nn.functional.interpolate(out,(8,8))\n",
    "    feature_maps.append(torch.reshape(out2, (out2.shape[0],-1)))"
   ]
  },
  {
   "cell_type": "code",
   "execution_count": null,
   "metadata": {},
   "outputs": [],
   "source": [
    "model = torch.load(ckpt_path).to('cuda')\n",
    "model = register_hooks(model, hook_feat_map)"
   ]
  },
  {
   "cell_type": "code",
   "execution_count": null,
   "metadata": {},
   "outputs": [],
   "source": [
    "class center_crop(object):\n",
    "    def crop_center(self, img):\n",
    "        _, y, x = img.shape\n",
    "        crop_size = np.min([y,x])\n",
    "        startx = x // 2 - (crop_size // 2)\n",
    "        starty = y // 2 - (crop_size // 2)\n",
    "        return img[:, starty:starty + crop_size, startx:startx + crop_size]\n",
    "    \n",
    "    def __call__(self, img):\n",
    "        return self.crop_center(img)\n",
    "\n",
    "class normalize(object):\n",
    "    def normalize_(self, img, maxval=255):\n",
    "        img = (img)/(maxval)\n",
    "        return img\n",
    "    \n",
    "    def __call__(self, img):\n",
    "        return self.normalize_(img)\n",
    "    \n",
    "def to_cpu(arr):\n",
    "    for idx,x in enumerate(arr):\n",
    "        arr[idx] = x.to('cpu')\n",
    "    return arr\n",
    "\n",
    "def print_memory_profile(s):\n",
    "    # print GPU memory\n",
    "    t = torch.cuda.get_device_properties(0).total_memory\n",
    "    r = torch.cuda.memory_reserved(0)\n",
    "    a = torch.cuda.memory_allocated(0)\n",
    "    print(s)\n",
    "    print(t/1024**3,r/1024**3,a/1024**3)\n",
    "    print('\\n')\n"
   ]
  },
  {
   "cell_type": "code",
   "execution_count": null,
   "metadata": {
    "scrolled": true
   },
   "outputs": [],
   "source": [
    "# code for saving pkl file of layer embeddings\n",
    "bs = 64\n",
    "\n",
    "if (dataset_name=='mimic')or(dataset_name=='chex')or(dataset_name=='nih')or(dataset_name=='chex_mimic')or(dataset_name=='github_covid'):\n",
    "    transforms = torchvision.transforms.Compose([\n",
    "        #torchvision.transforms.ToPILImage(),\n",
    "        torchvision.transforms.Resize((imgsize,imgsize)),\n",
    "        torchvision.transforms.ToTensor(),\n",
    "        torchvision.transforms.Lambda(center_crop()),\n",
    "        torchvision.transforms.Lambda(normalize())\n",
    "    ])\n",
    "    dataset = datasets.MIMIC_Dataset(csvpath=csv_train_subset, class_names=[cls_name], transform=transforms)\n",
    "elif dataset_name=='ham':\n",
    "    transforms = torchvision.transforms.Compose([\n",
    "        torchvision.transforms.ToPILImage(),\\\n",
    "        torchvision.transforms.Resize((imgsize,imgsize)), \n",
    "        torchvision.transforms.RandomHorizontalFlip(p=0.5),\n",
    "        torchvision.transforms.RandomVerticalFlip(p=0.5),\n",
    "        torchvision.transforms.ToTensor()\n",
    "    ])\n",
    "    dataset = datasets.HAM_Dataset(imgpath='/ocean/projects/xxx22p/singla/Datasets/HAM10000/imgs',csvpath=csv_train_subset, class_names=[cls_name], transform=transforms, unique_patients=False)\n",
    "\n",
    "loader = torch.utils.data.DataLoader(dataset,\n",
    "                                     batch_size=bs,\n",
    "                                     shuffle=False,\n",
    "                                     num_workers=4, \n",
    "                                     pin_memory=True)\n",
    "\n",
    "handle = open(save_pkl_path, \"wb\")\n",
    "\n",
    "with torch.no_grad():\n",
    "    for b_idx,batch in enumerate(tqdm(loader)):\n",
    "        \n",
    "        # print GPU memory\n",
    "        print_memory_profile('Initial')\n",
    "        \n",
    "        imgs = batch['img'].to('cuda')\n",
    "        labels = batch['lab']\n",
    "        paths = batch['file_name']\n",
    "        \n",
    "        feature_maps = []\n",
    "        _ = model(imgs)\n",
    "        \n",
    "        info_dict = {'batch_idx':b_idx,'num_batches':len(loader),'feats':feature_maps,'labels':labels,'paths':paths}\n",
    "        pickle.dump(info_dict, handle)  \n",
    "        \n",
    "        # print GPU memory\n",
    "        print_memory_profile('After processing Batch')\n",
    "        \n",
    "        # free up GPU memory\n",
    "        del feature_maps, info_dict\n",
    "        torch.cuda.empty_cache()     \n",
    "        \n",
    "        # print GPU memory\n",
    "        print_memory_profile('After freeing GPU memory')\n",
    "        \n",
    "handle.close()"
   ]
  },
  {
   "cell_type": "code",
   "execution_count": null,
   "metadata": {},
   "outputs": [],
   "source": []
  },
  {
   "cell_type": "markdown",
   "metadata": {},
   "source": [
    "# Compute PD"
   ]
  },
  {
   "cell_type": "code",
   "execution_count": null,
   "metadata": {},
   "outputs": [],
   "source": [
    "code_path='/xxx/home/xxx/xxx22p/xxx/projects/shortcut_detection_and_mitigation/scripts/compute_pd.py'\n",
    "ckpt_path='/xxx/home/xxx/xxx22p/xxx/projects/augmentation_by_explanation_eccv22/Output/GithubCovid/covid_512_train/GithubCovid-densenet121-GithubCovid_512-e1-auc0.8559.pt'\n",
    "pkl_path='/xxx/home/xxx/xxx22p/xxx/projects/shortcut_detection_and_mitigation/experiments/medical_expts/github_covid/temp_embs_ep1.pkl'\n",
    "test_csv='/xxx/home/xxx/xxx22p/xxx/projects/shortcut_detection_and_mitigation/experiments/medical_expts/github_covid/github_covid_test.csv'\n",
    "dataset='GithubCovid'\n",
    "imgsize=128\n",
    "num_imgs=460 # number of images to randomly sample from test_csv for computing PD\n",
    "knn_pos_thresh=0.62 #0.62\n",
    "knn_neg_thresh=0.38 #0.38\n",
    "save_path='/xxx/home/xxx/xxx22p/xxx/projects/shortcut_detection_and_mitigation/experiments/medical_expts/github_covid/'\n",
    "save_name='temp_ep1_pd'\n",
    "job_name='temp_ep1_pd'\n",
    "df_path_col='path'\n",
    "cls_name='covid'"
   ]
  },
  {
   "cell_type": "code",
   "execution_count": null,
   "metadata": {
    "scrolled": true
   },
   "outputs": [],
   "source": [
    "run $code_path $ckpt_path $pkl_path $test_csv $save_path $save_name --df_path_col $df_path_col --cls_name $cls_name --knn_pos_thresh $knn_pos_thresh --knn_neg_thresh $knn_neg_thresh --num_imgs $num_imgs --dataset $dataset --img_size $imgsize"
   ]
  },
  {
   "cell_type": "code",
   "execution_count": null,
   "metadata": {},
   "outputs": [],
   "source": []
  },
  {
   "cell_type": "code",
   "execution_count": null,
   "metadata": {},
   "outputs": [],
   "source": []
  },
  {
   "cell_type": "code",
   "execution_count": null,
   "metadata": {},
   "outputs": [],
   "source": []
  },
  {
   "cell_type": "code",
   "execution_count": null,
   "metadata": {},
   "outputs": [],
   "source": []
  },
  {
   "cell_type": "markdown",
   "metadata": {},
   "source": [
    "# Step-4a: Plot PD"
   ]
  },
  {
   "cell_type": "code",
   "execution_count": null,
   "metadata": {},
   "outputs": [],
   "source": [
    "# plot PDs histogram\n",
    "with open('/xxx/home/xxx/xxx22p/xxx/projects/shortcut_detection_and_mitigation/experiments/medical_expts/github_covid/temp_ep1_pd.pkl', 'rb') as handle:\n",
    "    batch_info = pickle.load(handle)\n",
    "\n",
    "batch_info['pd'] = np.array(batch_info['pd'])\n",
    "batch_info['labels'] = np.array(batch_info['labels'])\n",
    "batch_info['preds'] = np.array(batch_info['preds'])\n",
    "\n",
    "pred_cls = (batch_info['preds']>0.5).astype(int)\n",
    "correct_preds_arr = (pred_cls==batch_info['labels'])\n",
    "pos_pd_arr = (batch_info['pd']>=0)\n",
    "\n",
    "plt.figure(figsize=(7,7)) \n",
    "baxes = brokenaxes(xlims=((0,120),(1e+5,100010)), hspace=.05)\n",
    "baxes.set_title(f'Prediction Depths',fontsize=25)\n",
    "baxes.set_ylabel('# of Images',fontsize=25)\n",
    "baxes.set_xlabel('Layer',fontsize=25)  \n",
    "\n",
    "# baxes.set_ylim((0,80))\n",
    "baxes.hist(batch_info['pd'][correct_preds_arr & pos_pd_arr],bins=30,color='g',alpha=0.55)\n",
    "baxes.hist(batch_info['pd'][~correct_preds_arr & pos_pd_arr],bins=30,color='r',alpha=0.55)\n",
    "batch_info['pd'][~pos_pd_arr] = 100005\n",
    "baxes.hist(batch_info['pd'][~pos_pd_arr],bins=1,color='b',alpha=0.55)"
   ]
  },
  {
   "cell_type": "code",
   "execution_count": null,
   "metadata": {},
   "outputs": [],
   "source": [
    "mask_arr = (batch_info['pd']==4) & (batch_info['labels']==1) & correct_preds_arr\n",
    "#  & (batch_info['labels']==1)\n",
    "batch_info['paths'] = np.array(batch_info['paths'])\n",
    "img_paths = list(batch_info['paths'][mask_arr])\n",
    "len(img_paths)"
   ]
  },
  {
   "cell_type": "code",
   "execution_count": null,
   "metadata": {},
   "outputs": [],
   "source": [
    "plt.hist(batch_info['pd'][(batch_info['labels']==1)&pos_pd_arr])"
   ]
  },
  {
   "cell_type": "code",
   "execution_count": null,
   "metadata": {
    "scrolled": true
   },
   "outputs": [],
   "source": [
    "batch_info['pd'][(batch_info['labels']==1)&pos_pd_arr]"
   ]
  },
  {
   "cell_type": "markdown",
   "metadata": {},
   "source": [
    "# Step-4b: Viz Peaks"
   ]
  },
  {
   "cell_type": "code",
   "execution_count": null,
   "metadata": {},
   "outputs": [],
   "source": [
    "# user hyperparams\n",
    "viz_pd = 4 # which layer to viz (although images may have different pd)\n",
    "dataset_name = 'github_covid'\n",
    "imgsize = 512\n",
    "embs_path = '/xxx/home/xxx/xxx22p/xxx/projects/shortcut_detection_and_mitigation/experiments/medical_expts/github_covid/temp_embs_ep1.pkl'\n",
    "ckpt_path = '/xxx/home/xxx/xxx22p/xxx/projects/augmentation_by_explanation_eccv22/Output/GithubCovid/covid_512_train/GithubCovid-densenet121-GithubCovid_512-e1-auc0.8559.pt'\n",
    "# img_paths from previous step"
   ]
  },
  {
   "cell_type": "code",
   "execution_count": null,
   "metadata": {},
   "outputs": [],
   "source": []
  },
  {
   "cell_type": "code",
   "execution_count": null,
   "metadata": {},
   "outputs": [],
   "source": []
  },
  {
   "cell_type": "code",
   "execution_count": null,
   "metadata": {},
   "outputs": [],
   "source": [
    "class center_crop(object):\n",
    "    def crop_center(self, img):\n",
    "        _, y, x = img.shape\n",
    "        crop_size = np.min([y,x])\n",
    "        startx = x // 2 - (crop_size // 2)\n",
    "        starty = y // 2 - (crop_size // 2)\n",
    "        return img[:, starty:starty + crop_size, startx:startx + crop_size]\n",
    "    \n",
    "    def __call__(self, img):\n",
    "        return self.crop_center(img)\n",
    "\n",
    "class normalize(object):\n",
    "    def normalize_(self, img, maxval=255):\n",
    "        img = (img)/(maxval)\n",
    "        return img\n",
    "    \n",
    "    def __call__(self, img):\n",
    "        return self.normalize_(img)\n",
    "    \n",
    "# takes in a list of img paths and plots grid of images\n",
    "def plot_images(img_list, rows, cols, grayscale=False, titles=None):\n",
    "    plt.figure(figsize=(7.5*cols,7.5*rows))\n",
    "    for i in range(rows*cols):\n",
    "        plt.subplot(rows,cols,i+1)\n",
    "        if type(img_list[0])==str:\n",
    "            img = plt.imread(img_list[i])\n",
    "        else:\n",
    "            img = img_list[i]\n",
    "        if grayscale:\n",
    "            img = torch.tensor(img)\n",
    "            img = img.unsqueeze(-1)\n",
    "            img = torch.cat([img,img,img],-1)\n",
    "        plt.imshow(img)\n",
    "        if titles is not None:\n",
    "            plt.title(titles[i])\n",
    "    plt.show()"
   ]
  },
  {
   "cell_type": "code",
   "execution_count": null,
   "metadata": {},
   "outputs": [],
   "source": [
    "if (dataset_name=='mimic')or(dataset_name=='chex')or(dataset_name=='nih')or(dataset_name=='chex_mimic'):\n",
    "    transforms = torchvision.transforms.Compose([\n",
    "        #torchvision.transforms.ToPILImage(),\n",
    "        torchvision.transforms.Resize((imgsize,imgsize)),\n",
    "        torchvision.transforms.ToTensor(),\n",
    "        torchvision.transforms.Lambda(center_crop()),\n",
    "        torchvision.transforms.Lambda(normalize())\n",
    "    ])\n",
    "elif dataset_name=='github_covid':\n",
    "    transforms = torchvision.transforms.Compose([\n",
    "        torchvision.transforms.Resize((args.img_size,args.img_size)),\n",
    "        torchvision.transforms.Grayscale(num_output_channels=1),\n",
    "        torchvision.transforms.ToTensor(),\n",
    "        torchvision.transforms.Lambda(center_crop()),\n",
    "        torchvision.transforms.Lambda(normalize())\n",
    "    ])\n",
    "elif dataset_name=='ham':\n",
    "    transforms = torchvision.transforms.Compose([\n",
    "        torchvision.transforms.ToPILImage(),\\\n",
    "        torchvision.transforms.Resize((imgsize,imgsize)), \n",
    "        torchvision.transforms.RandomHorizontalFlip(p=0.5),\n",
    "        torchvision.transforms.RandomVerticalFlip(p=0.5),\n",
    "        torchvision.transforms.ToTensor()\n",
    "    ])"
   ]
  },
  {
   "cell_type": "code",
   "execution_count": null,
   "metadata": {},
   "outputs": [],
   "source": [
    "# GradCAM on intermediate soft-KNN outputs\n",
    "\n",
    "# load model\n",
    "model = models.customDenseNet(embs_path, viz_pd, num_classes=1, in_channels=1, drop_rate=0.0,**models.get_densenet_params('densenet121')) \n",
    "model.load_state_dict(torch.load(ckpt_path).state_dict())\n",
    "model.eval()"
   ]
  },
  {
   "cell_type": "code",
   "execution_count": null,
   "metadata": {
    "scrolled": true
   },
   "outputs": [],
   "source": [
    "for img_id,img_path in enumerate(img_paths):\n",
    "    with Image.open(img_path) as img:\n",
    "        img = transforms(img).unsqueeze(0).to('cuda')\n",
    "        if img.shape[1]==4:\n",
    "            img = img[:,0,:,:].unsqueeze(0)\n",
    "\n",
    "        # gradCAM code\n",
    "        targets = [ClassifierOutputTarget(0)]\n",
    "        if viz_pd/4>=1 and viz_pd/4<=3:\n",
    "            denselayer = int(1 + 2*(viz_pd/4-1))\n",
    "            target_layers = [model.features.denseblock1[denselayer-1]]\n",
    "\n",
    "        elif viz_pd/4>=4 and viz_pd/4<=9:\n",
    "            denselayer = int(1 + 2*(viz_pd/4-4))\n",
    "            target_layers = [model.features.denseblock2[denselayer-1]]\n",
    "\n",
    "        elif viz_pd/4>=10 and viz_pd/4<=21:\n",
    "            denselayer = int(1 + 2*(viz_pd/4-10))\n",
    "            target_layers = [model.features.denseblock3[denselayer-1]]\n",
    "\n",
    "        else:\n",
    "            denselayer = int(1 + 2*(viz_pd/4-22))\n",
    "            target_layers = [model.features.denseblock4[denselayer-1]]\n",
    "\n",
    "        cam = GradCAM(model=model, target_layers=target_layers, use_cuda=True)\n",
    "        grayscale_cams = cam(input_tensor=img, targets=targets, aug_smooth=False, eigen_smooth=True)\n",
    "        img = img.squeeze().unsqueeze(-1)\n",
    "        img = torch.cat((img,img,img),dim=2).detach().cpu()\n",
    "#         cam_op = show_cam_on_image(np.array(img), grayscale_cams[0]*0.1, use_rgb=True)\n",
    "#         cam_op = show_cam_on_image(np.array(img)*200, (grayscale_cams[0]>0.5).astype(float)*0.7, use_rgb=True)\n",
    "        cam_op = show_cam_on_image(np.array(img)*200, grayscale_cams[0]*0.7, use_rgb=True)\n",
    "\n",
    "        img_list = []\n",
    "        img_list.append(img*255)\n",
    "        img_list.append(grayscale_cams[0])\n",
    "        img_list.append((grayscale_cams[0]>0.8).astype(float))\n",
    "        img_list.append(cam_op)\n",
    "\n",
    "        # plot results\n",
    "        plot_images(img_list,rows=1,cols=4,titles=[f'Img-id{img_id}','Heatmap','Thresholded Heatmap','Overlay'])\n",
    "#         if img_id==4:\n",
    "#             break"
   ]
  },
  {
   "cell_type": "code",
   "execution_count": null,
   "metadata": {},
   "outputs": [],
   "source": [
    "model(img[:,:,0].unsqueeze(0).unsqueeze(0).to('cuda'))"
   ]
  },
  {
   "cell_type": "code",
   "execution_count": null,
   "metadata": {},
   "outputs": [],
   "source": [
    "x = (img[:,:,0]*255).cpu()\n",
    "x[:50,-50:] = 0\n",
    "y = torch.tensor(cam_op[:,:,2])\n",
    "# mask = ((255-y)>200).float()*255\n",
    "img2 = x\n",
    "img2 = img2.unsqueeze(-1)\n",
    "img2 = torch.cat((img2,img2,img2),dim=2)\n",
    "plt.imshow(img2.cpu())"
   ]
  },
  {
   "cell_type": "code",
   "execution_count": null,
   "metadata": {},
   "outputs": [],
   "source": [
    "model(img2[:,:,0].unsqueeze(0).unsqueeze(0).to('cuda'))"
   ]
  },
  {
   "cell_type": "markdown",
   "metadata": {},
   "source": [
    "### Save figs to folder"
   ]
  },
  {
   "cell_type": "code",
   "execution_count": null,
   "metadata": {},
   "outputs": [],
   "source": [
    "img_path = img_paths[45]\n",
    "with Image.open(img_path) as img:\n",
    "        img = transforms(img).unsqueeze(0).to('cuda')\n",
    "        if img.shape[1]==4:\n",
    "            img = img[:,0,:,:].unsqueeze(0)\n",
    "\n",
    "        # gradCAM code\n",
    "        targets = [ClassifierOutputTarget(0)]\n",
    "        if viz_pd/4>=1 and viz_pd/4<=3:\n",
    "            denselayer = int(1 + 2*(viz_pd/4-1))\n",
    "            target_layers = [model.features.denseblock1[denselayer-1]]\n",
    "\n",
    "        elif viz_pd/4>=4 and viz_pd/4<=9:\n",
    "            denselayer = int(1 + 2*(viz_pd/4-4))\n",
    "            target_layers = [model.features.denseblock2[denselayer-1]]\n",
    "\n",
    "        elif viz_pd/4>=10 and viz_pd/4<=21:\n",
    "            denselayer = int(1 + 2*(viz_pd/4-10))\n",
    "            target_layers = [model.features.denseblock3[denselayer-1]]\n",
    "\n",
    "        else:\n",
    "            denselayer = int(1 + 2*(viz_pd/4-22))\n",
    "            target_layers = [model.features.denseblock4[denselayer-1]]\n",
    "\n",
    "        cam = GradCAM(model=model, target_layers=target_layers, use_cuda=True)\n",
    "        grayscale_cams = cam(input_tensor=img, targets=targets, aug_smooth=False, eigen_smooth=True)\n",
    "        img = img.squeeze().unsqueeze(-1)\n",
    "        img = torch.cat((img,img,img),dim=2).detach().cpu()\n",
    "#         cam_op = show_cam_on_image(np.array(img), grayscale_cams[0]*0.1, use_rgb=True)\n",
    "#         cam_op = show_cam_on_image(np.array(img)*200, (grayscale_cams[0]>0.5).astype(float)*0.7, use_rgb=True)\n",
    "        cam_op = show_cam_on_image(np.array(img)*200, grayscale_cams[0]*0.7, use_rgb=True)\n",
    "\n",
    "#         img_list = []\n",
    "#         img_list.append(img*255)\n",
    "#         img_list.append(grayscale_cams[0])\n",
    "#         img_list.append((grayscale_cams[0]>0.8).astype(float))\n",
    "#         img_list.append(cam_op)\n",
    "\n",
    "#         # plot results\n",
    "#         plot_images(img_list,rows=1,cols=4,titles=['Original Img','Heatmap','Thresholded Heatmap','Overlay'])"
   ]
  },
  {
   "cell_type": "code",
   "execution_count": null,
   "metadata": {},
   "outputs": [],
   "source": [
    "plt.axis('off') \n",
    "plt.imshow(cam_op)\n",
    "plt.imsave('/xxx/home/xxx/xxx22p/xxx/projects/shortcut_detection_and_mitigation/experiments/paper_quality_plots/results/github_covid2b.svg',cam_op)"
   ]
  },
  {
   "cell_type": "code",
   "execution_count": null,
   "metadata": {},
   "outputs": [],
   "source": [
    "plt.axis('off') \n",
    "plt.imshow(img*255)\n",
    "plt.imsave('/xxx/home/xxx/xxx22p/xxx/projects/shortcut_detection_and_mitigation/experiments/paper_quality_plots/results/github_covid2a.svg',img*255)"
   ]
  },
  {
   "cell_type": "code",
   "execution_count": null,
   "metadata": {},
   "outputs": [],
   "source": []
  },
  {
   "cell_type": "code",
   "execution_count": null,
   "metadata": {},
   "outputs": [],
   "source": []
  },
  {
   "cell_type": "markdown",
   "metadata": {},
   "source": [
    "# Step-4c: Run Tube Detector on Peaks of Interest"
   ]
  },
  {
   "cell_type": "code",
   "execution_count": null,
   "metadata": {
    "scrolled": true
   },
   "outputs": [],
   "source": [
    "for label in [1,0]:\n",
    "    for peak in np.arange(4,120,4):\n",
    "        tube_detector_path = '/xxx/home/xxx/xxx22p/xxx/projects/augmentation_by_explanation_eccv22/Output/MIMIC-CXR/tube_detector/MIMIC-CXR-densenet121-MIMIC-CXR_512-best-auc0.8580.pt'  # MIMIC tube detector\n",
    "        pkl_file = '/xxx/home/xxx/xxx22p/xxx/projects/shortcut_detection_and_mitigation/experiments/medical_expts/nih/512/nih_test_pd.pkl'  # pd analysis pkl file\n",
    "\n",
    "        # process pickle file\n",
    "        with open(pkl_file, 'rb') as handle:\n",
    "            batch_info = pickle.load(handle)\n",
    "\n",
    "        batch_info['pd'] = np.array(batch_info['pd'])\n",
    "        batch_info['labels'] = np.array(batch_info['labels'])\n",
    "        batch_info['paths'] = np.array(batch_info['paths'])\n",
    "        pred_cls = (np.array(batch_info['preds'])>0.5).astype(int)\n",
    "\n",
    "        crit1 = (pred_cls==batch_info['labels'])\n",
    "        crit2 = (batch_info['pd']==peak) # 88,100,108\n",
    "        crit3 = (batch_info['labels']==label)\n",
    "\n",
    "        img_list = batch_info['paths'][crit1 & crit2 & crit3].tolist()\n",
    "\n",
    "        # load model\n",
    "        model = torch.load(tube_detector_path).to('cuda')\n",
    "\n",
    "\n",
    "        # --------------------- Class Definitions ---------------------\n",
    "\n",
    "        class center_crop(object):\n",
    "            def crop_center(self, img):\n",
    "                _, y, x = img.shape\n",
    "                crop_size = np.min([y,x])\n",
    "                startx = x // 2 - (crop_size // 2)\n",
    "                starty = y // 2 - (crop_size // 2)\n",
    "                return img[:, starty:starty + crop_size, startx:startx + crop_size]\n",
    "\n",
    "            def __call__(self, img):\n",
    "                return self.crop_center(img)\n",
    "\n",
    "        class normalize(object):\n",
    "            def normalize_(self, img, maxval=255):\n",
    "                img = (img)/(maxval)\n",
    "                return img\n",
    "\n",
    "            def __call__(self, img):\n",
    "                return self.normalize_(img)\n",
    "\n",
    "        # transforms for NIH\n",
    "        transforms = torchvision.transforms.Compose([\n",
    "            torchvision.transforms.Resize((128,128)),\n",
    "            torchvision.transforms.ToTensor(),\n",
    "            torchvision.transforms.Lambda(center_crop()),\n",
    "            torchvision.transforms.Lambda(normalize())\n",
    "        ])\n",
    "\n",
    "        # loop over chosen set of images and compute model preds\n",
    "        preds = []\n",
    "        for img_path in tqdm(img_list):\n",
    "            with Image.open(img_path) as img:\n",
    "                with torch.no_grad():\n",
    "                    img = transforms(img).unsqueeze(0).to('cuda')\n",
    "                    if img.shape[1]==4:\n",
    "                        img = img[:,0,:,:].unsqueeze(0)\n",
    "                    out = float(torch.sigmoid(model(img)).squeeze())\n",
    "                    preds.append(out)\n",
    "\n",
    "        plt.hist(preds,bins=30)\n",
    "        plt.title(f'Tube Distribution (PD={peak}, Label={label})')\n",
    "        plt.show()"
   ]
  },
  {
   "cell_type": "code",
   "execution_count": null,
   "metadata": {},
   "outputs": [],
   "source": []
  },
  {
   "cell_type": "code",
   "execution_count": null,
   "metadata": {},
   "outputs": [],
   "source": []
  },
  {
   "cell_type": "code",
   "execution_count": null,
   "metadata": {},
   "outputs": [],
   "source": []
  },
  {
   "cell_type": "code",
   "execution_count": null,
   "metadata": {},
   "outputs": [],
   "source": []
  },
  {
   "cell_type": "code",
   "execution_count": null,
   "metadata": {},
   "outputs": [],
   "source": []
  },
  {
   "cell_type": "code",
   "execution_count": null,
   "metadata": {},
   "outputs": [],
   "source": []
  },
  {
   "cell_type": "code",
   "execution_count": null,
   "metadata": {},
   "outputs": [],
   "source": []
  },
  {
   "cell_type": "markdown",
   "metadata": {},
   "source": [
    "# Data Sampling"
   ]
  },
  {
   "cell_type": "code",
   "execution_count": null,
   "metadata": {},
   "outputs": [],
   "source": [
    "csv_chex = '/xxx/home/xxx/xxx22p/xxx/projects/shortcut_detection_and_mitigation/data/chexpert/chex_train.csv'\n",
    "csv_mimic = '/xxx/home/xxx/xxx22p/xxx/projects/shortcut_detection_and_mitigation/data/mimic/full/train.csv'\n",
    "\n",
    "df_chex = pd.read_csv(csv_chex)\n",
    "df_mimic = pd.read_csv(csv_mimic)\n",
    "df_final = pd.DataFrame()\n",
    "\n",
    "df_mimic['Pneumonia'] = df_mimic['pneumonia']\n",
    "df_chex['path'] = df_chex['Path'].apply(lambda x: f'/ocean/projects/xxx22p/shared/Data/chestXRayDatasets/StanfordCheXpert/{x}')"
   ]
  },
  {
   "cell_type": "code",
   "execution_count": null,
   "metadata": {},
   "outputs": [],
   "source": [
    "len(df_chex[df_chex['Pneumonia']==0]), len(df_chex[df_chex['Pneumonia']==1])"
   ]
  },
  {
   "cell_type": "code",
   "execution_count": null,
   "metadata": {},
   "outputs": [],
   "source": [
    "len(df_mimic[df_mimic['pneumonia']==0]), len(df_mimic[df_mimic['pneumonia']==1])"
   ]
  },
  {
   "cell_type": "code",
   "execution_count": null,
   "metadata": {},
   "outputs": [],
   "source": [
    "df_chex0 = df_chex[df_chex['Pneumonia']==0][['Pneumonia','path']].sample(frac=1)\n",
    "df_chex1 = df_chex[df_chex['Pneumonia']==1][['Pneumonia','path']].sample(frac=1)\n",
    "df_mimic0 = df_mimic[df_mimic['Pneumonia']==0][['Pneumonia','path']].sample(frac=1)\n",
    "df_mimic1 = df_mimic[df_mimic['Pneumonia']==1][['Pneumonia','path']].sample(frac=1)\n",
    "\n",
    "# df3_train = pd.concat([df1_train,df2_train])\n",
    "# df3_train['val_train_split'] = 1\n",
    "\n",
    "# df3_val = pd.concat([df1_val,df2_val])\n",
    "# df3_val['val_train_split'] = 0\n",
    "\n",
    "# df_final = pd.concat([df3_train,df3_val]).sample(frac=1)\n",
    "# df_final['all_zeros'] = 0"
   ]
  },
  {
   "cell_type": "code",
   "execution_count": null,
   "metadata": {},
   "outputs": [],
   "source": [
    "num_samples = int((1/9)*len(df_chex0))\n",
    "df_mimic0 = df_mimic0.sample(n=num_samples)\n",
    "df0 = pd.concat([df_chex0,df_mimic0])\n",
    "\n",
    "num_samples = int((1/9)*len(df_mimic1))\n",
    "df_chex1 = df_chex1.sample(n=num_samples)\n",
    "df1 = pd.concat([df_chex1,df_mimic1])\n",
    "\n",
    "df_final = pd.concat([df0,df1]).sample(frac=1)"
   ]
  },
  {
   "cell_type": "code",
   "execution_count": null,
   "metadata": {},
   "outputs": [],
   "source": [
    "num_val = int(0.1*len(df_final))\n",
    "df_final['all_zeros'] = 0\n",
    "df_final['val_train_split'] = 1\n",
    "df_final['val_train_split'][:num_val] = 2\n",
    "df_final['val_train_split'][num_val:2*num_val] = 0\n",
    "\n",
    "df_final['test_split'] = 1\n",
    "df_final['test_split'][:num_val] = 0"
   ]
  },
  {
   "cell_type": "code",
   "execution_count": null,
   "metadata": {},
   "outputs": [],
   "source": [
    "# df_final.to_csv('/xxx/home/xxx/xxx22p/xxx/projects/shortcut_detection_and_mitigation/experiments/medical_expts/chex_mimic/chex_mimic_90perc.csv',index=False)"
   ]
  },
  {
   "cell_type": "code",
   "execution_count": null,
   "metadata": {},
   "outputs": [],
   "source": []
  },
  {
   "cell_type": "code",
   "execution_count": null,
   "metadata": {},
   "outputs": [],
   "source": []
  },
  {
   "cell_type": "code",
   "execution_count": null,
   "metadata": {},
   "outputs": [],
   "source": []
  },
  {
   "cell_type": "code",
   "execution_count": null,
   "metadata": {},
   "outputs": [],
   "source": []
  },
  {
   "cell_type": "code",
   "execution_count": null,
   "metadata": {},
   "outputs": [],
   "source": []
  },
  {
   "cell_type": "code",
   "execution_count": null,
   "metadata": {},
   "outputs": [],
   "source": [
    "# create train subset for train embeddings\n",
    "df = pd.read_csv('/xxx/home/xxx/xxx22p/xxx/projects/shortcut_detection_and_mitigation/data/chex_mimic/chex_mimic.csv')\n",
    "df = df[df['val_train_split']==1]\n",
    "df1 = df[df['Pneumonia']==1].sample(1500)\n",
    "df0 = df[df['Pneumonia']==0].sample(1500)\n",
    "# pd.concat([df0,df1]).sample(frac=1).to_csv('',index=False)"
   ]
  },
  {
   "cell_type": "code",
   "execution_count": null,
   "metadata": {},
   "outputs": [],
   "source": []
  },
  {
   "cell_type": "code",
   "execution_count": null,
   "metadata": {},
   "outputs": [],
   "source": []
  },
  {
   "cell_type": "markdown",
   "metadata": {},
   "source": [
    "# Explore Chex-MIMIC images"
   ]
  },
  {
   "cell_type": "code",
   "execution_count": null,
   "metadata": {
    "scrolled": true
   },
   "outputs": [],
   "source": [
    "df_chex = pd.read_csv('/xxx/home/xxx/xxx22p/xxx/projects/shortcut_detection_and_mitigation/experiments/medical_expts/chex/pneumonia/chex_subset.csv')\n",
    "mask1 = (df_chex['Frontal/Lateral']=='Frontal')\n",
    "mask2 = (df_chex['AP/PA']=='PA')\n",
    "mask3 = (df_chex['Sex']=='Male')\n",
    "mask4 = (df_chex['Pneumonia']==0)\n",
    "df_chex = df_chex[mask1&mask2&mask3].sample(frac=1)\n",
    "img_paths = list(df_chex['path'])\n",
    "plot_images(img_paths,10,5,grayscale=True)"
   ]
  },
  {
   "cell_type": "code",
   "execution_count": null,
   "metadata": {},
   "outputs": [],
   "source": [
    "imgs = torch.empty((320,320,0))\n",
    "for path in img_paths:\n",
    "    img = plt.imread(path)\n",
    "    if img.shape==(320,320):\n",
    "        img = torch.tensor(img)\n",
    "        imgs = torch.cat((imgs,img.unsqueeze(-1)),-1)\n",
    "mean_img = torch.mean(imgs,-1).unsqueeze(-1)\n",
    "mean_img = torch.cat((mean_img,mean_img,mean_img),-1)/255\n",
    "print('Chexpert Mean Image: ')\n",
    "print(f'num of images: {imgs.shape[-1]}')\n",
    "plt.imshow(mean_img)\n",
    "mean_img_chex = mean_img"
   ]
  },
  {
   "cell_type": "code",
   "execution_count": null,
   "metadata": {
    "scrolled": true
   },
   "outputs": [],
   "source": [
    "df_mimic = pd.read_csv('/xxx/home/xxx/xxx22p/xxx/projects/shortcut_detection_and_mitigation/experiments/medical_expts/mimic/mimic_subset.csv')\n",
    "mask1 = (df_mimic['ViewPosition']=='PA')\n",
    "df_mimic = df_mimic[mask1].sample(frac=1)\n",
    "img_paths = list(df_mimic['path'][:300])\n",
    "plot_images(img_paths,10,5,grayscale=True)"
   ]
  },
  {
   "cell_type": "code",
   "execution_count": null,
   "metadata": {},
   "outputs": [],
   "source": [
    "imgs = torch.empty((3056,2544,0))\n",
    "for path in img_paths:\n",
    "    img = plt.imread(path)\n",
    "    if img.shape==(3056,2544):\n",
    "        img = torch.tensor(img)\n",
    "        imgs = torch.cat((imgs,img.unsqueeze(-1)),-1)\n",
    "mean_img = torch.mean(imgs,-1).unsqueeze(-1)\n",
    "mean_img = torch.cat((mean_img,mean_img,mean_img),-1)/255.0\n",
    "print('Chexpert Mean Image: ')\n",
    "print(f'num of images: {imgs.shape[-1]}')\n",
    "plt.imshow(mean_img)\n",
    "mean_img_mimic = mean_img"
   ]
  },
  {
   "cell_type": "code",
   "execution_count": null,
   "metadata": {},
   "outputs": [],
   "source": []
  },
  {
   "cell_type": "code",
   "execution_count": null,
   "metadata": {},
   "outputs": [],
   "source": []
  },
  {
   "cell_type": "code",
   "execution_count": null,
   "metadata": {},
   "outputs": [],
   "source": []
  },
  {
   "cell_type": "code",
   "execution_count": null,
   "metadata": {},
   "outputs": [],
   "source": []
  },
  {
   "cell_type": "code",
   "execution_count": null,
   "metadata": {},
   "outputs": [],
   "source": []
  },
  {
   "cell_type": "code",
   "execution_count": null,
   "metadata": {},
   "outputs": [],
   "source": []
  },
  {
   "cell_type": "code",
   "execution_count": 3,
   "metadata": {},
   "outputs": [
    {
     "name": "stdout",
     "output_type": "stream",
     "text": [
      "Sun Sep 25 21:17:34 2022       \r\n",
      "+-----------------------------------------------------------------------------+\r\n",
      "| NVIDIA-SMI 470.57.02    Driver Version: 470.57.02    CUDA Version: 11.4     |\r\n",
      "|-------------------------------+----------------------+----------------------+\r\n",
      "| GPU  Name        Persistence-M| Bus-Id        Disp.A | Volatile Uncorr. ECC |\r\n",
      "| Fan  Temp  Perf  Pwr:Usage/Cap|         Memory-Usage | GPU-Util  Compute M. |\r\n",
      "|                               |                      |               MIG M. |\r\n",
      "|===============================+======================+======================|\r\n",
      "|   0  Quadro RTX 5000     On   | 00000000:E1:00.0 Off |                  Off |\r\n",
      "| 33%   23C    P8    25W / 230W |   5762MiB / 16125MiB |      0%      Default |\r\n",
      "|                               |                      |                  N/A |\r\n",
      "+-------------------------------+----------------------+----------------------+\r\n",
      "                                                                               \r\n",
      "+-----------------------------------------------------------------------------+\r\n",
      "| Processes:                                                                  |\r\n",
      "|  GPU   GI   CI        PID   Type   Process name                  GPU Memory |\r\n",
      "|        ID   ID                                                   Usage      |\r\n",
      "|=============================================================================|\r\n",
      "|    0   N/A  N/A     58355      C   ...conda3/envs/pl/bin/python     5759MiB |\r\n",
      "+-----------------------------------------------------------------------------+\r\n"
     ]
    }
   ],
   "source": [
    "!nvidia-smi"
   ]
  },
  {
   "cell_type": "markdown",
   "metadata": {},
   "source": [
    "# Compute PVI NIH "
   ]
  },
  {
   "cell_type": "code",
   "execution_count": 154,
   "metadata": {},
   "outputs": [],
   "source": [
    "'''\n",
    "/xxx/home/xxx/xxx22p/xxx/projects/shortcut_detection_and_mitigation/data/nih/pd_analysis/imgsize_128/nih_shortcut/nih_shortcut_l1_pos_notube_v3.pkl\n",
    "/xxx/home/xxx/xxx22p/xxx/projects/shortcut_detection_and_mitigation/data/nih/pd_analysis/imgsize_128/nih_shortcut/nih_shortcut_l1_pos_tube_v3.pkl\n",
    "/xxx/home/xxx/xxx22p/xxx/projects/shortcut_detection_and_mitigation/experiments/toy_expts/output/batch1/vgg16_kmnist_27437.pkl\n",
    "/xxx/home/xxx/xxx22p/xxx/projects/shortcut_detection_and_mitigation/experiments/toy_expts/output/batch1/vgg16_kmnist_patch_48316.pkl\n",
    "'''\n",
    "# plot PDs histogram\n",
    "with open('/xxx/home/xxx/xxx22p/xxx/projects/shortcut_detection_and_mitigation/data/nih/pd_analysis/imgsize_128/nih_shortcut/nih_shortcut_l1_pos_notube_v3.pkl', 'rb') as handle:\n",
    "    batch_info = pickle.load(handle)"
   ]
  },
  {
   "cell_type": "code",
   "execution_count": 155,
   "metadata": {},
   "outputs": [],
   "source": [
    "batch_info['pd'] = np.array(batch_info['pd'])\n",
    "batch_info['labels'] = np.array(batch_info['labels'])\n",
    "batch_info['preds'] = np.array(batch_info['preds'])\n",
    "pred_cls = (batch_info['preds']>0.5).astype(int)\n",
    "correct_preds_arr = (pred_cls==batch_info['labels'])\n",
    "pos_pd_arr = (batch_info['pd']>=0)\n",
    "\n",
    "# batch_info['preds'][batch_info['preds']<0.5] = 1-batch_info['preds'][batch_info['preds']<0.5]\n",
    "batch_info['pvi'] = np.log2(batch_info['preds']+1e-10)"
   ]
  },
  {
   "cell_type": "code",
   "execution_count": 153,
   "metadata": {},
   "outputs": [
    {
     "data": {
      "text/plain": [
       "array([0.99, 0.95, 0.9 , 0.86, 0.96, 0.89, 0.89, 0.97, 0.99, 0.98, 0.98,\n",
       "       0.94, 0.61, 0.96, 0.87, 0.99, 0.84, 0.53, 0.99, 0.95, 0.66, 0.89,\n",
       "       0.53, 0.85, 0.84, 0.51, 0.9 , 0.57, 0.94, 0.58, 0.94, 0.91, 0.89,\n",
       "       0.95, 0.92, 0.94, 0.56, 0.99, 0.94, 0.99, 0.84, 0.93, 0.95, 0.6 ,\n",
       "       0.96, 0.92, 1.  , 0.87, 0.94, 0.95, 0.77, 0.85, 0.92, 0.86])"
      ]
     },
     "execution_count": 153,
     "metadata": {},
     "output_type": "execute_result"
    }
   ],
   "source": [
    "batch_info['preds'][mask]"
   ]
  },
  {
   "cell_type": "code",
   "execution_count": 156,
   "metadata": {},
   "outputs": [
    {
     "data": {
      "text/plain": [
       "array([0.99, 0.95, 0.9 , 0.86, 0.96, 0.89, 0.89, 0.97, 0.99, 0.98, 0.98,\n",
       "       0.94, 0.61, 0.96, 0.87, 0.99, 0.84, 0.53, 0.99, 0.95, 0.66, 0.89,\n",
       "       0.53, 0.85, 0.84, 0.51, 0.9 , 0.57, 0.94, 0.58, 0.94, 0.91, 0.89,\n",
       "       0.95, 0.92, 0.94, 0.56, 0.99, 0.94, 0.99, 0.84, 0.93, 0.95, 0.6 ,\n",
       "       0.96, 0.92, 1.  , 0.87, 0.94, 0.95, 0.77, 0.85, 0.92, 0.86])"
      ]
     },
     "execution_count": 156,
     "metadata": {},
     "output_type": "execute_result"
    }
   ],
   "source": [
    "batch_info['preds'][mask]"
   ]
  },
  {
   "cell_type": "code",
   "execution_count": 157,
   "metadata": {},
   "outputs": [
    {
     "data": {
      "text/plain": [
       "array([0.03, 0.99, 0.95, 0.  , 0.  , 0.9 , 0.47, 0.02, 0.06, 0.09, 0.2 ,\n",
       "       0.27, 0.06, 0.  , 0.09, 0.12, 0.86, 0.48, 0.96, 0.8 , 0.01, 0.01,\n",
       "       0.11, 0.35, 0.76, 0.  , 0.89, 0.42, 0.89, 0.97, 0.01, 0.  , 0.99,\n",
       "       0.2 , 0.  , 0.48, 0.98, 0.98, 0.76, 0.  , 0.21, 0.27, 0.94, 0.61,\n",
       "       0.96, 0.17, 0.65, 0.03, 0.87, 0.38, 0.  , 0.01, 0.09, 0.15, 0.99,\n",
       "       0.85, 0.83, 0.01, 0.  , 0.09, 0.84, 0.24, 0.53, 0.99, 0.95, 0.04,\n",
       "       0.  , 0.15, 0.19, 0.66, 0.89, 0.06, 0.7 , 0.03, 0.53, 0.26, 0.05,\n",
       "       0.  , 0.85, 0.27, 0.  , 0.84, 0.51, 0.9 , 0.83, 0.17, 0.38, 0.57,\n",
       "       0.  , 0.94, 0.03, 0.58, 0.94, 0.07, 0.01, 0.  , 0.13, 0.91, 0.89,\n",
       "       0.01, 0.07, 0.95, 0.92, 0.3 , 0.8 , 0.  , 0.78, 0.94, 0.56, 0.99,\n",
       "       0.78, 0.94, 0.99, 0.84, 0.07, 0.93, 0.95, 0.11, 0.  , 0.6 , 0.96,\n",
       "       0.  , 0.16, 0.  , 0.  , 0.92, 0.  , 1.  , 0.14, 0.87, 0.62, 0.15,\n",
       "       0.  , 0.94, 0.  , 0.  , 0.  , 0.31, 0.28, 0.01, 0.95, 0.67, 0.77,\n",
       "       0.17, 0.85, 0.92, 0.56, 0.77, 0.55, 0.86])"
      ]
     },
     "execution_count": 157,
     "metadata": {},
     "output_type": "execute_result"
    }
   ],
   "source": [
    "batch_info['preds']"
   ]
  },
  {
   "cell_type": "code",
   "execution_count": 147,
   "metadata": {},
   "outputs": [
    {
     "name": "stdout",
     "output_type": "stream",
     "text": [
      "pd_mean=75.33333333333333, neg_pvi_mean=0.23284215723250165\n"
     ]
    }
   ],
   "source": [
    "mask = pos_pd_arr & correct_preds_arr & (batch_info['pd']<150)\n",
    "pd_mean = np.mean(batch_info['pd'][mask])\n",
    "neg_pvi_mean = np.mean(-batch_info['pvi'][mask])\n",
    "print(f'pd_mean={pd_mean}, neg_pvi_mean={neg_pvi_mean}')"
   ]
  },
  {
   "cell_type": "code",
   "execution_count": 148,
   "metadata": {},
   "outputs": [
    {
     "data": {
      "text/plain": [
       "[<matplotlib.collections.LineCollection at 0x14d333a57460>,\n",
       " <matplotlib.collections.LineCollection at 0x14d333a29ca0>]"
      ]
     },
     "execution_count": 148,
     "metadata": {},
     "output_type": "execute_result"
    },
    {
     "data": {
      "image/png": "[encoded data removed]",
      "text/plain": [
       "<Figure size 504x504 with 3 Axes>"
      ]
     },
     "metadata": {},
     "output_type": "display_data"
    }
   ],
   "source": [
    "plt.figure(figsize=(7,7)) \n",
    "\n",
    "baxes = brokenaxes(xlims=((0,120),(100004,100010)), hspace=.05)\n",
    "baxes.set_title(f'PD Plot (Pneum w/ tubes)',fontsize=20)\n",
    "baxes.set_ylabel('# of Images',fontsize=18)\n",
    "baxes.set_xlabel('Layer',fontsize=18)  \n",
    "baxes.tick_params(axis='x', which='major', labelsize=13)\n",
    "baxes.tick_params(axis='y', which='major', labelsize=13)\n",
    "\n",
    "# baxes.set_ylim((0,80))\n",
    "baxes.hist(batch_info['pd'][mask],bins=25,color='b',alpha=0.55)\n",
    "# baxes.hist(batch_info['pd'][~correct_preds_arr & pos_pd_arr],bins=30,color='b',alpha=0.55)\n",
    "batch_info['pd'][~pos_pd_arr] = 100005\n",
    "baxes.hist(batch_info['pd'][~pos_pd_arr],bins=1,color='r',alpha=0.55)\n",
    "baxes.vlines(pd_mean,0,20,color='green',linestyle='dashed')"
   ]
  },
  {
   "cell_type": "code",
   "execution_count": 149,
   "metadata": {},
   "outputs": [
    {
     "data": {
      "text/plain": [
       "Text(0.5, 1.0, 'PVI Plot (Pneum w/ tubes)')"
      ]
     },
     "execution_count": 149,
     "metadata": {},
     "output_type": "execute_result"
    },
    {
     "data": {
      "image/png": "[encoded data removed]",
      "text/plain": [
       "<Figure size 504x504 with 1 Axes>"
      ]
     },
     "metadata": {},
     "output_type": "display_data"
    }
   ],
   "source": [
    "plt.figure(figsize=(7,7)) \n",
    "ylim = 120\n",
    "plt.hist(-batch_info['pvi'][mask],bins=30)\n",
    "# plt.axvline(x=neg_pvi_mean,marker='-')\n",
    "plt.vlines(neg_pvi_mean,0,ylim,color='green',linestyle='dashed')\n",
    "plt.ylim(0,ylim)\n",
    "plt.xlabel('-PVI',fontsize=15)  \n",
    "plt.ylabel('No. of Images',fontsize=15)  \n",
    "plt.tick_params(axis='both', which='major', labelsize=13)\n",
    "plt.title('PVI Plot (Pneum w/ tubes)', fontsize=20)"
   ]
  },
  {
   "cell_type": "code",
   "execution_count": null,
   "metadata": {},
   "outputs": [],
   "source": []
  },
  {
   "cell_type": "code",
   "execution_count": 127,
   "metadata": {},
   "outputs": [
    {
     "name": "stdout",
     "output_type": "stream",
     "text": [
      "75.33333333333333 0.23284215723250165\n"
     ]
    }
   ],
   "source": [
    "print(pd_mean,neg_pvi_mean)"
   ]
  },
  {
   "cell_type": "code",
   "execution_count": 144,
   "metadata": {},
   "outputs": [
    {
     "data": {
      "text/plain": [
       "array([0.97, 1.  , 1.  , 0.53, 0.98, 0.94, 0.91, 0.8 , 0.73, 0.94, 1.  ,\n",
       "       0.91, 0.88, 0.52, 0.99, 0.99, 0.89, 0.65, 1.  , 0.58, 0.99, 1.  ,\n",
       "       0.8 , 1.  , 0.52, 1.  , 0.79, 0.73, 0.83, 0.97, 0.62, 1.  , 0.99,\n",
       "       0.91, 0.85, 0.99, 1.  , 0.91, 0.76, 0.96, 1.  , 0.85, 0.81, 0.94,\n",
       "       0.97, 0.74, 0.95, 1.  , 0.73, 1.  , 0.83, 0.62, 1.  , 0.97, 0.93,\n",
       "       0.99, 1.  , 0.87, 0.99, 0.93, 0.7 , 1.  , 0.93, 0.89, 1.  , 1.  ,\n",
       "       0.84, 1.  , 1.  , 1.  , 0.86, 0.85, 1.  , 1.  , 1.  , 1.  , 0.69,\n",
       "       0.72, 0.99, 0.83])"
      ]
     },
     "execution_count": 144,
     "metadata": {},
     "output_type": "execute_result"
    }
   ],
   "source": []
  },
  {
   "cell_type": "code",
   "execution_count": 139,
   "metadata": {},
   "outputs": [
    {
     "data": {
      "text/plain": [
       "array([ True, False, False,  True,  True, False,  True,  True,  True,\n",
       "        True,  True,  True,  True,  True,  True,  True, False,  True,\n",
       "       False, False,  True,  True,  True,  True, False,  True, False,\n",
       "        True, False, False,  True,  True, False,  True,  True,  True,\n",
       "       False, False, False,  True,  True,  True, False, False, False,\n",
       "        True, False,  True, False,  True,  True,  True,  True,  True,\n",
       "       False, False, False,  True,  True,  True, False,  True, False,\n",
       "       False, False,  True,  True,  True,  True, False, False,  True,\n",
       "       False,  True, False,  True,  True,  True, False,  True,  True,\n",
       "       False, False, False, False,  True,  True, False,  True, False,\n",
       "        True, False, False,  True,  True,  True,  True, False, False,\n",
       "        True,  True, False, False,  True, False,  True, False, False,\n",
       "       False, False, False, False, False, False,  True, False, False,\n",
       "        True,  True, False, False,  True,  True,  True,  True, False,\n",
       "        True, False,  True, False, False,  True,  True, False,  True,\n",
       "        True,  True,  True,  True,  True, False, False, False,  True,\n",
       "       False, False, False, False, False, False])"
      ]
     },
     "execution_count": 139,
     "metadata": {},
     "output_type": "execute_result"
    }
   ],
   "source": []
  },
  {
   "cell_type": "markdown",
   "metadata": {},
   "source": [
    "# Compute PVI Toy data"
   ]
  },
  {
   "cell_type": "code",
   "execution_count": 25,
   "metadata": {},
   "outputs": [],
   "source": [
    "'''\n",
    "/xxx/home/xxx/xxx22p/xxx/projects/shortcut_detection_and_mitigation/data/nih/pd_analysis/imgsize_128/nih_shortcut/nih_shortcut_l1_pos_notube_v3.pkl\n",
    "/xxx/home/xxx/xxx22p/xxx/projects/shortcut_detection_and_mitigation/data/nih/pd_analysis/imgsize_128/nih_shortcut/nih_shortcut_l1_pos_tube_v3.pkl\n",
    "/xxx/home/xxx/xxx22p/xxx/projects/shortcut_detection_and_mitigation/experiments/toy_expts/output/batch1/vgg16_kmnist_27437_testPDinfo.pkl\n",
    "/xxx/home/xxx/xxx22p/xxx/projects/shortcut_detection_and_mitigation/experiments/toy_expts/output/batch1/vgg16_kmnist_patch_48316_testPDinfo.pkl\n",
    "'''\n",
    "# plot PDs histogram\n",
    "with open('/xxx/home/xxx/xxx22p/xxx/projects/shortcut_detection_and_mitigation/experiments/toy_expts/output/vgg16_kmnist_patch_86506_testPDinfo.pkl', 'rb') as handle:\n",
    "    batch_info = pickle.load(handle)"
   ]
  },
  {
   "cell_type": "code",
   "execution_count": 26,
   "metadata": {},
   "outputs": [],
   "source": [
    "batch_info['pd'] = np.array(batch_info['pd'])\n",
    "batch_info['labels'] = np.array(batch_info['labels'])\n",
    "batch_info['preds'] = np.array(batch_info['preds'])\n",
    "batch_info['pred_probs'] = np.array(batch_info['pred_probs'])\n",
    "batch_info['pvi'] = np.log2(batch_info['pred_probs']+1e-10)\n",
    "\n",
    "pred_cls = (batch_info['preds']>0.5).astype(int)\n",
    "correct_preds_arr = (pred_cls==batch_info['labels'])"
   ]
  },
  {
   "cell_type": "code",
   "execution_count": 27,
   "metadata": {},
   "outputs": [
    {
     "name": "stdout",
     "output_type": "stream",
     "text": [
      "pd_mean=1.12, neg_pvi_mean=0.0024905918904872476\n"
     ]
    }
   ],
   "source": [
    "mask = correct_preds_arr & (batch_info['pd']>=0) & (batch_info['pd']<=17)\n",
    "pd_mean = np.mean(batch_info['pd'][mask])\n",
    "neg_pvi_mean = np.mean(-batch_info['pvi'][mask])\n",
    "print(f'pd_mean={pd_mean}, neg_pvi_mean={neg_pvi_mean}')"
   ]
  },
  {
   "cell_type": "code",
   "execution_count": 28,
   "metadata": {},
   "outputs": [
    {
     "data": {
      "text/plain": [
       "<matplotlib.collections.LineCollection at 0x147799a6f160>"
      ]
     },
     "execution_count": 28,
     "metadata": {},
     "output_type": "execute_result"
    },
    {
     "data": {
      "image/png": "[encoded data removed]",
      "text/plain": [
       "<Figure size 504x504 with 1 Axes>"
      ]
     },
     "metadata": {},
     "output_type": "display_data"
    }
   ],
   "source": [
    "sns.set(style=\"darkgrid\")\n",
    "\n",
    "plt.figure(figsize=(7,7))\n",
    "plt.title('Prediction Depth (VGG16)', fontsize=22)\n",
    "plt.ylabel('No. of Images', fontsize=20)\n",
    "plt.xlabel('Layer', fontsize=20)\n",
    "plt.xlim((0,16))\n",
    "# plt.ylim((0,550))\n",
    "plt.xticks(fontsize = 16)\n",
    "plt.yticks(fontsize = 16)\n",
    "\n",
    "pd_mean = np.mean(batch_info['pd'][mask])\n",
    "\n",
    "sns_hist = sns.histplot(batch_info['pd'],bins=100)\n",
    "sns_hist.vlines(pd_mean,0,100,color='peru',linestyle='dashed',linewidth=2)"
   ]
  },
  {
   "cell_type": "code",
   "execution_count": 30,
   "metadata": {},
   "outputs": [
    {
     "data": {
      "text/plain": [
       "Text(0.5, 1.0, 'PVI Plot (Pneum w/ tubes)')"
      ]
     },
     "execution_count": 30,
     "metadata": {},
     "output_type": "execute_result"
    },
    {
     "data": {
      "image/png": "[encoded data removed]",
      "text/plain": [
       "<Figure size 504x504 with 1 Axes>"
      ]
     },
     "metadata": {},
     "output_type": "display_data"
    }
   ],
   "source": [
    "plt.figure(figsize=(7,7)) \n",
    "ylim = 5\n",
    "plt.hist(-batch_info['pvi'][mask],bins=30)\n",
    "# plt.axvline(x=neg_pvi_mean,marker='-')\n",
    "plt.vlines(neg_pvi_mean,0,ylim,color='green',linestyle='dashed')\n",
    "plt.ylim(0,ylim)\n",
    "plt.xlabel('-PVI',fontsize=15)  \n",
    "plt.ylabel('No. of Images',fontsize=15)  \n",
    "plt.tick_params(axis='both', which='major', labelsize=13)\n",
    "plt.title('PVI Plot (Pneum w/ tubes)', fontsize=20)"
   ]
  },
  {
   "cell_type": "code",
   "execution_count": null,
   "metadata": {},
   "outputs": [],
   "source": []
  },
  {
   "cell_type": "code",
   "execution_count": null,
   "metadata": {},
   "outputs": [],
   "source": []
  },
  {
   "cell_type": "code",
   "execution_count": null,
   "metadata": {},
   "outputs": [],
   "source": []
  },
  {
   "cell_type": "code",
   "execution_count": null,
   "metadata": {},
   "outputs": [],
   "source": []
  },
  {
   "cell_type": "code",
   "execution_count": null,
   "metadata": {},
   "outputs": [],
   "source": []
  },
  {
   "cell_type": "code",
   "execution_count": null,
   "metadata": {},
   "outputs": [],
   "source": []
  },
  {
   "cell_type": "markdown",
   "metadata": {},
   "source": [
    "# Misc"
   ]
  },
  {
   "cell_type": "code",
   "execution_count": null,
   "metadata": {},
   "outputs": [],
   "source": [
    "import pandas as pd\n",
    "df = pd.read_csv('/xxx/home/xxx/xxx22p/xxx/projects/shortcut_detection_and_mitigation/experiments/medical_expts/nih/512/nih.csv')\n"
   ]
  },
  {
   "cell_type": "code",
   "execution_count": null,
   "metadata": {},
   "outputs": [],
   "source": [
    "# df = df[df['test_split']==1]\n",
    "# df0 = df[df['Pneumothorax']==0].sample(2000)\n",
    "# df1 = df[df['Pneumothorax']==1].sample(2000)\n",
    "# df_final = pd.concat([df0,df1]).sample(frac=1)\n",
    "# df_final.to_csv('/xxx/home/xxx/xxx22p/xxx/projects/shortcut_detection_and_mitigation/experiments/medical_expts/nih/512/nih_subset.csv',index=False)"
   ]
  },
  {
   "cell_type": "code",
   "execution_count": null,
   "metadata": {},
   "outputs": [],
   "source": [
    "# df = pd.read_csv('/xxx/home/xxx/xxx22p/xxx/projects/shortcut_detection_and_mitigation/experiments/medical_expts/mimic/512/raw_test.csv')\n",
    "# df1 = df[df['pneumothorax']==1]\n",
    "# df0 = df[df['pneumothorax']==0].sample(916)\n",
    "# pd.concat([df0,df1]).sample(frac=1).to_csv('/xxx/home/xxx/xxx22p/xxx/projects/shortcut_detection_and_mitigation/experiments/medical_expts/mimic/512/mimic_test.csv',index=False)"
   ]
  },
  {
   "cell_type": "code",
   "execution_count": null,
   "metadata": {},
   "outputs": [],
   "source": []
  },
  {
   "cell_type": "code",
   "execution_count": null,
   "metadata": {},
   "outputs": [],
   "source": []
  },
  {
   "cell_type": "code",
   "execution_count": null,
   "metadata": {},
   "outputs": [],
   "source": []
  },
  {
   "cell_type": "code",
   "execution_count": null,
   "metadata": {},
   "outputs": [],
   "source": []
  },
  {
   "cell_type": "code",
   "execution_count": null,
   "metadata": {},
   "outputs": [],
   "source": []
  },
  {
   "cell_type": "code",
   "execution_count": null,
   "metadata": {},
   "outputs": [],
   "source": []
  },
  {
   "cell_type": "code",
   "execution_count": null,
   "metadata": {},
   "outputs": [],
   "source": []
  },
  {
   "cell_type": "code",
   "execution_count": null,
   "metadata": {},
   "outputs": [],
   "source": []
  },
  {
   "cell_type": "code",
   "execution_count": null,
   "metadata": {},
   "outputs": [],
   "source": []
  },
  {
   "cell_type": "code",
   "execution_count": null,
   "metadata": {},
   "outputs": [],
   "source": []
  },
  {
   "cell_type": "code",
   "execution_count": null,
   "metadata": {},
   "outputs": [],
   "source": []
  },
  {
   "cell_type": "code",
   "execution_count": null,
   "metadata": {},
   "outputs": [],
   "source": []
  },
  {
   "cell_type": "code",
   "execution_count": null,
   "metadata": {},
   "outputs": [],
   "source": []
  },
  {
   "cell_type": "code",
   "execution_count": null,
   "metadata": {},
   "outputs": [],
   "source": []
  }
 ],
 "metadata": {
  "kernelspec": {
   "display_name": "pl",
   "language": "python",
   "name": "pl"
  },
  "language_info": {
   "codemirror_mode": {
    "name": "ipython",
    "version": 3
   },
   "file_extension": ".py",
   "mimetype": "text/x-python",
   "name": "python",
   "nbconvert_exporter": "python",
   "pygments_lexer": "ipython3",
   "version": "3.9.7"
  }
 },
 "nbformat": 4,
 "nbformat_minor": 4
}
